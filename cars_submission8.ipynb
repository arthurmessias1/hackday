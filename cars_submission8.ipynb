{
 "cells": [
  {
   "cell_type": "markdown",
   "metadata": {
    "jp-MarkdownHeadingCollapsed": true,
    "tags": []
   },
   "source": [
    "# 0. Importação de Bibliotecas e Setup do Ambiente"
   ]
  },
  {
   "cell_type": "code",
   "execution_count": 7,
   "metadata": {
    "ExecuteTime": {
     "end_time": "2022-08-21T20:21:54.523196Z",
     "start_time": "2022-08-21T20:21:54.508200Z"
    },
    "jupyter": {
     "source_hidden": true
    },
    "tags": []
   },
   "outputs": [
    {
     "ename": "ModuleNotFoundError",
     "evalue": "No module named 'sklearn'",
     "output_type": "error",
     "traceback": [
      "\u001b[0;31m---------------------------------------------------------------------------\u001b[0m",
      "\u001b[0;31mModuleNotFoundError\u001b[0m                       Traceback (most recent call last)",
      "\u001b[1;32m/Users/arthurmessias/Library/CloudStorage/OneDrive-Pessoal/Studies/Meigarom/hackday/cars_submission8.ipynb Cell 2\u001b[0m in \u001b[0;36m<cell line: 11>\u001b[0;34m()\u001b[0m\n\u001b[1;32m      <a href='vscode-notebook-cell:/Users/arthurmessias/Library/CloudStorage/OneDrive-Pessoal/Studies/Meigarom/hackday/cars_submission8.ipynb#W1sZmlsZQ%3D%3D?line=7'>8</a>\u001b[0m \u001b[39mimport\u001b[39;00m \u001b[39msweetviz\u001b[39;00m \u001b[39mas\u001b[39;00m \u001b[39msv\u001b[39;00m\n\u001b[1;32m     <a href='vscode-notebook-cell:/Users/arthurmessias/Library/CloudStorage/OneDrive-Pessoal/Studies/Meigarom/hackday/cars_submission8.ipynb#W1sZmlsZQ%3D%3D?line=9'>10</a>\u001b[0m \u001b[39m# Machine Learning\u001b[39;00m\n\u001b[0;32m---> <a href='vscode-notebook-cell:/Users/arthurmessias/Library/CloudStorage/OneDrive-Pessoal/Studies/Meigarom/hackday/cars_submission8.ipynb#W1sZmlsZQ%3D%3D?line=10'>11</a>\u001b[0m \u001b[39mfrom\u001b[39;00m \u001b[39msklearn\u001b[39;00m \u001b[39mimport\u001b[39;00m model_selection \u001b[39mas\u001b[39;00m ms\n\u001b[1;32m     <a href='vscode-notebook-cell:/Users/arthurmessias/Library/CloudStorage/OneDrive-Pessoal/Studies/Meigarom/hackday/cars_submission8.ipynb#W1sZmlsZQ%3D%3D?line=11'>12</a>\u001b[0m \u001b[39mfrom\u001b[39;00m \u001b[39msklearn\u001b[39;00m \u001b[39mimport\u001b[39;00m preprocessing   \u001b[39mas\u001b[39;00m pp\n\u001b[1;32m     <a href='vscode-notebook-cell:/Users/arthurmessias/Library/CloudStorage/OneDrive-Pessoal/Studies/Meigarom/hackday/cars_submission8.ipynb#W1sZmlsZQ%3D%3D?line=12'>13</a>\u001b[0m \u001b[39mfrom\u001b[39;00m \u001b[39msklearn\u001b[39;00m\u001b[39m.\u001b[39;00m\u001b[39mpreprocessing\u001b[39;00m \u001b[39mimport\u001b[39;00m LabelEncoder\n",
      "\u001b[0;31mModuleNotFoundError\u001b[0m: No module named 'sklearn'"
     ]
    }
   ],
   "source": [
    "import numpy as np # linear algebra\n",
    "import pandas as pd # data processing, CSV file I/O (e.g. pd.read_csv)\n",
    "import scipy.stats as stats \n",
    "\n",
    "#Visualization\n",
    "from matplotlib import pyplot as plt\n",
    "import seaborn as sns\n",
    "import sweetviz as sv\n",
    "\n",
    "# Machine Learning\n",
    "from sklearn import model_selection as ms\n",
    "from sklearn import preprocessing   as pp\n",
    "from sklearn.preprocessing import LabelEncoder\n",
    "\n",
    "\n",
    "from sklearn import datasets\n",
    "from sklearn import metrics\n",
    "from sklearn.utils import shuffle\n",
    "from sklearn.pipeline import Pipeline\n",
    "from sklearn.impute import SimpleImputer\n",
    "from sklearn.preprocessing import OrdinalEncoder\n",
    "from sklearn.ensemble import RandomForestClassifier\n",
    "from sklearn.model_selection import train_test_split\n",
    "from sklearn.preprocessing import StandardScaler\n",
    "from sklearn.inspection import permutation_importance\n",
    "from sklearn.model_selection import RandomizedSearchCV\n",
    "\n",
    "import lightgbm as ltb\n",
    "import xgboost as xgb\n",
    "\n",
    "## LazyPredict - AutoML\n",
    "# https://github.com/shankarpandala/lazypredict\n",
    "# from lazypredict.Supervised import LazyRegressor\n",
    "\n",
    "#Others\n",
    "# import pickle\n",
    "import warnings\n",
    "from IPython.display       import Image\n",
    "\n",
    "warnings.filterwarnings( 'ignore' )\n",
    "\n",
    "pd.set_option('display.max_rows', 500)\n",
    "pd.set_option('display.max_columns', 500)\n",
    "pd.set_option('display.width', 1000)"
   ]
  },
  {
   "cell_type": "code",
   "execution_count": null,
   "metadata": {
    "ExecuteTime": {
     "end_time": "2022-08-21T20:21:54.538142Z",
     "start_time": "2022-08-21T20:21:54.525155Z"
    }
   },
   "outputs": [],
   "source": [
    "# !pip install shap"
   ]
  },
  {
   "cell_type": "code",
   "execution_count": null,
   "metadata": {
    "ExecuteTime": {
     "end_time": "2022-08-21T20:21:54.553116Z",
     "start_time": "2022-08-21T20:21:54.540115Z"
    }
   },
   "outputs": [],
   "source": [
    "import shap"
   ]
  },
  {
   "cell_type": "code",
   "execution_count": null,
   "metadata": {
    "ExecuteTime": {
     "end_time": "2022-08-21T20:21:54.584000Z",
     "start_time": "2022-08-21T20:21:54.556072Z"
    }
   },
   "outputs": [
    {
     "name": "stdout",
     "output_type": "stream",
     "text": [
      "%pylab is deprecated, use %matplotlib inline and import the required libraries.\n",
      "Populating the interactive namespace from numpy and matplotlib\n"
     ]
    }
   ],
   "source": [
    "def jupyter_settings():\n",
    "    %matplotlib inline\n",
    "    %pylab inline\n",
    "    plt.style.use( 'bmh' )\n",
    "    plt.rcParams['figure.figsize'] = [25, 12]\n",
    "    plt.rcParams['font.size'] = 24\n",
    "    pd.options.display.max_columns = None\n",
    "    pd.options.display.max_rows = None\n",
    "    pd.set_option( 'display.expand_frame_repr', False )\n",
    "    sns.set()\n",
    "    \n",
    "def diagnostic(df, variable):\n",
    "    # plot the histograms to have a quick look at the distributions\n",
    "    # we can plot Q-Q plots to visualise if the variable is normally distributed\n",
    "    # function to plot a histogram and a Q-Q plot\n",
    "    # side by side, for a certain variable\n",
    "    \n",
    "    plt.figure(figsize=(15,6))\n",
    "    plt.subplot(1, 2, 1)\n",
    "    df[variable].hist()\n",
    "\n",
    "    plt.subplot(1, 2, 2)\n",
    "    stats.probplot(df[variable], dist=\"norm\", plot=pylab)\n",
    "\n",
    "    plt.show()\n",
    "    \n",
    "jupyter_settings()"
   ]
  },
  {
   "cell_type": "markdown",
   "metadata": {
    "jp-MarkdownHeadingCollapsed": true,
    "tags": []
   },
   "source": [
    "# 1. Importação dos Datasets"
   ]
  },
  {
   "cell_type": "code",
   "execution_count": null,
   "metadata": {
    "ExecuteTime": {
     "end_time": "2022-08-21T20:21:54.908952Z",
     "start_time": "2022-08-21T20:21:54.585959Z"
    }
   },
   "outputs": [],
   "source": [
    "# path = r'C:\\Users\\Arthur Messias\\Downloads\\mobilitycars\\treino.csv'\n",
    "path = 'treino.csv'\n",
    "df_raw = pd.read_csv(path)\n",
    "df_train = df_raw.copy()"
   ]
  },
  {
   "cell_type": "code",
   "execution_count": null,
   "metadata": {
    "ExecuteTime": {
     "end_time": "2022-08-21T20:21:55.237156Z",
     "start_time": "2022-08-21T20:21:54.910947Z"
    }
   },
   "outputs": [],
   "source": [
    "# pathvalidation = r'C:\\Users\\Arthur Messias\\Downloads\\mobilitycars\\teste.csv'\n",
    "pathvalidation = 'teste.csv'\n",
    "df_validation_raw = pd.read_csv(pathvalidation)\n",
    "df_validation= df_validation_raw.copy()"
   ]
  },
  {
   "cell_type": "markdown",
   "metadata": {
    "jp-MarkdownHeadingCollapsed": true,
    "tags": []
   },
   "source": [
    "# 2. Exploração e Limpeza de dados"
   ]
  },
  {
   "cell_type": "markdown",
   "metadata": {
    "ExecuteTime": {
     "end_time": "2022-08-20T22:21:01.661471Z",
     "start_time": "2022-08-20T22:21:01.653032Z"
    },
    "jp-MarkdownHeadingCollapsed": true,
    "tags": []
   },
   "source": [
    "## 2.1 Visualização Preliminar dos Dados"
   ]
  },
  {
   "cell_type": "code",
   "execution_count": null,
   "metadata": {
    "ExecuteTime": {
     "end_time": "2022-08-21T20:21:55.283085Z",
     "start_time": "2022-08-21T20:21:55.241145Z"
    }
   },
   "outputs": [
    {
     "data": {
      "text/html": [
       "<div>\n",
       "<style scoped>\n",
       "    .dataframe tbody tr th:only-of-type {\n",
       "        vertical-align: middle;\n",
       "    }\n",
       "\n",
       "    .dataframe tbody tr th {\n",
       "        vertical-align: top;\n",
       "    }\n",
       "\n",
       "    .dataframe thead th {\n",
       "        text-align: right;\n",
       "    }\n",
       "</style>\n",
       "<table border=\"1\" class=\"dataframe\">\n",
       "  <thead>\n",
       "    <tr style=\"text-align: right;\">\n",
       "      <th></th>\n",
       "      <th>ID</th>\n",
       "      <th>num_fotos</th>\n",
       "      <th>marca</th>\n",
       "      <th>modelo</th>\n",
       "      <th>versao</th>\n",
       "      <th>ano_de_fabricacao</th>\n",
       "      <th>ano_modelo</th>\n",
       "      <th>odometro</th>\n",
       "      <th>cambio</th>\n",
       "      <th>num_portas</th>\n",
       "      <th>tipo</th>\n",
       "      <th>blindado</th>\n",
       "      <th>cor</th>\n",
       "      <th>tipo_vendedor</th>\n",
       "      <th>cidade_vendedor</th>\n",
       "      <th>estado_vendedor</th>\n",
       "      <th>tipo_anuncio</th>\n",
       "      <th>entrega_delivery</th>\n",
       "      <th>troca</th>\n",
       "      <th>elegivel_revisao</th>\n",
       "      <th>attr_veiculo_aceita_troca</th>\n",
       "      <th>attr_veiculo_único_dono</th>\n",
       "      <th>attr_veiculo_todas_as_revisões_feitas_pela_concessionária</th>\n",
       "      <th>attr_veiculo_ipva_pago</th>\n",
       "      <th>attr_veiculo_licenciado</th>\n",
       "      <th>attr_veiculo_garantia_de_fábrica</th>\n",
       "      <th>attr_veiculo_todas_as_revisões_feitas_pela_agenda_do_carro</th>\n",
       "      <th>attr_veiculo_alienado</th>\n",
       "      <th>preco</th>\n",
       "    </tr>\n",
       "  </thead>\n",
       "  <tbody>\n",
       "    <tr>\n",
       "      <th>22786</th>\n",
       "      <td>310303343511260806266777028372453766430</td>\n",
       "      <td>8.0</td>\n",
       "      <td>VOLKSWAGEN</td>\n",
       "      <td>SAVEIRO</td>\n",
       "      <td>1.6 CROSS CD 16V FLEX 2P MANUAL</td>\n",
       "      <td>2019</td>\n",
       "      <td>2019.0</td>\n",
       "      <td>33688.0</td>\n",
       "      <td>Manual</td>\n",
       "      <td>4</td>\n",
       "      <td>Picape</td>\n",
       "      <td>N</td>\n",
       "      <td>Branco</td>\n",
       "      <td>PF</td>\n",
       "      <td>Joanópolis</td>\n",
       "      <td>Rio de Janeiro (RJ)</td>\n",
       "      <td>Pessoa Física</td>\n",
       "      <td>False</td>\n",
       "      <td>False</td>\n",
       "      <td>False</td>\n",
       "      <td>NaN</td>\n",
       "      <td>Único dono</td>\n",
       "      <td>NaN</td>\n",
       "      <td>IPVA pago</td>\n",
       "      <td>Licenciado</td>\n",
       "      <td>NaN</td>\n",
       "      <td>NaN</td>\n",
       "      <td>NaN</td>\n",
       "      <td>30832.249084</td>\n",
       "    </tr>\n",
       "    <tr>\n",
       "      <th>28800</th>\n",
       "      <td>286052636010640997320689839186590643847</td>\n",
       "      <td>8.0</td>\n",
       "      <td>BMW</td>\n",
       "      <td>430i</td>\n",
       "      <td>2.0 16V GASOLINA GRAN COUPÉ M SPORT AUTOMÁTICO</td>\n",
       "      <td>2018</td>\n",
       "      <td>2018.0</td>\n",
       "      <td>56765.0</td>\n",
       "      <td>Automática</td>\n",
       "      <td>4</td>\n",
       "      <td>Picape</td>\n",
       "      <td>N</td>\n",
       "      <td>Branco</td>\n",
       "      <td>PF</td>\n",
       "      <td>São Paulo</td>\n",
       "      <td>São Paulo (SP)</td>\n",
       "      <td>Pessoa Física</td>\n",
       "      <td>False</td>\n",
       "      <td>False</td>\n",
       "      <td>False</td>\n",
       "      <td>Aceita troca</td>\n",
       "      <td>Único dono</td>\n",
       "      <td>NaN</td>\n",
       "      <td>IPVA pago</td>\n",
       "      <td>Licenciado</td>\n",
       "      <td>NaN</td>\n",
       "      <td>NaN</td>\n",
       "      <td>NaN</td>\n",
       "      <td>172500.888860</td>\n",
       "    </tr>\n",
       "  </tbody>\n",
       "</table>\n",
       "</div>"
      ],
      "text/plain": [
       "                                            ID  num_fotos       marca   modelo                                          versao  ano_de_fabricacao  ano_modelo  odometro      cambio  num_portas    tipo blindado     cor tipo_vendedor cidade_vendedor      estado_vendedor   tipo_anuncio  entrega_delivery  troca  elegivel_revisao attr_veiculo_aceita_troca attr_veiculo_único_dono attr_veiculo_todas_as_revisões_feitas_pela_concessionária attr_veiculo_ipva_pago attr_veiculo_licenciado attr_veiculo_garantia_de_fábrica attr_veiculo_todas_as_revisões_feitas_pela_agenda_do_carro  attr_veiculo_alienado          preco\n",
       "22786  310303343511260806266777028372453766430        8.0  VOLKSWAGEN  SAVEIRO                 1.6 CROSS CD 16V FLEX 2P MANUAL               2019      2019.0   33688.0      Manual           4  Picape        N  Branco            PF      Joanópolis  Rio de Janeiro (RJ)  Pessoa Física             False  False             False                       NaN              Único dono                                                NaN                     IPVA pago              Licenciado                              NaN                                                NaN                            NaN   30832.249084\n",
       "28800  286052636010640997320689839186590643847        8.0         BMW     430i  2.0 16V GASOLINA GRAN COUPÉ M SPORT AUTOMÁTICO               2018      2018.0   56765.0  Automática           4  Picape        N  Branco            PF       São Paulo       São Paulo (SP)  Pessoa Física             False  False             False              Aceita troca              Único dono                                                NaN                     IPVA pago              Licenciado                              NaN                                                NaN                            NaN  172500.888860"
      ]
     },
     "execution_count": 1317,
     "metadata": {},
     "output_type": "execute_result"
    }
   ],
   "source": [
    "df_train.sample(2)"
   ]
  },
  {
   "cell_type": "markdown",
   "metadata": {
    "jp-MarkdownHeadingCollapsed": true,
    "tags": []
   },
   "source": [
    "## 2.2. Data Dimensions and Columns"
   ]
  },
  {
   "cell_type": "code",
   "execution_count": null,
   "metadata": {
    "ExecuteTime": {
     "end_time": "2022-08-21T20:21:55.298591Z",
     "start_time": "2022-08-21T20:21:55.285080Z"
    }
   },
   "outputs": [
    {
     "name": "stdout",
     "output_type": "stream",
     "text": [
      "number of rows: 39446\n",
      "number of columns: 29\n"
     ]
    },
    {
     "data": {
      "text/plain": [
       "Index(['ID', 'num_fotos', 'marca', 'modelo', 'versao', 'ano_de_fabricacao', 'ano_modelo', 'odometro', 'cambio', 'num_portas', 'tipo', 'blindado', 'cor', 'tipo_vendedor', 'cidade_vendedor', 'estado_vendedor', 'tipo_anuncio', 'entrega_delivery', 'troca', 'elegivel_revisao', 'attr_veiculo_aceita_troca', 'attr_veiculo_único_dono', 'attr_veiculo_todas_as_revisões_feitas_pela_concessionária', 'attr_veiculo_ipva_pago', 'attr_veiculo_licenciado', 'attr_veiculo_garantia_de_fábrica', 'attr_veiculo_todas_as_revisões_feitas_pela_agenda_do_carro', 'attr_veiculo_alienado', 'preco'], dtype='object')"
      ]
     },
     "execution_count": 1318,
     "metadata": {},
     "output_type": "execute_result"
    }
   ],
   "source": [
    "print(f'number of rows: {df_train.shape[0]}')\n",
    "print(f'number of columns: {df_train.shape[1]}')\n",
    "\n",
    "df_train.columns  # already in snake case! :)"
   ]
  },
  {
   "cell_type": "markdown",
   "metadata": {
    "jp-MarkdownHeadingCollapsed": true,
    "tags": []
   },
   "source": [
    "## 2.3. Data Types"
   ]
  },
  {
   "cell_type": "code",
   "execution_count": null,
   "metadata": {
    "ExecuteTime": {
     "end_time": "2022-08-21T20:21:55.454087Z",
     "start_time": "2022-08-21T20:21:55.300553Z"
    }
   },
   "outputs": [
    {
     "name": "stdout",
     "output_type": "stream",
     "text": [
      "<class 'pandas.core.frame.DataFrame'>\n",
      "RangeIndex: 39446 entries, 0 to 39445\n",
      "Data columns (total 29 columns):\n",
      " #   Column                                                      Non-Null Count  Dtype  \n",
      "---  ------                                                      --------------  -----  \n",
      " 0   ID                                                          39446 non-null  object \n",
      " 1   num_fotos                                                   39209 non-null  float64\n",
      " 2   marca                                                       39446 non-null  object \n",
      " 3   modelo                                                      39446 non-null  object \n",
      " 4   versao                                                      39446 non-null  object \n",
      " 5   ano_de_fabricacao                                           39446 non-null  int64  \n",
      " 6   ano_modelo                                                  39446 non-null  float64\n",
      " 7   odometro                                                    39446 non-null  float64\n",
      " 8   cambio                                                      39446 non-null  object \n",
      " 9   num_portas                                                  39446 non-null  int64  \n",
      " 10  tipo                                                        39446 non-null  object \n",
      " 11  blindado                                                    39446 non-null  object \n",
      " 12  cor                                                         39446 non-null  object \n",
      " 13  tipo_vendedor                                               39446 non-null  object \n",
      " 14  cidade_vendedor                                             39446 non-null  object \n",
      " 15  estado_vendedor                                             39446 non-null  object \n",
      " 16  tipo_anuncio                                                39446 non-null  object \n",
      " 17  entrega_delivery                                            39446 non-null  bool   \n",
      " 18  troca                                                       39446 non-null  bool   \n",
      " 19  elegivel_revisao                                            39446 non-null  bool   \n",
      " 20  attr_veiculo_aceita_troca                                   29230 non-null  object \n",
      " 21  attr_veiculo_único_dono                                     13898 non-null  object \n",
      " 22  attr_veiculo_todas_as_revisões_feitas_pela_concessionária   12239 non-null  object \n",
      " 23  attr_veiculo_ipva_pago                                      26223 non-null  object \n",
      " 24  attr_veiculo_licenciado                                     21250 non-null  object \n",
      " 25  attr_veiculo_garantia_de_fábrica                            5788 non-null   object \n",
      " 26  attr_veiculo_todas_as_revisões_feitas_pela_agenda_do_carro  7903 non-null   object \n",
      " 27  attr_veiculo_alienado                                       0 non-null      float64\n",
      " 28  preco                                                       39446 non-null  float64\n",
      "dtypes: bool(3), float64(5), int64(2), object(19)\n",
      "memory usage: 7.9+ MB\n"
     ]
    }
   ],
   "source": [
    "df_train.info()"
   ]
  },
  {
   "cell_type": "markdown",
   "metadata": {
    "jp-MarkdownHeadingCollapsed": true,
    "tags": []
   },
   "source": [
    "## 2.4. Check NA"
   ]
  },
  {
   "cell_type": "code",
   "execution_count": null,
   "metadata": {
    "ExecuteTime": {
     "end_time": "2022-08-21T20:21:55.580475Z",
     "start_time": "2022-08-21T20:21:55.456050Z"
    }
   },
   "outputs": [
    {
     "data": {
      "text/plain": [
       "199274"
      ]
     },
     "execution_count": 1320,
     "metadata": {},
     "output_type": "execute_result"
    }
   ],
   "source": [
    "df_train.isna().sum().sum()"
   ]
  },
  {
   "cell_type": "code",
   "execution_count": null,
   "metadata": {
    "ExecuteTime": {
     "end_time": "2022-08-21T20:21:55.720955Z",
     "start_time": "2022-08-21T20:21:55.581433Z"
    },
    "jupyter": {
     "outputs_hidden": true
    },
    "tags": []
   },
   "outputs": [
    {
     "data": {
      "text/plain": [
       "ID                                                                0\n",
       "num_fotos                                                       237\n",
       "marca                                                             0\n",
       "modelo                                                            0\n",
       "versao                                                            0\n",
       "ano_de_fabricacao                                                 0\n",
       "ano_modelo                                                        0\n",
       "odometro                                                          0\n",
       "cambio                                                            0\n",
       "num_portas                                                        0\n",
       "tipo                                                              0\n",
       "blindado                                                          0\n",
       "cor                                                               0\n",
       "tipo_vendedor                                                     0\n",
       "cidade_vendedor                                                   0\n",
       "estado_vendedor                                                   0\n",
       "tipo_anuncio                                                      0\n",
       "entrega_delivery                                                  0\n",
       "troca                                                             0\n",
       "elegivel_revisao                                                  0\n",
       "attr_veiculo_aceita_troca                                     10216\n",
       "attr_veiculo_único_dono                                       25548\n",
       "attr_veiculo_todas_as_revisões_feitas_pela_concessionária     27207\n",
       "attr_veiculo_ipva_pago                                        13223\n",
       "attr_veiculo_licenciado                                       18196\n",
       "attr_veiculo_garantia_de_fábrica                              33658\n",
       "attr_veiculo_todas_as_revisões_feitas_pela_agenda_do_carro    31543\n",
       "attr_veiculo_alienado                                         39446\n",
       "preco                                                             0\n",
       "dtype: int64"
      ]
     },
     "execution_count": 1321,
     "metadata": {},
     "output_type": "execute_result"
    }
   ],
   "source": [
    "df_train.isna().sum()"
   ]
  },
  {
   "cell_type": "markdown",
   "metadata": {
    "jp-MarkdownHeadingCollapsed": true,
    "tags": []
   },
   "source": [
    "## 2.5. Check Non Unique"
   ]
  },
  {
   "cell_type": "code",
   "execution_count": null,
   "metadata": {
    "ExecuteTime": {
     "end_time": "2022-08-21T20:21:55.751021Z",
     "start_time": "2022-08-21T20:21:55.723050Z"
    }
   },
   "outputs": [
    {
     "name": "stdout",
     "output_type": "stream",
     "text": [
      "qtde de linhas: 39446  -  qtde de códigos únicos: 39446\n"
     ]
    }
   ],
   "source": [
    "print(f\"qtde de linhas: {df_train.shape[0]}  -  qtde de códigos únicos: {df_train['ID'].nunique()}\")"
   ]
  },
  {
   "cell_type": "code",
   "execution_count": null,
   "metadata": {
    "ExecuteTime": {
     "end_time": "2022-08-21T20:21:55.799076Z",
     "start_time": "2022-08-21T20:21:55.753054Z"
    }
   },
   "outputs": [
    {
     "data": {
      "text/html": [
       "<div>\n",
       "<style scoped>\n",
       "    .dataframe tbody tr th:only-of-type {\n",
       "        vertical-align: middle;\n",
       "    }\n",
       "\n",
       "    .dataframe tbody tr th {\n",
       "        vertical-align: top;\n",
       "    }\n",
       "\n",
       "    .dataframe thead th {\n",
       "        text-align: right;\n",
       "    }\n",
       "</style>\n",
       "<table border=\"1\" class=\"dataframe\">\n",
       "  <thead>\n",
       "    <tr style=\"text-align: right;\">\n",
       "      <th></th>\n",
       "      <th>0</th>\n",
       "      <th>1</th>\n",
       "      <th>2</th>\n",
       "      <th>3</th>\n",
       "      <th>4</th>\n",
       "      <th>5</th>\n",
       "      <th>6</th>\n",
       "      <th>7</th>\n",
       "      <th>8</th>\n",
       "      <th>9</th>\n",
       "      <th>10</th>\n",
       "      <th>11</th>\n",
       "      <th>12</th>\n",
       "      <th>13</th>\n",
       "      <th>14</th>\n",
       "      <th>15</th>\n",
       "      <th>16</th>\n",
       "      <th>17</th>\n",
       "      <th>18</th>\n",
       "      <th>19</th>\n",
       "      <th>20</th>\n",
       "      <th>21</th>\n",
       "      <th>22</th>\n",
       "      <th>23</th>\n",
       "      <th>24</th>\n",
       "      <th>25</th>\n",
       "      <th>26</th>\n",
       "      <th>27</th>\n",
       "      <th>28</th>\n",
       "      <th>29</th>\n",
       "      <th>30</th>\n",
       "      <th>31</th>\n",
       "      <th>32</th>\n",
       "      <th>33</th>\n",
       "      <th>34</th>\n",
       "      <th>35</th>\n",
       "      <th>36</th>\n",
       "      <th>37</th>\n",
       "      <th>38</th>\n",
       "      <th>39</th>\n",
       "      <th>40</th>\n",
       "    </tr>\n",
       "  </thead>\n",
       "  <tbody>\n",
       "    <tr>\n",
       "      <th>index</th>\n",
       "      <td>VOLKSWAGEN</td>\n",
       "      <td>CHEVROLET</td>\n",
       "      <td>TOYOTA</td>\n",
       "      <td>HYUNDAI</td>\n",
       "      <td>JEEP</td>\n",
       "      <td>FIAT</td>\n",
       "      <td>BMW</td>\n",
       "      <td>AUDI</td>\n",
       "      <td>PEUGEOT</td>\n",
       "      <td>HONDA</td>\n",
       "      <td>MERCEDES-BENZ</td>\n",
       "      <td>FORD</td>\n",
       "      <td>MITSUBISHI</td>\n",
       "      <td>LAND ROVER</td>\n",
       "      <td>RENAULT</td>\n",
       "      <td>NISSAN</td>\n",
       "      <td>KIA</td>\n",
       "      <td>PORSCHE</td>\n",
       "      <td>VOLVO</td>\n",
       "      <td>CITROËN</td>\n",
       "      <td>TROLLER</td>\n",
       "      <td>RAM</td>\n",
       "      <td>JAGUAR</td>\n",
       "      <td>CHERY</td>\n",
       "      <td>MINI</td>\n",
       "      <td>LEXUS</td>\n",
       "      <td>SUBARU</td>\n",
       "      <td>SUZUKI</td>\n",
       "      <td>DODGE</td>\n",
       "      <td>CHRYSLER</td>\n",
       "      <td>SSANGYONG</td>\n",
       "      <td>SMART</td>\n",
       "      <td>MASERATI</td>\n",
       "      <td>LIFAN</td>\n",
       "      <td>ALFA ROMEO</td>\n",
       "      <td>JAC</td>\n",
       "      <td>FERRARI</td>\n",
       "      <td>EFFA</td>\n",
       "      <td>IVECO</td>\n",
       "      <td>BRM</td>\n",
       "      <td>LAMBORGHINI</td>\n",
       "    </tr>\n",
       "    <tr>\n",
       "      <th>marca</th>\n",
       "      <td>6140</td>\n",
       "      <td>4020</td>\n",
       "      <td>2882</td>\n",
       "      <td>2740</td>\n",
       "      <td>2667</td>\n",
       "      <td>2523</td>\n",
       "      <td>2375</td>\n",
       "      <td>2291</td>\n",
       "      <td>2246</td>\n",
       "      <td>2097</td>\n",
       "      <td>1501</td>\n",
       "      <td>1445</td>\n",
       "      <td>1148</td>\n",
       "      <td>1027</td>\n",
       "      <td>711</td>\n",
       "      <td>583</td>\n",
       "      <td>565</td>\n",
       "      <td>470</td>\n",
       "      <td>363</td>\n",
       "      <td>248</td>\n",
       "      <td>223</td>\n",
       "      <td>221</td>\n",
       "      <td>212</td>\n",
       "      <td>202</td>\n",
       "      <td>182</td>\n",
       "      <td>91</td>\n",
       "      <td>54</td>\n",
       "      <td>51</td>\n",
       "      <td>47</td>\n",
       "      <td>40</td>\n",
       "      <td>20</td>\n",
       "      <td>16</td>\n",
       "      <td>12</td>\n",
       "      <td>10</td>\n",
       "      <td>10</td>\n",
       "      <td>5</td>\n",
       "      <td>2</td>\n",
       "      <td>2</td>\n",
       "      <td>2</td>\n",
       "      <td>1</td>\n",
       "      <td>1</td>\n",
       "    </tr>\n",
       "  </tbody>\n",
       "</table>\n",
       "</div>"
      ],
      "text/plain": [
       "               0          1       2        3     4     5     6     7        8      9              10    11          12          13       14      15   16       17     18       19       20   21      22     23    24     25      26      27     28        29         30     31        32     33          34   35       36    37     38   39           40\n",
       "index  VOLKSWAGEN  CHEVROLET  TOYOTA  HYUNDAI  JEEP  FIAT   BMW  AUDI  PEUGEOT  HONDA  MERCEDES-BENZ  FORD  MITSUBISHI  LAND ROVER  RENAULT  NISSAN  KIA  PORSCHE  VOLVO  CITROËN  TROLLER  RAM  JAGUAR  CHERY  MINI  LEXUS  SUBARU  SUZUKI  DODGE  CHRYSLER  SSANGYONG  SMART  MASERATI  LIFAN  ALFA ROMEO  JAC  FERRARI  EFFA  IVECO  BRM  LAMBORGHINI\n",
       "marca        6140       4020    2882     2740  2667  2523  2375  2291     2246   2097           1501  1445        1148        1027      711     583  565      470    363      248      223  221     212    202   182     91      54      51     47        40         20     16        12     10          10    5        2     2      2    1            1"
      ]
     },
     "execution_count": 1323,
     "metadata": {},
     "output_type": "execute_result"
    }
   ],
   "source": [
    "df_train['marca'].value_counts().reset_index().sort_index(ascending=True).T"
   ]
  },
  {
   "cell_type": "markdown",
   "metadata": {
    "jp-MarkdownHeadingCollapsed": true,
    "tags": []
   },
   "source": [
    "## 2.6. Column Labels Adjusting"
   ]
  },
  {
   "cell_type": "code",
   "execution_count": null,
   "metadata": {
    "ExecuteTime": {
     "end_time": "2022-08-21T20:21:55.814054Z",
     "start_time": "2022-08-21T20:21:55.801033Z"
    }
   },
   "outputs": [],
   "source": [
    "# TODO: Como são df's iguais em forma, criar uma function\n",
    "\n",
    "df_train.rename(columns = { 'attr_veiculo_aceita_troca': 'aceita_troca', \n",
    "                            'attr_veiculo_único_dono': 'unico_dono',\n",
    "                            'attr_veiculo_todas_as_revisões_feitas_pela_concessionária': 'revisoes',\n",
    "                            'attr_veiculo_ipva_pago': 'ipva_pago',\n",
    "                            'attr_veiculo_licenciado': 'licenciado',\n",
    "                            'attr_veiculo_garantia_de_fábrica': 'garantia_de_fabrica',\n",
    "                            'attr_veiculo_todas_as_revisões_feitas_pela_agenda_do_carro': 'revisoes_agenda',\n",
    "                            'attr_veiculo_alienado': 'alienado'\n",
    "                            }, inplace=True)\n",
    "\n",
    "df_validation.rename(columns = { 'attr_veiculo_aceita_troca': 'aceita_troca', \n",
    "                                  'attr_veiculo_único_dono': 'unico_dono',\n",
    "                                  'attr_veiculo_todas_as_revisões_feitas_pela_concessionária': 'revisoes',\n",
    "                                  'attr_veiculo_ipva_pago': 'ipva_pago',\n",
    "                                  'attr_veiculo_licenciado': 'licenciado',\n",
    "                                  'attr_veiculo_garantia_de_fábrica': 'garantia_de_fabrica',\n",
    "                                  'attr_veiculo_todas_as_revisões_feitas_pela_agenda_do_carro': 'revisoes_agenda',\n",
    "                                  'attr_veiculo_alienado': 'alienado'\n",
    "                                  }, inplace=True)"
   ]
  },
  {
   "cell_type": "code",
   "execution_count": null,
   "metadata": {
    "ExecuteTime": {
     "end_time": "2022-08-21T20:21:55.828958Z",
     "start_time": "2022-08-21T20:21:55.820979Z"
    }
   },
   "outputs": [
    {
     "data": {
      "text/plain": [
       "Index(['ID', 'num_fotos', 'marca', 'modelo', 'versao', 'ano_de_fabricacao', 'ano_modelo', 'odometro', 'cambio', 'num_portas', 'tipo', 'blindado', 'cor', 'tipo_vendedor', 'cidade_vendedor', 'estado_vendedor', 'tipo_anuncio', 'entrega_delivery', 'troca', 'elegivel_revisao', 'aceita_troca', 'unico_dono', 'revisoes', 'ipva_pago', 'licenciado', 'garantia_de_fabrica', 'revisoes_agenda', 'alienado', 'preco'], dtype='object')"
      ]
     },
     "execution_count": 1325,
     "metadata": {},
     "output_type": "execute_result"
    }
   ],
   "source": [
    "df_train.columns"
   ]
  },
  {
   "cell_type": "markdown",
   "metadata": {},
   "source": [
    "## 2.7. Fill NaN"
   ]
  },
  {
   "cell_type": "code",
   "execution_count": null,
   "metadata": {
    "ExecuteTime": {
     "end_time": "2022-08-21T20:21:55.983150Z",
     "start_time": "2022-08-21T20:21:55.830967Z"
    },
    "jupyter": {
     "source_hidden": true
    },
    "tags": []
   },
   "outputs": [],
   "source": [
    "## fill na\n",
    "df_train['num_fotos'] = df_train['num_fotos'].fillna(0)\n",
    "df_validation['num_fotos'] = df_validation['num_fotos'].fillna(0)\n",
    "\n",
    "df_train['aceita_troca'] = df_train['aceita_troca'].map({'Aceita troca': 1, np.nan: 0})\n",
    "df_train['unico_dono'] = df_train['unico_dono'].map({'Único dono': 1, np.nan: 0})\n",
    "df_train['revisoes'] = df_train['revisoes'].map({'Todas as revisões feitas pela concessionária': 1, np.nan: 0})\n",
    "df_train['ipva_pago'] = df_train['ipva_pago'].map({'IPVA pago': 1, np.nan: 0})\n",
    "df_train['licenciado'] = df_train['licenciado'].map({'Licenciado': 1, np.nan: 0})\n",
    "df_train['garantia_de_fabrica'] = df_train['garantia_de_fabrica'].map({'Garantia de fábrica': 1, np.nan: 0})\n",
    "df_train['revisoes_agenda'] = df_train['revisoes_agenda'].map({'Todas as revisões feitas pela agenda do carro': 1, np.nan: 0})\n",
    "df_train['alienado'] = df_train['aceita_troca'].map({'Aceita troca': 1, np.nan: 0})\n",
    "\n",
    "df_validation['aceita_troca'] = df_validation['aceita_troca'].map({'Aceita troca': 1, np.nan: 0})\n",
    "df_validation['unico_dono'] = df_validation['unico_dono'].map({'Único dono': 1, np.nan: 0})\n",
    "df_validation['revisoes'] = df_validation['revisoes'].map({'Todas as revisões feitas pela concessionária': 1, np.nan: 0})\n",
    "df_validation['ipva_pago'] = df_validation['ipva_pago'].map({'IPVA pago': 1, np.nan: 0})\n",
    "df_validation['licenciado'] = df_validation['licenciado'].map({'Licenciado': 1, np.nan: 0})\n",
    "df_validation['garantia_de_fabrica'] = df_validation['garantia_de_fabrica'].map({'Garantia de fábrica': 1, np.nan: 0})\n",
    "df_validation['revisoes_agenda'] = df_validation['revisoes_agenda'].map({'Todas as revisões feitas pela agenda do carro': 1, np.nan: 0})\n"
   ]
  },
  {
   "cell_type": "code",
   "execution_count": null,
   "metadata": {
    "ExecuteTime": {
     "end_time": "2022-08-21T20:21:56.029664Z",
     "start_time": "2022-08-21T20:21:55.988889Z"
    },
    "jupyter": {
     "source_hidden": true
    },
    "tags": []
   },
   "outputs": [],
   "source": [
    "# change types\n",
    "df_train['blindado'] = df_train['blindado'].map({'S': 1, 'N': 0})\n",
    "df_validation['blindado'] = df_validation['blindado'].map({'S': 1, 'N': 0})\n",
    "\n",
    "df_train['ano_modelo'] = df_train['ano_modelo'].astype('int64')\n",
    "df_train['num_fotos'] = df_train['num_fotos'].astype('int64')\n",
    "df_validation['ano_modelo'] = df_validation['ano_modelo'].astype('int64')\n",
    "df_validation['num_fotos'] = df_validation['num_fotos'].astype('int64')\n",
    "\n",
    "df_train['blindado'] = df_train['blindado'].astype('int64')\n",
    "df_validation['blindado'] = df_validation['blindado'].astype('int64')"
   ]
  },
  {
   "cell_type": "code",
   "execution_count": null,
   "metadata": {
    "ExecuteTime": {
     "end_time": "2022-08-21T20:21:56.044649Z",
     "start_time": "2022-08-21T20:21:56.031658Z"
    }
   },
   "outputs": [
    {
     "data": {
      "text/plain": [
       "Series([], Name: alienado, dtype: int64)"
      ]
     },
     "execution_count": 1328,
     "metadata": {},
     "output_type": "execute_result"
    }
   ],
   "source": [
    "df_train['alienado'].value_counts()"
   ]
  },
  {
   "cell_type": "markdown",
   "metadata": {},
   "source": [
    "# 3. Feature Engineering"
   ]
  },
  {
   "cell_type": "code",
   "execution_count": null,
   "metadata": {
    "ExecuteTime": {
     "end_time": "2022-08-21T20:21:56.076254Z",
     "start_time": "2022-08-21T20:21:56.051606Z"
    },
    "jupyter": {
     "outputs_hidden": true
    },
    "tags": []
   },
   "outputs": [
    {
     "data": {
      "text/html": [
       "<div>\n",
       "<style scoped>\n",
       "    .dataframe tbody tr th:only-of-type {\n",
       "        vertical-align: middle;\n",
       "    }\n",
       "\n",
       "    .dataframe tbody tr th {\n",
       "        vertical-align: top;\n",
       "    }\n",
       "\n",
       "    .dataframe thead th {\n",
       "        text-align: right;\n",
       "    }\n",
       "</style>\n",
       "<table border=\"1\" class=\"dataframe\">\n",
       "  <thead>\n",
       "    <tr style=\"text-align: right;\">\n",
       "      <th></th>\n",
       "      <th>23917</th>\n",
       "      <th>1369</th>\n",
       "      <th>11611</th>\n",
       "    </tr>\n",
       "  </thead>\n",
       "  <tbody>\n",
       "    <tr>\n",
       "      <th>ID</th>\n",
       "      <td>262311073289944346928594854442811367226</td>\n",
       "      <td>109790719772054991983923512023706194241</td>\n",
       "      <td>281069887402317196272636443098492257778</td>\n",
       "    </tr>\n",
       "    <tr>\n",
       "      <th>num_fotos</th>\n",
       "      <td>14</td>\n",
       "      <td>8</td>\n",
       "      <td>8</td>\n",
       "    </tr>\n",
       "    <tr>\n",
       "      <th>marca</th>\n",
       "      <td>NISSAN</td>\n",
       "      <td>BMW</td>\n",
       "      <td>VOLVO</td>\n",
       "    </tr>\n",
       "    <tr>\n",
       "      <th>modelo</th>\n",
       "      <td>FRONTIER</td>\n",
       "      <td>320i</td>\n",
       "      <td>S60</td>\n",
       "    </tr>\n",
       "    <tr>\n",
       "      <th>versao</th>\n",
       "      <td>2.3 16V TURBO DIESEL SE CD 4X4 AUTOMÁTICO</td>\n",
       "      <td>2.0 SPORT 16V TURBO ACTIVE FLEX 4P AUTOMÁTICO</td>\n",
       "      <td>2.0 T5 DYNAMIC GASOLINA 4P AUTOMÁTICO</td>\n",
       "    </tr>\n",
       "    <tr>\n",
       "      <th>ano_de_fabricacao</th>\n",
       "      <td>2017</td>\n",
       "      <td>2017</td>\n",
       "      <td>2004</td>\n",
       "    </tr>\n",
       "    <tr>\n",
       "      <th>ano_modelo</th>\n",
       "      <td>2018</td>\n",
       "      <td>2017</td>\n",
       "      <td>2011</td>\n",
       "    </tr>\n",
       "    <tr>\n",
       "      <th>odometro</th>\n",
       "      <td>78729.0</td>\n",
       "      <td>76084.0</td>\n",
       "      <td>102821.0</td>\n",
       "    </tr>\n",
       "    <tr>\n",
       "      <th>cambio</th>\n",
       "      <td>Automática</td>\n",
       "      <td>Automática</td>\n",
       "      <td>Automática</td>\n",
       "    </tr>\n",
       "    <tr>\n",
       "      <th>num_portas</th>\n",
       "      <td>4</td>\n",
       "      <td>4</td>\n",
       "      <td>4</td>\n",
       "    </tr>\n",
       "    <tr>\n",
       "      <th>tipo</th>\n",
       "      <td>Picape</td>\n",
       "      <td>Sedã</td>\n",
       "      <td>Sedã</td>\n",
       "    </tr>\n",
       "    <tr>\n",
       "      <th>blindado</th>\n",
       "      <td>0</td>\n",
       "      <td>0</td>\n",
       "      <td>0</td>\n",
       "    </tr>\n",
       "    <tr>\n",
       "      <th>cor</th>\n",
       "      <td>Branco</td>\n",
       "      <td>Preto</td>\n",
       "      <td>Preto</td>\n",
       "    </tr>\n",
       "    <tr>\n",
       "      <th>tipo_vendedor</th>\n",
       "      <td>PJ</td>\n",
       "      <td>PF</td>\n",
       "      <td>PF</td>\n",
       "    </tr>\n",
       "    <tr>\n",
       "      <th>cidade_vendedor</th>\n",
       "      <td>Rio de Janeiro</td>\n",
       "      <td>Campinas</td>\n",
       "      <td>Campinas</td>\n",
       "    </tr>\n",
       "    <tr>\n",
       "      <th>estado_vendedor</th>\n",
       "      <td>São Paulo (SP)</td>\n",
       "      <td>São Paulo (SP)</td>\n",
       "      <td>São Paulo (SP)</td>\n",
       "    </tr>\n",
       "    <tr>\n",
       "      <th>tipo_anuncio</th>\n",
       "      <td>Loja</td>\n",
       "      <td>Pessoa Física</td>\n",
       "      <td>Pessoa Física</td>\n",
       "    </tr>\n",
       "    <tr>\n",
       "      <th>entrega_delivery</th>\n",
       "      <td>True</td>\n",
       "      <td>False</td>\n",
       "      <td>False</td>\n",
       "    </tr>\n",
       "    <tr>\n",
       "      <th>troca</th>\n",
       "      <td>True</td>\n",
       "      <td>False</td>\n",
       "      <td>False</td>\n",
       "    </tr>\n",
       "    <tr>\n",
       "      <th>elegivel_revisao</th>\n",
       "      <td>False</td>\n",
       "      <td>False</td>\n",
       "      <td>False</td>\n",
       "    </tr>\n",
       "    <tr>\n",
       "      <th>aceita_troca</th>\n",
       "      <td>1</td>\n",
       "      <td>1</td>\n",
       "      <td>0</td>\n",
       "    </tr>\n",
       "    <tr>\n",
       "      <th>unico_dono</th>\n",
       "      <td>1</td>\n",
       "      <td>0</td>\n",
       "      <td>0</td>\n",
       "    </tr>\n",
       "    <tr>\n",
       "      <th>revisoes</th>\n",
       "      <td>1</td>\n",
       "      <td>1</td>\n",
       "      <td>1</td>\n",
       "    </tr>\n",
       "    <tr>\n",
       "      <th>ipva_pago</th>\n",
       "      <td>1</td>\n",
       "      <td>1</td>\n",
       "      <td>1</td>\n",
       "    </tr>\n",
       "    <tr>\n",
       "      <th>licenciado</th>\n",
       "      <td>1</td>\n",
       "      <td>1</td>\n",
       "      <td>1</td>\n",
       "    </tr>\n",
       "    <tr>\n",
       "      <th>garantia_de_fabrica</th>\n",
       "      <td>0</td>\n",
       "      <td>0</td>\n",
       "      <td>0</td>\n",
       "    </tr>\n",
       "    <tr>\n",
       "      <th>revisoes_agenda</th>\n",
       "      <td>0</td>\n",
       "      <td>1</td>\n",
       "      <td>0</td>\n",
       "    </tr>\n",
       "    <tr>\n",
       "      <th>alienado</th>\n",
       "      <td>NaN</td>\n",
       "      <td>NaN</td>\n",
       "      <td>NaN</td>\n",
       "    </tr>\n",
       "    <tr>\n",
       "      <th>preco</th>\n",
       "      <td>185156.219369</td>\n",
       "      <td>134260.584121</td>\n",
       "      <td>50641.135328</td>\n",
       "    </tr>\n",
       "  </tbody>\n",
       "</table>\n",
       "</div>"
      ],
      "text/plain": [
       "                                                         23917                                          1369                                     11611\n",
       "ID                     262311073289944346928594854442811367226        109790719772054991983923512023706194241  281069887402317196272636443098492257778\n",
       "num_fotos                                                   14                                              8                                        8\n",
       "marca                                                   NISSAN                                            BMW                                    VOLVO\n",
       "modelo                                                FRONTIER                                           320i                                      S60\n",
       "versao               2.3 16V TURBO DIESEL SE CD 4X4 AUTOMÁTICO  2.0 SPORT 16V TURBO ACTIVE FLEX 4P AUTOMÁTICO    2.0 T5 DYNAMIC GASOLINA 4P AUTOMÁTICO\n",
       "ano_de_fabricacao                                         2017                                           2017                                     2004\n",
       "ano_modelo                                                2018                                           2017                                     2011\n",
       "odometro                                               78729.0                                        76084.0                                 102821.0\n",
       "cambio                                              Automática                                     Automática                               Automática\n",
       "num_portas                                                   4                                              4                                        4\n",
       "tipo                                                    Picape                                           Sedã                                     Sedã\n",
       "blindado                                                     0                                              0                                        0\n",
       "cor                                                     Branco                                          Preto                                    Preto\n",
       "tipo_vendedor                                               PJ                                             PF                                       PF\n",
       "cidade_vendedor                                 Rio de Janeiro                                       Campinas                                 Campinas\n",
       "estado_vendedor                                 São Paulo (SP)                                 São Paulo (SP)                           São Paulo (SP)\n",
       "tipo_anuncio                                              Loja                                  Pessoa Física                            Pessoa Física\n",
       "entrega_delivery                                          True                                          False                                    False\n",
       "troca                                                     True                                          False                                    False\n",
       "elegivel_revisao                                         False                                          False                                    False\n",
       "aceita_troca                                                 1                                              1                                        0\n",
       "unico_dono                                                   1                                              0                                        0\n",
       "revisoes                                                     1                                              1                                        1\n",
       "ipva_pago                                                    1                                              1                                        1\n",
       "licenciado                                                   1                                              1                                        1\n",
       "garantia_de_fabrica                                          0                                              0                                        0\n",
       "revisoes_agenda                                              0                                              1                                        0\n",
       "alienado                                                   NaN                                            NaN                                      NaN\n",
       "preco                                            185156.219369                                  134260.584121                             50641.135328"
      ]
     },
     "execution_count": 1329,
     "metadata": {},
     "output_type": "execute_result"
    }
   ],
   "source": [
    "df_train.sample(3).T"
   ]
  },
  {
   "cell_type": "markdown",
   "metadata": {
    "tags": []
   },
   "source": [
    "## 3.1. Check NAN"
   ]
  },
  {
   "cell_type": "code",
   "execution_count": null,
   "metadata": {
    "ExecuteTime": {
     "end_time": "2022-08-21T20:21:56.169972Z",
     "start_time": "2022-08-21T20:21:56.078225Z"
    }
   },
   "outputs": [
    {
     "data": {
      "text/plain": [
       "39446"
      ]
     },
     "execution_count": 1330,
     "metadata": {},
     "output_type": "execute_result"
    }
   ],
   "source": [
    "df_train.isna().sum().sum()"
   ]
  },
  {
   "cell_type": "code",
   "execution_count": null,
   "metadata": {
    "ExecuteTime": {
     "end_time": "2022-08-21T20:21:56.247913Z",
     "start_time": "2022-08-21T20:21:56.171967Z"
    },
    "jupyter": {
     "outputs_hidden": true
    },
    "tags": []
   },
   "outputs": [
    {
     "data": {
      "text/plain": [
       "ID                         0\n",
       "num_fotos                  0\n",
       "marca                      0\n",
       "modelo                     0\n",
       "versao                     0\n",
       "ano_de_fabricacao          0\n",
       "ano_modelo                 0\n",
       "odometro                   0\n",
       "cambio                     0\n",
       "num_portas                 0\n",
       "tipo                       0\n",
       "blindado                   0\n",
       "cor                        0\n",
       "tipo_vendedor              0\n",
       "cidade_vendedor            0\n",
       "estado_vendedor            0\n",
       "tipo_anuncio               0\n",
       "entrega_delivery           0\n",
       "troca                      0\n",
       "elegivel_revisao           0\n",
       "aceita_troca               0\n",
       "unico_dono                 0\n",
       "revisoes                   0\n",
       "ipva_pago                  0\n",
       "licenciado                 0\n",
       "garantia_de_fabrica        0\n",
       "revisoes_agenda            0\n",
       "alienado               39446\n",
       "dtype: int64"
      ]
     },
     "execution_count": 1331,
     "metadata": {},
     "output_type": "execute_result"
    }
   ],
   "source": [
    "df_validation.isna().sum()"
   ]
  },
  {
   "cell_type": "code",
   "execution_count": null,
   "metadata": {
    "ExecuteTime": {
     "end_time": "2022-08-21T20:21:56.279932Z",
     "start_time": "2022-08-21T20:21:56.249908Z"
    }
   },
   "outputs": [],
   "source": [
    "cols_drop = [ 'alienado' ]\n",
    "\n",
    "df_train = df_train.drop(columns=cols_drop)\n",
    "df_validation = df_validation.drop(columns=cols_drop)"
   ]
  },
  {
   "cell_type": "markdown",
   "metadata": {},
   "source": [
    "## Tratando Outliers"
   ]
  },
  {
   "cell_type": "code",
   "execution_count": null,
   "metadata": {
    "ExecuteTime": {
     "end_time": "2022-08-21T20:21:56.295309Z",
     "start_time": "2022-08-21T20:21:56.284922Z"
    }
   },
   "outputs": [],
   "source": [
    "# plt.hist(df_train['preco'])"
   ]
  },
  {
   "cell_type": "markdown",
   "metadata": {},
   "source": [
    "## Seleção de Features"
   ]
  },
  {
   "cell_type": "code",
   "execution_count": null,
   "metadata": {
    "ExecuteTime": {
     "end_time": "2022-08-21T20:21:56.759956Z",
     "start_time": "2022-08-21T20:21:56.297053Z"
    }
   },
   "outputs": [
    {
     "data": {
      "text/plain": [
       "<AxesSubplot:xlabel='ano_modelo', ylabel='preco'>"
      ]
     },
     "execution_count": 1334,
     "metadata": {},
     "output_type": "execute_result"
    },
    {
     "data": {
      "image/png": "[encoded data removed]",
      "text/plain": [
       "<Figure size 1152x576 with 1 Axes>"
      ]
     },
     "metadata": {},
     "output_type": "display_data"
    }
   ],
   "source": [
    "['num_fotos', 'ano_de_fabricacao', 'ano_modelo', 'odometro',\n",
    "       'num_portas', 'preco']\n",
    "\n",
    "df_train2 = df_train\n",
    "\n",
    "plt.figure(figsize=(16,8))\n",
    "\n",
    "# plt.subplot(1,3,1)\n",
    "sns.boxplot(x='ano_modelo' , y='preco' , data=df_train2)\n",
    "\n",
    "# plt.subplot(1,3,2)\n",
    "# sns.boxplot(x='odometro' , y='preco' , data=df_train2)\n",
    "\n",
    "# plt.subplot(1,3,3)\n",
    "# sns.boxplot(x='num_portas' , y='preco' , data=df_train2)"
   ]
  },
  {
   "cell_type": "markdown",
   "metadata": {},
   "source": [
    "## 3.2 Rescaling"
   ]
  },
  {
   "cell_type": "code",
   "execution_count": null,
   "metadata": {
    "ExecuteTime": {
     "end_time": "2022-08-21T20:21:56.775165Z",
     "start_time": "2022-08-21T20:21:56.760923Z"
    }
   },
   "outputs": [],
   "source": [
    "# # Central Tendency - mean, median\n",
    "# ct1 = pd.DataFrame(df_traing_num.apply(np.mean)).T\n",
    "# ct2 = pd.DataFrame(df_traing_num.apply(np.median)).T\n",
    "\n",
    "# # Dispersion - std, min, max, range, skew, kurtosis\n",
    "# d1 = pd.DataFrame(df_traing_num.apply(np.std)).T\n",
    "# d2 = pd.DataFrame(df_traing_num.apply(min)).T\n",
    "# d3 = pd.DataFrame(df_traing_num.apply(max)).T\n",
    "# d4 = pd.DataFrame(df_traing_num.apply(lambda x: x.max() - x.min())).T\n",
    "# d5 = pd.DataFrame(df_traing_num.apply(lambda x: x.skew())).T\n",
    "# d6 = pd.DataFrame(df_traing_num.apply(lambda x: x.kurtosis())).T\n",
    "\n",
    "# m = pd.concat([d2, d3, d4, ct1, ct2, d1, d5, d6]).T.reset_index()\n",
    "# m.columns = ['attributes', 'min', 'max','range','mean','median','std','skew','kurtosis']\n",
    "# m"
   ]
  },
  {
   "cell_type": "markdown",
   "metadata": {},
   "source": [
    "## 3.3. Encoding"
   ]
  },
  {
   "cell_type": "code",
   "execution_count": null,
   "metadata": {
    "ExecuteTime": {
     "end_time": "2022-08-21T20:21:56.805065Z",
     "start_time": "2022-08-21T20:21:56.775883Z"
    }
   },
   "outputs": [
    {
     "data": {
      "text/html": [
       "<div>\n",
       "<style scoped>\n",
       "    .dataframe tbody tr th:only-of-type {\n",
       "        vertical-align: middle;\n",
       "    }\n",
       "\n",
       "    .dataframe tbody tr th {\n",
       "        vertical-align: top;\n",
       "    }\n",
       "\n",
       "    .dataframe thead th {\n",
       "        text-align: right;\n",
       "    }\n",
       "</style>\n",
       "<table border=\"1\" class=\"dataframe\">\n",
       "  <thead>\n",
       "    <tr style=\"text-align: right;\">\n",
       "      <th></th>\n",
       "      <th>17035</th>\n",
       "      <th>22653</th>\n",
       "    </tr>\n",
       "  </thead>\n",
       "  <tbody>\n",
       "    <tr>\n",
       "      <th>ID</th>\n",
       "      <td>71534639668659966609509783123498270376</td>\n",
       "      <td>120803921645950488786302296189499380031</td>\n",
       "    </tr>\n",
       "    <tr>\n",
       "      <th>num_fotos</th>\n",
       "      <td>16</td>\n",
       "      <td>8</td>\n",
       "    </tr>\n",
       "    <tr>\n",
       "      <th>marca</th>\n",
       "      <td>HYUNDAI</td>\n",
       "      <td>FIAT</td>\n",
       "    </tr>\n",
       "    <tr>\n",
       "      <th>modelo</th>\n",
       "      <td>TUCSON</td>\n",
       "      <td>TORO</td>\n",
       "    </tr>\n",
       "    <tr>\n",
       "      <th>versao</th>\n",
       "      <td>2.0 MPFI GLS 16V 143CV 2WD FLEX 4P AUTOMÁTICO</td>\n",
       "      <td>1.8 16V EVO FLEX FREEDOM AT6</td>\n",
       "    </tr>\n",
       "    <tr>\n",
       "      <th>ano_de_fabricacao</th>\n",
       "      <td>2014</td>\n",
       "      <td>2019</td>\n",
       "    </tr>\n",
       "    <tr>\n",
       "      <th>ano_modelo</th>\n",
       "      <td>2014</td>\n",
       "      <td>2019</td>\n",
       "    </tr>\n",
       "    <tr>\n",
       "      <th>odometro</th>\n",
       "      <td>75640.0</td>\n",
       "      <td>42623.0</td>\n",
       "    </tr>\n",
       "    <tr>\n",
       "      <th>cambio</th>\n",
       "      <td>Automática</td>\n",
       "      <td>Automática</td>\n",
       "    </tr>\n",
       "    <tr>\n",
       "      <th>num_portas</th>\n",
       "      <td>4</td>\n",
       "      <td>4</td>\n",
       "    </tr>\n",
       "    <tr>\n",
       "      <th>tipo</th>\n",
       "      <td>Sedã</td>\n",
       "      <td>Picape</td>\n",
       "    </tr>\n",
       "    <tr>\n",
       "      <th>blindado</th>\n",
       "      <td>0</td>\n",
       "      <td>0</td>\n",
       "    </tr>\n",
       "    <tr>\n",
       "      <th>cor</th>\n",
       "      <td>Branco</td>\n",
       "      <td>Branco</td>\n",
       "    </tr>\n",
       "    <tr>\n",
       "      <th>tipo_vendedor</th>\n",
       "      <td>PJ</td>\n",
       "      <td>PF</td>\n",
       "    </tr>\n",
       "    <tr>\n",
       "      <th>cidade_vendedor</th>\n",
       "      <td>São Paulo</td>\n",
       "      <td>Rio de Janeiro</td>\n",
       "    </tr>\n",
       "    <tr>\n",
       "      <th>estado_vendedor</th>\n",
       "      <td>São Paulo (SP)</td>\n",
       "      <td>Rio de Janeiro (RJ)</td>\n",
       "    </tr>\n",
       "    <tr>\n",
       "      <th>tipo_anuncio</th>\n",
       "      <td>Loja</td>\n",
       "      <td>Pessoa Física</td>\n",
       "    </tr>\n",
       "    <tr>\n",
       "      <th>entrega_delivery</th>\n",
       "      <td>True</td>\n",
       "      <td>False</td>\n",
       "    </tr>\n",
       "    <tr>\n",
       "      <th>troca</th>\n",
       "      <td>True</td>\n",
       "      <td>False</td>\n",
       "    </tr>\n",
       "    <tr>\n",
       "      <th>elegivel_revisao</th>\n",
       "      <td>False</td>\n",
       "      <td>False</td>\n",
       "    </tr>\n",
       "    <tr>\n",
       "      <th>aceita_troca</th>\n",
       "      <td>1</td>\n",
       "      <td>0</td>\n",
       "    </tr>\n",
       "    <tr>\n",
       "      <th>unico_dono</th>\n",
       "      <td>0</td>\n",
       "      <td>1</td>\n",
       "    </tr>\n",
       "    <tr>\n",
       "      <th>revisoes</th>\n",
       "      <td>0</td>\n",
       "      <td>1</td>\n",
       "    </tr>\n",
       "    <tr>\n",
       "      <th>ipva_pago</th>\n",
       "      <td>0</td>\n",
       "      <td>1</td>\n",
       "    </tr>\n",
       "    <tr>\n",
       "      <th>licenciado</th>\n",
       "      <td>0</td>\n",
       "      <td>1</td>\n",
       "    </tr>\n",
       "    <tr>\n",
       "      <th>garantia_de_fabrica</th>\n",
       "      <td>0</td>\n",
       "      <td>0</td>\n",
       "    </tr>\n",
       "    <tr>\n",
       "      <th>revisoes_agenda</th>\n",
       "      <td>0</td>\n",
       "      <td>0</td>\n",
       "    </tr>\n",
       "    <tr>\n",
       "      <th>preco</th>\n",
       "      <td>83032.480607</td>\n",
       "      <td>109753.087552</td>\n",
       "    </tr>\n",
       "  </tbody>\n",
       "</table>\n",
       "</div>"
      ],
      "text/plain": [
       "                                                             17035                                    22653\n",
       "ID                          71534639668659966609509783123498270376  120803921645950488786302296189499380031\n",
       "num_fotos                                                       16                                        8\n",
       "marca                                                      HYUNDAI                                     FIAT\n",
       "modelo                                                      TUCSON                                     TORO\n",
       "versao               2.0 MPFI GLS 16V 143CV 2WD FLEX 4P AUTOMÁTICO             1.8 16V EVO FLEX FREEDOM AT6\n",
       "ano_de_fabricacao                                             2014                                     2019\n",
       "ano_modelo                                                    2014                                     2019\n",
       "odometro                                                   75640.0                                  42623.0\n",
       "cambio                                                  Automática                               Automática\n",
       "num_portas                                                       4                                        4\n",
       "tipo                                                          Sedã                                   Picape\n",
       "blindado                                                         0                                        0\n",
       "cor                                                         Branco                                   Branco\n",
       "tipo_vendedor                                                   PJ                                       PF\n",
       "cidade_vendedor                                          São Paulo                           Rio de Janeiro\n",
       "estado_vendedor                                     São Paulo (SP)                      Rio de Janeiro (RJ)\n",
       "tipo_anuncio                                                  Loja                            Pessoa Física\n",
       "entrega_delivery                                              True                                    False\n",
       "troca                                                         True                                    False\n",
       "elegivel_revisao                                             False                                    False\n",
       "aceita_troca                                                     1                                        0\n",
       "unico_dono                                                       0                                        1\n",
       "revisoes                                                         0                                        1\n",
       "ipva_pago                                                        0                                        1\n",
       "licenciado                                                       0                                        1\n",
       "garantia_de_fabrica                                              0                                        0\n",
       "revisoes_agenda                                                  0                                        0\n",
       "preco                                                 83032.480607                            109753.087552"
      ]
     },
     "execution_count": 1336,
     "metadata": {},
     "output_type": "execute_result"
    }
   ],
   "source": [
    "df_train.sample(2).T"
   ]
  },
  {
   "cell_type": "code",
   "execution_count": null,
   "metadata": {
    "ExecuteTime": {
     "end_time": "2022-08-21T20:21:56.850947Z",
     "start_time": "2022-08-21T20:21:56.808086Z"
    }
   },
   "outputs": [],
   "source": [
    "df_train['motor'] = df_train['versao'].str[:4]\n",
    "df_validation['motor'] = df_validation['versao'].str[:4]\n",
    "\n",
    "df_train['idade_modelo'] = 2022 - df_train['ano_modelo']\n",
    "df_validation['idade_modelo'] = 2022 - df_validation['ano_modelo']"
   ]
  },
  {
   "cell_type": "code",
   "execution_count": null,
   "metadata": {
    "ExecuteTime": {
     "end_time": "2022-08-21T20:21:57.455317Z",
     "start_time": "2022-08-21T20:21:56.852653Z"
    }
   },
   "outputs": [],
   "source": [
    "df = df_train[['ano_modelo','odometro','preco']].groupby(['ano_modelo','odometro']).median().reset_index()\n",
    "df['km_preco'] = df[['odometro','preco']].apply(lambda x: x['odometro']/x['preco'], axis = 1)\n",
    "dict_km_preco = df[['ano_modelo','km_preco']].groupby('ano_modelo').median().to_dict()['km_preco']\n",
    "\n",
    "df_train['km_preco_enconding'] = df_train['ano_modelo'].map(dict_km_preco)\n",
    "df_validation['km_preco_enconding'] = df_validation['ano_modelo'].map(dict_km_preco)\n",
    "\n",
    "df_train['ano'] = (df_train['ano_modelo'] + df_train['ano_de_fabricacao'])/2\n",
    "df_validation['ano'] = (df_validation['ano_modelo'] + df_validation['ano_de_fabricacao'])/2"
   ]
  },
  {
   "cell_type": "code",
   "execution_count": null,
   "metadata": {
    "ExecuteTime": {
     "end_time": "2022-08-21T20:21:58.771360Z",
     "start_time": "2022-08-21T20:21:57.456937Z"
    }
   },
   "outputs": [],
   "source": [
    "def target_enconding(df_traing,df_validation,attribute):\n",
    "    \n",
    "    # Preço médio por atributo\n",
    "    df_train.groupby([attribute])['preco'].count()\n",
    "    df_train.groupby([attribute])['preco'].mean()\n",
    "    mean_encoded_dict = df_train.groupby([attribute])['preco'].mean().to_dict()\n",
    "    \n",
    "    # Enconding\n",
    "    df_train[attribute]      = df_train[attribute].map(mean_encoded_dict)\n",
    "    df_validation[attribute] = df_validation[attribute].map(mean_encoded_dict)\n",
    "    \n",
    "    return df_train, df_validation\n",
    "\n",
    "def estado_cor_encoding(df_train,df_validation):\n",
    "    df_train['estado_cor'] = df_train[['estado_vendedor','cor','preco']].apply(lambda x: x['estado_vendedor'] + ' - ' + x['cor'], axis=1)\n",
    "    df_validation['estado_cor'] = df_validation[['estado_vendedor','cor']].apply(lambda x: x['estado_vendedor'] + ' - ' + x['cor'], axis=1)\n",
    "\n",
    "    dict_estado_cor = df_train[['estado_cor','preco']].groupby('estado_cor').median().to_dict()['preco']\n",
    "\n",
    "    df_train['estado-cor_enconding'] = df_train['estado_cor'].map(dict_estado_cor)\n",
    "    df_validation['estado-cor_enconding'] = df_validation['estado_cor'].map(dict_estado_cor)\n",
    "    \n",
    "    return df_train, df_validation\n",
    "\n",
    "def ano_modelo_odometro_encoding(df_train,df_validation):\n",
    "    df_train['ano_modelo_odometro'] = df_train[['ano_modelo','odometro','preco']].apply(lambda x: x['ano_modelo'] + ' - ' + x['cor'], axis=1)\n",
    "    df_validation['estado_cor'] = df_validation[['estado_vendedor','cor']].apply(lambda x: x['estado_vendedor'] + ' - ' + x['cor'], axis=1)\n",
    "\n",
    "    dict_estado_cor = df_train[['estado_cor','preco']].groupby('estado_cor').median().to_dict()['preco']\n",
    "\n",
    "    df_train['estado-cor_enconding'] = df_train['estado_cor'].map(dict_estado_cor)\n",
    "    df_validation['estado-cor_enconding'] = df_validation['estado_cor'].map(dict_estado_cor)\n",
    "    \n",
    "    return df_train, df_validation\n",
    "\n",
    "attributes_mean_encoding = ['versao', 'marca','modelo', 'cambio', 'tipo', 'cidade_vendedor', 'motor']\n",
    "\n",
    "for att in attributes_mean_encoding:\n",
    "    df_train, df_validation = target_enconding(df_train,df_validation,att)\n",
    "    \n",
    "df_train, df_validation= estado_cor_encoding(df_train, df_validation)\n",
    "\n",
    "    \n",
    "def func(df_train):\n",
    "    df_train['tipo_vendedor'] = df_train['tipo_vendedor'].map({'PF': 1, 'PJ': 0})\n",
    "    df_train['tipo_vendedor'] = df_train['tipo_vendedor'].astype('int64')\n",
    "\n",
    "    df_train['tipo_anuncio']=df_train['tipo_anuncio'].map({'Pessoa Física': 'pessoa_fisica', 'Concessionária': 'concessionaria', 'Acessórios e serviços para autos': 'acessorios', 'Loja': 'loja'})\n",
    "    df_train = pd.get_dummies(df_train, columns=['tipo_anuncio'], prefix = ['ta_'])\n",
    "    \n",
    "    return df_train\n",
    "\n",
    "df_train = func(df_train)\n",
    "df_validation = func(df_validation)"
   ]
  },
  {
   "cell_type": "markdown",
   "metadata": {},
   "source": [
    "## Tranformações"
   ]
  },
  {
   "cell_type": "code",
   "execution_count": null,
   "metadata": {
    "ExecuteTime": {
     "end_time": "2022-08-21T20:21:58.787106Z",
     "start_time": "2022-08-21T20:21:58.773174Z"
    }
   },
   "outputs": [],
   "source": [
    "df_train['preco'] = np.log1p(df_train['preco'])"
   ]
  },
  {
   "cell_type": "code",
   "execution_count": null,
   "metadata": {
    "ExecuteTime": {
     "end_time": "2022-08-21T20:21:58.818063Z",
     "start_time": "2022-08-21T20:21:58.789100Z"
    },
    "scrolled": true
   },
   "outputs": [
    {
     "data": {
      "text/html": [
       "<div>\n",
       "<style scoped>\n",
       "    .dataframe tbody tr th:only-of-type {\n",
       "        vertical-align: middle;\n",
       "    }\n",
       "\n",
       "    .dataframe tbody tr th {\n",
       "        vertical-align: top;\n",
       "    }\n",
       "\n",
       "    .dataframe thead th {\n",
       "        text-align: right;\n",
       "    }\n",
       "</style>\n",
       "<table border=\"1\" class=\"dataframe\">\n",
       "  <thead>\n",
       "    <tr style=\"text-align: right;\">\n",
       "      <th></th>\n",
       "      <th>11640</th>\n",
       "      <th>33836</th>\n",
       "      <th>22820</th>\n",
       "    </tr>\n",
       "  </thead>\n",
       "  <tbody>\n",
       "    <tr>\n",
       "      <th>ID</th>\n",
       "      <td>277196258637077513152151676974137947634</td>\n",
       "      <td>243611131423934508677107296087064652850</td>\n",
       "      <td>12402987520742438611573535841960366998</td>\n",
       "    </tr>\n",
       "    <tr>\n",
       "      <th>num_fotos</th>\n",
       "      <td>8</td>\n",
       "      <td>16</td>\n",
       "      <td>8</td>\n",
       "    </tr>\n",
       "    <tr>\n",
       "      <th>marca</th>\n",
       "      <td>122361.749137</td>\n",
       "      <td>118864.653876</td>\n",
       "      <td>100155.595254</td>\n",
       "    </tr>\n",
       "    <tr>\n",
       "      <th>modelo</th>\n",
       "      <td>124756.346147</td>\n",
       "      <td>86594.484318</td>\n",
       "      <td>110243.281129</td>\n",
       "    </tr>\n",
       "    <tr>\n",
       "      <th>versao</th>\n",
       "      <td>127504.577807</td>\n",
       "      <td>72641.702739</td>\n",
       "      <td>156999.148548</td>\n",
       "    </tr>\n",
       "    <tr>\n",
       "      <th>ano_de_fabricacao</th>\n",
       "      <td>2021</td>\n",
       "      <td>2018</td>\n",
       "      <td>2018</td>\n",
       "    </tr>\n",
       "    <tr>\n",
       "      <th>ano_modelo</th>\n",
       "      <td>2022</td>\n",
       "      <td>2018</td>\n",
       "      <td>2019</td>\n",
       "    </tr>\n",
       "    <tr>\n",
       "      <th>odometro</th>\n",
       "      <td>57300.0</td>\n",
       "      <td>81926.0</td>\n",
       "      <td>38342.0</td>\n",
       "    </tr>\n",
       "    <tr>\n",
       "      <th>cambio</th>\n",
       "      <td>146579.444142</td>\n",
       "      <td>146579.444142</td>\n",
       "      <td>115251.19281</td>\n",
       "    </tr>\n",
       "    <tr>\n",
       "      <th>num_portas</th>\n",
       "      <td>4</td>\n",
       "      <td>4</td>\n",
       "      <td>4</td>\n",
       "    </tr>\n",
       "    <tr>\n",
       "      <th>tipo</th>\n",
       "      <td>118647.979849</td>\n",
       "      <td>92666.521106</td>\n",
       "      <td>118647.979849</td>\n",
       "    </tr>\n",
       "    <tr>\n",
       "      <th>blindado</th>\n",
       "      <td>0</td>\n",
       "      <td>0</td>\n",
       "      <td>0</td>\n",
       "    </tr>\n",
       "    <tr>\n",
       "      <th>cor</th>\n",
       "      <td>Branco</td>\n",
       "      <td>Branco</td>\n",
       "      <td>Branco</td>\n",
       "    </tr>\n",
       "    <tr>\n",
       "      <th>tipo_vendedor</th>\n",
       "      <td>0</td>\n",
       "      <td>0</td>\n",
       "      <td>1</td>\n",
       "    </tr>\n",
       "    <tr>\n",
       "      <th>cidade_vendedor</th>\n",
       "      <td>118669.778172</td>\n",
       "      <td>132172.449766</td>\n",
       "      <td>164270.791289</td>\n",
       "    </tr>\n",
       "    <tr>\n",
       "      <th>estado_vendedor</th>\n",
       "      <td>Goiás (GO)</td>\n",
       "      <td>Rio de Janeiro (RJ)</td>\n",
       "      <td>São Paulo (SP)</td>\n",
       "    </tr>\n",
       "    <tr>\n",
       "      <th>entrega_delivery</th>\n",
       "      <td>False</td>\n",
       "      <td>True</td>\n",
       "      <td>False</td>\n",
       "    </tr>\n",
       "    <tr>\n",
       "      <th>troca</th>\n",
       "      <td>False</td>\n",
       "      <td>True</td>\n",
       "      <td>False</td>\n",
       "    </tr>\n",
       "    <tr>\n",
       "      <th>elegivel_revisao</th>\n",
       "      <td>False</td>\n",
       "      <td>False</td>\n",
       "      <td>False</td>\n",
       "    </tr>\n",
       "    <tr>\n",
       "      <th>aceita_troca</th>\n",
       "      <td>1</td>\n",
       "      <td>1</td>\n",
       "      <td>0</td>\n",
       "    </tr>\n",
       "    <tr>\n",
       "      <th>unico_dono</th>\n",
       "      <td>1</td>\n",
       "      <td>1</td>\n",
       "      <td>1</td>\n",
       "    </tr>\n",
       "    <tr>\n",
       "      <th>revisoes</th>\n",
       "      <td>0</td>\n",
       "      <td>0</td>\n",
       "      <td>0</td>\n",
       "    </tr>\n",
       "    <tr>\n",
       "      <th>ipva_pago</th>\n",
       "      <td>1</td>\n",
       "      <td>1</td>\n",
       "      <td>1</td>\n",
       "    </tr>\n",
       "    <tr>\n",
       "      <th>licenciado</th>\n",
       "      <td>1</td>\n",
       "      <td>1</td>\n",
       "      <td>1</td>\n",
       "    </tr>\n",
       "    <tr>\n",
       "      <th>garantia_de_fabrica</th>\n",
       "      <td>0</td>\n",
       "      <td>0</td>\n",
       "      <td>0</td>\n",
       "    </tr>\n",
       "    <tr>\n",
       "      <th>revisoes_agenda</th>\n",
       "      <td>0</td>\n",
       "      <td>0</td>\n",
       "      <td>0</td>\n",
       "    </tr>\n",
       "    <tr>\n",
       "      <th>preco</th>\n",
       "      <td>11.90004</td>\n",
       "      <td>10.951421</td>\n",
       "      <td>11.790126</td>\n",
       "    </tr>\n",
       "    <tr>\n",
       "      <th>motor</th>\n",
       "      <td>104201.602051</td>\n",
       "      <td>80132.417006</td>\n",
       "      <td>108165.605248</td>\n",
       "    </tr>\n",
       "    <tr>\n",
       "      <th>idade_modelo</th>\n",
       "      <td>0</td>\n",
       "      <td>4</td>\n",
       "      <td>3</td>\n",
       "    </tr>\n",
       "    <tr>\n",
       "      <th>km_preco_enconding</th>\n",
       "      <td>0.130981</td>\n",
       "      <td>0.484361</td>\n",
       "      <td>0.331251</td>\n",
       "    </tr>\n",
       "    <tr>\n",
       "      <th>ano</th>\n",
       "      <td>2021.5</td>\n",
       "      <td>2018.0</td>\n",
       "      <td>2018.5</td>\n",
       "    </tr>\n",
       "    <tr>\n",
       "      <th>estado_cor</th>\n",
       "      <td>Goiás (GO) - Branco</td>\n",
       "      <td>Rio de Janeiro (RJ) - Branco</td>\n",
       "      <td>São Paulo (SP) - Branco</td>\n",
       "    </tr>\n",
       "    <tr>\n",
       "      <th>estado-cor_enconding</th>\n",
       "      <td>138659.378782</td>\n",
       "      <td>121156.094552</td>\n",
       "      <td>105182.229435</td>\n",
       "    </tr>\n",
       "    <tr>\n",
       "      <th>ta__acessorios</th>\n",
       "      <td>0</td>\n",
       "      <td>0</td>\n",
       "      <td>0</td>\n",
       "    </tr>\n",
       "    <tr>\n",
       "      <th>ta__concessionaria</th>\n",
       "      <td>0</td>\n",
       "      <td>0</td>\n",
       "      <td>0</td>\n",
       "    </tr>\n",
       "    <tr>\n",
       "      <th>ta__loja</th>\n",
       "      <td>1</td>\n",
       "      <td>1</td>\n",
       "      <td>0</td>\n",
       "    </tr>\n",
       "    <tr>\n",
       "      <th>ta__pessoa_fisica</th>\n",
       "      <td>0</td>\n",
       "      <td>0</td>\n",
       "      <td>1</td>\n",
       "    </tr>\n",
       "  </tbody>\n",
       "</table>\n",
       "</div>"
      ],
      "text/plain": [
       "                                                        11640                                    33836                                   22820\n",
       "ID                    277196258637077513152151676974137947634  243611131423934508677107296087064652850  12402987520742438611573535841960366998\n",
       "num_fotos                                                   8                                       16                                       8\n",
       "marca                                           122361.749137                            118864.653876                           100155.595254\n",
       "modelo                                          124756.346147                             86594.484318                           110243.281129\n",
       "versao                                          127504.577807                             72641.702739                           156999.148548\n",
       "ano_de_fabricacao                                        2021                                     2018                                    2018\n",
       "ano_modelo                                               2022                                     2018                                    2019\n",
       "odometro                                              57300.0                                  81926.0                                 38342.0\n",
       "cambio                                          146579.444142                            146579.444142                            115251.19281\n",
       "num_portas                                                  4                                        4                                       4\n",
       "tipo                                            118647.979849                             92666.521106                           118647.979849\n",
       "blindado                                                    0                                        0                                       0\n",
       "cor                                                    Branco                                   Branco                                  Branco\n",
       "tipo_vendedor                                               0                                        0                                       1\n",
       "cidade_vendedor                                 118669.778172                            132172.449766                           164270.791289\n",
       "estado_vendedor                                    Goiás (GO)                      Rio de Janeiro (RJ)                          São Paulo (SP)\n",
       "entrega_delivery                                        False                                     True                                   False\n",
       "troca                                                   False                                     True                                   False\n",
       "elegivel_revisao                                        False                                    False                                   False\n",
       "aceita_troca                                                1                                        1                                       0\n",
       "unico_dono                                                  1                                        1                                       1\n",
       "revisoes                                                    0                                        0                                       0\n",
       "ipva_pago                                                   1                                        1                                       1\n",
       "licenciado                                                  1                                        1                                       1\n",
       "garantia_de_fabrica                                         0                                        0                                       0\n",
       "revisoes_agenda                                             0                                        0                                       0\n",
       "preco                                                11.90004                                10.951421                               11.790126\n",
       "motor                                           104201.602051                             80132.417006                           108165.605248\n",
       "idade_modelo                                                0                                        4                                       3\n",
       "km_preco_enconding                                   0.130981                                 0.484361                                0.331251\n",
       "ano                                                    2021.5                                   2018.0                                  2018.5\n",
       "estado_cor                                Goiás (GO) - Branco             Rio de Janeiro (RJ) - Branco                 São Paulo (SP) - Branco\n",
       "estado-cor_enconding                            138659.378782                            121156.094552                           105182.229435\n",
       "ta__acessorios                                              0                                        0                                       0\n",
       "ta__concessionaria                                          0                                        0                                       0\n",
       "ta__loja                                                    1                                        1                                       0\n",
       "ta__pessoa_fisica                                           0                                        0                                       1"
      ]
     },
     "execution_count": 1341,
     "metadata": {},
     "output_type": "execute_result"
    }
   ],
   "source": [
    "df_train.sample(3).T"
   ]
  },
  {
   "cell_type": "code",
   "execution_count": null,
   "metadata": {
    "ExecuteTime": {
     "end_time": "2022-08-21T20:21:58.833110Z",
     "start_time": "2022-08-21T20:21:58.820026Z"
    },
    "jupyter": {
     "source_hidden": true
    },
    "tags": []
   },
   "outputs": [],
   "source": [
    "#Frequency\n",
    "\n",
    "# marca1 = (df.groupby('marca').size()) / len(df)\n",
    "# df['marca'] = df['marca'].apply(lambda x : marca1[x])\n",
    "\n",
    "# modelo1 = (df.groupby('modelo').size()) / len(df)\n",
    "# df['modelo'] = df['modelo'].apply(lambda x : modelo1[x])\n",
    "\n",
    "# cambio1 = (df.groupby('cambio').size()) / len(df)\n",
    "# df['cambio'] = df['cambio'].apply(lambda x : cambio1[x])\n",
    "\n",
    "# tipo1 = (df.groupby('tipo').size()) / len(df)\n",
    "# df['tipo'] = df['tipo'].apply(lambda x : tipo1[x])\n",
    "\n",
    "# cidade_vendedor1 = (df.groupby('cidade_vendedor').size()) / len(df)\n",
    "# df['cidade_vendedor'] = df['cidade_vendedor'].apply(lambda x : cidade_vendedor1[x])"
   ]
  },
  {
   "cell_type": "code",
   "execution_count": null,
   "metadata": {},
   "outputs": [],
   "source": []
  },
  {
   "cell_type": "code",
   "execution_count": null,
   "metadata": {
    "ExecuteTime": {
     "end_time": "2022-08-21T20:21:58.879131Z",
     "start_time": "2022-08-21T20:21:58.834979Z"
    },
    "scrolled": true
   },
   "outputs": [
    {
     "data": {
      "text/html": [
       "<div>\n",
       "<style scoped>\n",
       "    .dataframe tbody tr th:only-of-type {\n",
       "        vertical-align: middle;\n",
       "    }\n",
       "\n",
       "    .dataframe tbody tr th {\n",
       "        vertical-align: top;\n",
       "    }\n",
       "\n",
       "    .dataframe thead th {\n",
       "        text-align: right;\n",
       "    }\n",
       "</style>\n",
       "<table border=\"1\" class=\"dataframe\">\n",
       "  <thead>\n",
       "    <tr style=\"text-align: right;\">\n",
       "      <th></th>\n",
       "      <th>10424</th>\n",
       "      <th>15233</th>\n",
       "      <th>34006</th>\n",
       "    </tr>\n",
       "  </thead>\n",
       "  <tbody>\n",
       "    <tr>\n",
       "      <th>ID</th>\n",
       "      <td>19336424570975899434713048442838788369</td>\n",
       "      <td>51007884149051504251061252640318124600</td>\n",
       "      <td>285074347520047155918079973711468516160</td>\n",
       "    </tr>\n",
       "    <tr>\n",
       "      <th>num_fotos</th>\n",
       "      <td>8</td>\n",
       "      <td>8</td>\n",
       "      <td>8</td>\n",
       "    </tr>\n",
       "    <tr>\n",
       "      <th>marca</th>\n",
       "      <td>118864.653876</td>\n",
       "      <td>118864.653876</td>\n",
       "      <td>100155.595254</td>\n",
       "    </tr>\n",
       "    <tr>\n",
       "      <th>modelo</th>\n",
       "      <td>188016.073299</td>\n",
       "      <td>119604.194132</td>\n",
       "      <td>74984.060461</td>\n",
       "    </tr>\n",
       "    <tr>\n",
       "      <th>versao</th>\n",
       "      <td>248531.723471</td>\n",
       "      <td>122363.747135</td>\n",
       "      <td>49647.608054</td>\n",
       "    </tr>\n",
       "    <tr>\n",
       "      <th>ano_de_fabricacao</th>\n",
       "      <td>2018</td>\n",
       "      <td>2012</td>\n",
       "      <td>2008</td>\n",
       "    </tr>\n",
       "    <tr>\n",
       "      <th>ano_modelo</th>\n",
       "      <td>2018</td>\n",
       "      <td>2014</td>\n",
       "      <td>2012</td>\n",
       "    </tr>\n",
       "    <tr>\n",
       "      <th>odometro</th>\n",
       "      <td>64549.0</td>\n",
       "      <td>99788.0</td>\n",
       "      <td>137483.0</td>\n",
       "    </tr>\n",
       "    <tr>\n",
       "      <th>cambio</th>\n",
       "      <td>146579.444142</td>\n",
       "      <td>146579.444142</td>\n",
       "      <td>80328.343354</td>\n",
       "    </tr>\n",
       "    <tr>\n",
       "      <th>num_portas</th>\n",
       "      <td>4</td>\n",
       "      <td>4</td>\n",
       "      <td>4</td>\n",
       "    </tr>\n",
       "    <tr>\n",
       "      <th>tipo</th>\n",
       "      <td>118647.979849</td>\n",
       "      <td>92666.521106</td>\n",
       "      <td>118647.979849</td>\n",
       "    </tr>\n",
       "    <tr>\n",
       "      <th>blindado</th>\n",
       "      <td>0</td>\n",
       "      <td>0</td>\n",
       "      <td>0</td>\n",
       "    </tr>\n",
       "    <tr>\n",
       "      <th>cor</th>\n",
       "      <td>Preto</td>\n",
       "      <td>Preto</td>\n",
       "      <td>Prata</td>\n",
       "    </tr>\n",
       "    <tr>\n",
       "      <th>tipo_vendedor</th>\n",
       "      <td>1</td>\n",
       "      <td>1</td>\n",
       "      <td>1</td>\n",
       "    </tr>\n",
       "    <tr>\n",
       "      <th>cidade_vendedor</th>\n",
       "      <td>147350.914662</td>\n",
       "      <td>126858.181814</td>\n",
       "      <td>132172.449766</td>\n",
       "    </tr>\n",
       "    <tr>\n",
       "      <th>estado_vendedor</th>\n",
       "      <td>Paraná (PR)</td>\n",
       "      <td>São Paulo (SP)</td>\n",
       "      <td>São Paulo (SP)</td>\n",
       "    </tr>\n",
       "    <tr>\n",
       "      <th>entrega_delivery</th>\n",
       "      <td>False</td>\n",
       "      <td>False</td>\n",
       "      <td>False</td>\n",
       "    </tr>\n",
       "    <tr>\n",
       "      <th>troca</th>\n",
       "      <td>False</td>\n",
       "      <td>False</td>\n",
       "      <td>False</td>\n",
       "    </tr>\n",
       "    <tr>\n",
       "      <th>elegivel_revisao</th>\n",
       "      <td>False</td>\n",
       "      <td>False</td>\n",
       "      <td>False</td>\n",
       "    </tr>\n",
       "    <tr>\n",
       "      <th>aceita_troca</th>\n",
       "      <td>1</td>\n",
       "      <td>1</td>\n",
       "      <td>1</td>\n",
       "    </tr>\n",
       "    <tr>\n",
       "      <th>unico_dono</th>\n",
       "      <td>1</td>\n",
       "      <td>0</td>\n",
       "      <td>0</td>\n",
       "    </tr>\n",
       "    <tr>\n",
       "      <th>revisoes</th>\n",
       "      <td>1</td>\n",
       "      <td>0</td>\n",
       "      <td>0</td>\n",
       "    </tr>\n",
       "    <tr>\n",
       "      <th>ipva_pago</th>\n",
       "      <td>1</td>\n",
       "      <td>1</td>\n",
       "      <td>0</td>\n",
       "    </tr>\n",
       "    <tr>\n",
       "      <th>licenciado</th>\n",
       "      <td>1</td>\n",
       "      <td>1</td>\n",
       "      <td>0</td>\n",
       "    </tr>\n",
       "    <tr>\n",
       "      <th>garantia_de_fabrica</th>\n",
       "      <td>0</td>\n",
       "      <td>0</td>\n",
       "      <td>0</td>\n",
       "    </tr>\n",
       "    <tr>\n",
       "      <th>revisoes_agenda</th>\n",
       "      <td>1</td>\n",
       "      <td>0</td>\n",
       "      <td>0</td>\n",
       "    </tr>\n",
       "    <tr>\n",
       "      <th>motor</th>\n",
       "      <td>150265.726555</td>\n",
       "      <td>150265.726555</td>\n",
       "      <td>108165.605248</td>\n",
       "    </tr>\n",
       "    <tr>\n",
       "      <th>idade_modelo</th>\n",
       "      <td>4</td>\n",
       "      <td>8</td>\n",
       "      <td>10</td>\n",
       "    </tr>\n",
       "    <tr>\n",
       "      <th>km_preco_enconding</th>\n",
       "      <td>0.484361</td>\n",
       "      <td>0.969202</td>\n",
       "      <td>2.03713</td>\n",
       "    </tr>\n",
       "    <tr>\n",
       "      <th>ano</th>\n",
       "      <td>2018.0</td>\n",
       "      <td>2013.0</td>\n",
       "      <td>2010.0</td>\n",
       "    </tr>\n",
       "    <tr>\n",
       "      <th>estado_cor</th>\n",
       "      <td>Paraná (PR) - Preto</td>\n",
       "      <td>São Paulo (SP) - Preto</td>\n",
       "      <td>São Paulo (SP) - Prata</td>\n",
       "    </tr>\n",
       "    <tr>\n",
       "      <th>estado-cor_enconding</th>\n",
       "      <td>123531.785782</td>\n",
       "      <td>108295.930361</td>\n",
       "      <td>99585.953992</td>\n",
       "    </tr>\n",
       "    <tr>\n",
       "      <th>ta__acessorios</th>\n",
       "      <td>0</td>\n",
       "      <td>0</td>\n",
       "      <td>0</td>\n",
       "    </tr>\n",
       "    <tr>\n",
       "      <th>ta__concessionaria</th>\n",
       "      <td>0</td>\n",
       "      <td>0</td>\n",
       "      <td>0</td>\n",
       "    </tr>\n",
       "    <tr>\n",
       "      <th>ta__loja</th>\n",
       "      <td>0</td>\n",
       "      <td>0</td>\n",
       "      <td>0</td>\n",
       "    </tr>\n",
       "    <tr>\n",
       "      <th>ta__pessoa_fisica</th>\n",
       "      <td>1</td>\n",
       "      <td>1</td>\n",
       "      <td>1</td>\n",
       "    </tr>\n",
       "  </tbody>\n",
       "</table>\n",
       "</div>"
      ],
      "text/plain": [
       "                                                       10424                                   15233                                    34006\n",
       "ID                    19336424570975899434713048442838788369  51007884149051504251061252640318124600  285074347520047155918079973711468516160\n",
       "num_fotos                                                  8                                       8                                        8\n",
       "marca                                          118864.653876                           118864.653876                            100155.595254\n",
       "modelo                                         188016.073299                           119604.194132                             74984.060461\n",
       "versao                                         248531.723471                           122363.747135                             49647.608054\n",
       "ano_de_fabricacao                                       2018                                    2012                                     2008\n",
       "ano_modelo                                              2018                                    2014                                     2012\n",
       "odometro                                             64549.0                                 99788.0                                 137483.0\n",
       "cambio                                         146579.444142                           146579.444142                             80328.343354\n",
       "num_portas                                                 4                                       4                                        4\n",
       "tipo                                           118647.979849                            92666.521106                            118647.979849\n",
       "blindado                                                   0                                       0                                        0\n",
       "cor                                                    Preto                                   Preto                                    Prata\n",
       "tipo_vendedor                                              1                                       1                                        1\n",
       "cidade_vendedor                                147350.914662                           126858.181814                            132172.449766\n",
       "estado_vendedor                                  Paraná (PR)                          São Paulo (SP)                           São Paulo (SP)\n",
       "entrega_delivery                                       False                                   False                                    False\n",
       "troca                                                  False                                   False                                    False\n",
       "elegivel_revisao                                       False                                   False                                    False\n",
       "aceita_troca                                               1                                       1                                        1\n",
       "unico_dono                                                 1                                       0                                        0\n",
       "revisoes                                                   1                                       0                                        0\n",
       "ipva_pago                                                  1                                       1                                        0\n",
       "licenciado                                                 1                                       1                                        0\n",
       "garantia_de_fabrica                                        0                                       0                                        0\n",
       "revisoes_agenda                                            1                                       0                                        0\n",
       "motor                                          150265.726555                           150265.726555                            108165.605248\n",
       "idade_modelo                                               4                                       8                                       10\n",
       "km_preco_enconding                                  0.484361                                0.969202                                  2.03713\n",
       "ano                                                   2018.0                                  2013.0                                   2010.0\n",
       "estado_cor                               Paraná (PR) - Preto                  São Paulo (SP) - Preto                   São Paulo (SP) - Prata\n",
       "estado-cor_enconding                           123531.785782                           108295.930361                             99585.953992\n",
       "ta__acessorios                                             0                                       0                                        0\n",
       "ta__concessionaria                                         0                                       0                                        0\n",
       "ta__loja                                                   0                                       0                                        0\n",
       "ta__pessoa_fisica                                          1                                       1                                        1"
      ]
     },
     "execution_count": 1343,
     "metadata": {},
     "output_type": "execute_result"
    }
   ],
   "source": [
    "df_validation.sample(3).T"
   ]
  },
  {
   "cell_type": "code",
   "execution_count": null,
   "metadata": {
    "ExecuteTime": {
     "end_time": "2022-08-21T20:21:58.894118Z",
     "start_time": "2022-08-21T20:21:58.881128Z"
    }
   },
   "outputs": [],
   "source": [
    "# cols_drop = ['cor','estado_vendedor']\n",
    "\n",
    "# df_train = df_train.drop(columns=cols_drop)\n",
    "# df_validation = df_validation.drop(columns=cols_drop)"
   ]
  },
  {
   "cell_type": "code",
   "execution_count": null,
   "metadata": {
    "ExecuteTime": {
     "end_time": "2022-08-21T20:21:58.925548Z",
     "start_time": "2022-08-21T20:21:58.896087Z"
    }
   },
   "outputs": [
    {
     "data": {
      "text/html": [
       "<div>\n",
       "<style scoped>\n",
       "    .dataframe tbody tr th:only-of-type {\n",
       "        vertical-align: middle;\n",
       "    }\n",
       "\n",
       "    .dataframe tbody tr th {\n",
       "        vertical-align: top;\n",
       "    }\n",
       "\n",
       "    .dataframe thead th {\n",
       "        text-align: right;\n",
       "    }\n",
       "</style>\n",
       "<table border=\"1\" class=\"dataframe\">\n",
       "  <thead>\n",
       "    <tr style=\"text-align: right;\">\n",
       "      <th></th>\n",
       "      <th>8143</th>\n",
       "      <th>37899</th>\n",
       "      <th>25379</th>\n",
       "    </tr>\n",
       "  </thead>\n",
       "  <tbody>\n",
       "    <tr>\n",
       "      <th>ID</th>\n",
       "      <td>255120441717815114091155684640352995143</td>\n",
       "      <td>88685192499607257994671447027053714171</td>\n",
       "      <td>18060785674851137622930963554261847681</td>\n",
       "    </tr>\n",
       "    <tr>\n",
       "      <th>num_fotos</th>\n",
       "      <td>15</td>\n",
       "      <td>17</td>\n",
       "      <td>14</td>\n",
       "    </tr>\n",
       "    <tr>\n",
       "      <th>marca</th>\n",
       "      <td>161363.144695</td>\n",
       "      <td>138480.542097</td>\n",
       "      <td>82280.596828</td>\n",
       "    </tr>\n",
       "    <tr>\n",
       "      <th>modelo</th>\n",
       "      <td>135603.058223</td>\n",
       "      <td>149075.431984</td>\n",
       "      <td>64100.756753</td>\n",
       "    </tr>\n",
       "    <tr>\n",
       "      <th>versao</th>\n",
       "      <td>142546.871982</td>\n",
       "      <td>136475.302724</td>\n",
       "      <td>44403.443493</td>\n",
       "    </tr>\n",
       "    <tr>\n",
       "      <th>ano_de_fabricacao</th>\n",
       "      <td>2013</td>\n",
       "      <td>2021</td>\n",
       "      <td>2012</td>\n",
       "    </tr>\n",
       "    <tr>\n",
       "      <th>ano_modelo</th>\n",
       "      <td>2015</td>\n",
       "      <td>2021</td>\n",
       "      <td>2012</td>\n",
       "    </tr>\n",
       "    <tr>\n",
       "      <th>odometro</th>\n",
       "      <td>66322.0</td>\n",
       "      <td>16564.0</td>\n",
       "      <td>113586.0</td>\n",
       "    </tr>\n",
       "    <tr>\n",
       "      <th>cambio</th>\n",
       "      <td>146579.444142</td>\n",
       "      <td>146579.444142</td>\n",
       "      <td>80328.343354</td>\n",
       "    </tr>\n",
       "    <tr>\n",
       "      <th>num_portas</th>\n",
       "      <td>4</td>\n",
       "      <td>4</td>\n",
       "      <td>4</td>\n",
       "    </tr>\n",
       "    <tr>\n",
       "      <th>tipo</th>\n",
       "      <td>118647.979849</td>\n",
       "      <td>118647.979849</td>\n",
       "      <td>159605.703146</td>\n",
       "    </tr>\n",
       "    <tr>\n",
       "      <th>blindado</th>\n",
       "      <td>0</td>\n",
       "      <td>0</td>\n",
       "      <td>0</td>\n",
       "    </tr>\n",
       "    <tr>\n",
       "      <th>cor</th>\n",
       "      <td>Branco</td>\n",
       "      <td>Cinza</td>\n",
       "      <td>Preto</td>\n",
       "    </tr>\n",
       "    <tr>\n",
       "      <th>tipo_vendedor</th>\n",
       "      <td>0</td>\n",
       "      <td>0</td>\n",
       "      <td>0</td>\n",
       "    </tr>\n",
       "    <tr>\n",
       "      <th>cidade_vendedor</th>\n",
       "      <td>119007.937716</td>\n",
       "      <td>135085.726172</td>\n",
       "      <td>126858.181814</td>\n",
       "    </tr>\n",
       "    <tr>\n",
       "      <th>estado_vendedor</th>\n",
       "      <td>Santa Catarina (SC)</td>\n",
       "      <td>Paraná (PR)</td>\n",
       "      <td>São Paulo (SP)</td>\n",
       "    </tr>\n",
       "    <tr>\n",
       "      <th>entrega_delivery</th>\n",
       "      <td>True</td>\n",
       "      <td>False</td>\n",
       "      <td>False</td>\n",
       "    </tr>\n",
       "    <tr>\n",
       "      <th>troca</th>\n",
       "      <td>True</td>\n",
       "      <td>False</td>\n",
       "      <td>False</td>\n",
       "    </tr>\n",
       "    <tr>\n",
       "      <th>elegivel_revisao</th>\n",
       "      <td>False</td>\n",
       "      <td>False</td>\n",
       "      <td>False</td>\n",
       "    </tr>\n",
       "    <tr>\n",
       "      <th>aceita_troca</th>\n",
       "      <td>1</td>\n",
       "      <td>1</td>\n",
       "      <td>1</td>\n",
       "    </tr>\n",
       "    <tr>\n",
       "      <th>unico_dono</th>\n",
       "      <td>0</td>\n",
       "      <td>0</td>\n",
       "      <td>0</td>\n",
       "    </tr>\n",
       "    <tr>\n",
       "      <th>revisoes</th>\n",
       "      <td>0</td>\n",
       "      <td>0</td>\n",
       "      <td>0</td>\n",
       "    </tr>\n",
       "    <tr>\n",
       "      <th>ipva_pago</th>\n",
       "      <td>0</td>\n",
       "      <td>1</td>\n",
       "      <td>1</td>\n",
       "    </tr>\n",
       "    <tr>\n",
       "      <th>licenciado</th>\n",
       "      <td>0</td>\n",
       "      <td>0</td>\n",
       "      <td>1</td>\n",
       "    </tr>\n",
       "    <tr>\n",
       "      <th>garantia_de_fabrica</th>\n",
       "      <td>0</td>\n",
       "      <td>0</td>\n",
       "      <td>0</td>\n",
       "    </tr>\n",
       "    <tr>\n",
       "      <th>revisoes_agenda</th>\n",
       "      <td>0</td>\n",
       "      <td>0</td>\n",
       "      <td>0</td>\n",
       "    </tr>\n",
       "    <tr>\n",
       "      <th>preco</th>\n",
       "      <td>11.765646</td>\n",
       "      <td>12.153577</td>\n",
       "      <td>10.745968</td>\n",
       "    </tr>\n",
       "    <tr>\n",
       "      <th>motor</th>\n",
       "      <td>150265.726555</td>\n",
       "      <td>150265.726555</td>\n",
       "      <td>104201.602051</td>\n",
       "    </tr>\n",
       "    <tr>\n",
       "      <th>idade_modelo</th>\n",
       "      <td>7</td>\n",
       "      <td>1</td>\n",
       "      <td>10</td>\n",
       "    </tr>\n",
       "    <tr>\n",
       "      <th>km_preco_enconding</th>\n",
       "      <td>0.79824</td>\n",
       "      <td>0.199439</td>\n",
       "      <td>2.03713</td>\n",
       "    </tr>\n",
       "    <tr>\n",
       "      <th>ano</th>\n",
       "      <td>2014.0</td>\n",
       "      <td>2021.0</td>\n",
       "      <td>2012.0</td>\n",
       "    </tr>\n",
       "    <tr>\n",
       "      <th>estado_cor</th>\n",
       "      <td>Santa Catarina (SC) - Branco</td>\n",
       "      <td>Paraná (PR) - Cinza</td>\n",
       "      <td>São Paulo (SP) - Preto</td>\n",
       "    </tr>\n",
       "    <tr>\n",
       "      <th>estado-cor_enconding</th>\n",
       "      <td>119579.122521</td>\n",
       "      <td>204632.919568</td>\n",
       "      <td>108295.930361</td>\n",
       "    </tr>\n",
       "    <tr>\n",
       "      <th>ta__acessorios</th>\n",
       "      <td>0</td>\n",
       "      <td>0</td>\n",
       "      <td>0</td>\n",
       "    </tr>\n",
       "    <tr>\n",
       "      <th>ta__concessionaria</th>\n",
       "      <td>0</td>\n",
       "      <td>0</td>\n",
       "      <td>0</td>\n",
       "    </tr>\n",
       "    <tr>\n",
       "      <th>ta__loja</th>\n",
       "      <td>1</td>\n",
       "      <td>1</td>\n",
       "      <td>1</td>\n",
       "    </tr>\n",
       "    <tr>\n",
       "      <th>ta__pessoa_fisica</th>\n",
       "      <td>0</td>\n",
       "      <td>0</td>\n",
       "      <td>0</td>\n",
       "    </tr>\n",
       "  </tbody>\n",
       "</table>\n",
       "</div>"
      ],
      "text/plain": [
       "                                                        8143                                    37899                                   25379\n",
       "ID                    255120441717815114091155684640352995143  88685192499607257994671447027053714171  18060785674851137622930963554261847681\n",
       "num_fotos                                                  15                                      17                                      14\n",
       "marca                                           161363.144695                           138480.542097                            82280.596828\n",
       "modelo                                          135603.058223                           149075.431984                            64100.756753\n",
       "versao                                          142546.871982                           136475.302724                            44403.443493\n",
       "ano_de_fabricacao                                        2013                                    2021                                    2012\n",
       "ano_modelo                                               2015                                    2021                                    2012\n",
       "odometro                                              66322.0                                 16564.0                                113586.0\n",
       "cambio                                          146579.444142                           146579.444142                            80328.343354\n",
       "num_portas                                                  4                                       4                                       4\n",
       "tipo                                            118647.979849                           118647.979849                           159605.703146\n",
       "blindado                                                    0                                       0                                       0\n",
       "cor                                                    Branco                                   Cinza                                   Preto\n",
       "tipo_vendedor                                               0                                       0                                       0\n",
       "cidade_vendedor                                 119007.937716                           135085.726172                           126858.181814\n",
       "estado_vendedor                           Santa Catarina (SC)                             Paraná (PR)                          São Paulo (SP)\n",
       "entrega_delivery                                         True                                   False                                   False\n",
       "troca                                                    True                                   False                                   False\n",
       "elegivel_revisao                                        False                                   False                                   False\n",
       "aceita_troca                                                1                                       1                                       1\n",
       "unico_dono                                                  0                                       0                                       0\n",
       "revisoes                                                    0                                       0                                       0\n",
       "ipva_pago                                                   0                                       1                                       1\n",
       "licenciado                                                  0                                       0                                       1\n",
       "garantia_de_fabrica                                         0                                       0                                       0\n",
       "revisoes_agenda                                             0                                       0                                       0\n",
       "preco                                               11.765646                               12.153577                               10.745968\n",
       "motor                                           150265.726555                           150265.726555                           104201.602051\n",
       "idade_modelo                                                7                                       1                                      10\n",
       "km_preco_enconding                                    0.79824                                0.199439                                 2.03713\n",
       "ano                                                    2014.0                                  2021.0                                  2012.0\n",
       "estado_cor                       Santa Catarina (SC) - Branco                     Paraná (PR) - Cinza                  São Paulo (SP) - Preto\n",
       "estado-cor_enconding                            119579.122521                           204632.919568                           108295.930361\n",
       "ta__acessorios                                              0                                       0                                       0\n",
       "ta__concessionaria                                          0                                       0                                       0\n",
       "ta__loja                                                    1                                       1                                       1\n",
       "ta__pessoa_fisica                                           0                                       0                                       0"
      ]
     },
     "execution_count": 1345,
     "metadata": {},
     "output_type": "execute_result"
    }
   ],
   "source": [
    "df_train.sample(3).T"
   ]
  },
  {
   "cell_type": "code",
   "execution_count": null,
   "metadata": {
    "ExecuteTime": {
     "end_time": "2022-08-21T20:21:58.956531Z",
     "start_time": "2022-08-21T20:21:58.930537Z"
    }
   },
   "outputs": [
    {
     "data": {
      "text/html": [
       "<div>\n",
       "<style scoped>\n",
       "    .dataframe tbody tr th:only-of-type {\n",
       "        vertical-align: middle;\n",
       "    }\n",
       "\n",
       "    .dataframe tbody tr th {\n",
       "        vertical-align: top;\n",
       "    }\n",
       "\n",
       "    .dataframe thead th {\n",
       "        text-align: right;\n",
       "    }\n",
       "</style>\n",
       "<table border=\"1\" class=\"dataframe\">\n",
       "  <thead>\n",
       "    <tr style=\"text-align: right;\">\n",
       "      <th></th>\n",
       "      <th>37402</th>\n",
       "      <th>7502</th>\n",
       "      <th>36526</th>\n",
       "    </tr>\n",
       "  </thead>\n",
       "  <tbody>\n",
       "    <tr>\n",
       "      <th>ID</th>\n",
       "      <td>61065946530180692523668174336934985197</td>\n",
       "      <td>256373878196746714160247411011638586704</td>\n",
       "      <td>175886926363492852050996340901143937010</td>\n",
       "    </tr>\n",
       "    <tr>\n",
       "      <th>num_fotos</th>\n",
       "      <td>8</td>\n",
       "      <td>8</td>\n",
       "      <td>8</td>\n",
       "    </tr>\n",
       "    <tr>\n",
       "      <th>marca</th>\n",
       "      <td>200118.573156</td>\n",
       "      <td>82280.596828</td>\n",
       "      <td>84588.97835</td>\n",
       "    </tr>\n",
       "    <tr>\n",
       "      <th>modelo</th>\n",
       "      <td>181489.306511</td>\n",
       "      <td>74594.941988</td>\n",
       "      <td>109289.905007</td>\n",
       "    </tr>\n",
       "    <tr>\n",
       "      <th>versao</th>\n",
       "      <td>160072.056119</td>\n",
       "      <td>90248.738518</td>\n",
       "      <td>132839.140313</td>\n",
       "    </tr>\n",
       "    <tr>\n",
       "      <th>ano_de_fabricacao</th>\n",
       "      <td>2016</td>\n",
       "      <td>2021</td>\n",
       "      <td>2014</td>\n",
       "    </tr>\n",
       "    <tr>\n",
       "      <th>ano_modelo</th>\n",
       "      <td>2017</td>\n",
       "      <td>2021</td>\n",
       "      <td>2017</td>\n",
       "    </tr>\n",
       "    <tr>\n",
       "      <th>odometro</th>\n",
       "      <td>46735.0</td>\n",
       "      <td>37482.0</td>\n",
       "      <td>65977.0</td>\n",
       "    </tr>\n",
       "    <tr>\n",
       "      <th>cambio</th>\n",
       "      <td>146579.444142</td>\n",
       "      <td>146579.444142</td>\n",
       "      <td>146579.444142</td>\n",
       "    </tr>\n",
       "    <tr>\n",
       "      <th>num_portas</th>\n",
       "      <td>4</td>\n",
       "      <td>4</td>\n",
       "      <td>4</td>\n",
       "    </tr>\n",
       "    <tr>\n",
       "      <th>tipo</th>\n",
       "      <td>118647.979849</td>\n",
       "      <td>118647.979849</td>\n",
       "      <td>118647.979849</td>\n",
       "    </tr>\n",
       "    <tr>\n",
       "      <th>blindado</th>\n",
       "      <td>0</td>\n",
       "      <td>0</td>\n",
       "      <td>0</td>\n",
       "    </tr>\n",
       "    <tr>\n",
       "      <th>cor</th>\n",
       "      <td>Preto</td>\n",
       "      <td>Branco</td>\n",
       "      <td>Branco</td>\n",
       "    </tr>\n",
       "    <tr>\n",
       "      <th>tipo_vendedor</th>\n",
       "      <td>1</td>\n",
       "      <td>1</td>\n",
       "      <td>1</td>\n",
       "    </tr>\n",
       "    <tr>\n",
       "      <th>cidade_vendedor</th>\n",
       "      <td>163260.666402</td>\n",
       "      <td>126858.181814</td>\n",
       "      <td>126858.181814</td>\n",
       "    </tr>\n",
       "    <tr>\n",
       "      <th>estado_vendedor</th>\n",
       "      <td>São Paulo (SP)</td>\n",
       "      <td>São Paulo (SP)</td>\n",
       "      <td>São Paulo (SP)</td>\n",
       "    </tr>\n",
       "    <tr>\n",
       "      <th>entrega_delivery</th>\n",
       "      <td>False</td>\n",
       "      <td>False</td>\n",
       "      <td>False</td>\n",
       "    </tr>\n",
       "    <tr>\n",
       "      <th>troca</th>\n",
       "      <td>False</td>\n",
       "      <td>False</td>\n",
       "      <td>False</td>\n",
       "    </tr>\n",
       "    <tr>\n",
       "      <th>elegivel_revisao</th>\n",
       "      <td>False</td>\n",
       "      <td>False</td>\n",
       "      <td>False</td>\n",
       "    </tr>\n",
       "    <tr>\n",
       "      <th>aceita_troca</th>\n",
       "      <td>0</td>\n",
       "      <td>1</td>\n",
       "      <td>1</td>\n",
       "    </tr>\n",
       "    <tr>\n",
       "      <th>unico_dono</th>\n",
       "      <td>1</td>\n",
       "      <td>0</td>\n",
       "      <td>0</td>\n",
       "    </tr>\n",
       "    <tr>\n",
       "      <th>revisoes</th>\n",
       "      <td>0</td>\n",
       "      <td>0</td>\n",
       "      <td>1</td>\n",
       "    </tr>\n",
       "    <tr>\n",
       "      <th>ipva_pago</th>\n",
       "      <td>1</td>\n",
       "      <td>1</td>\n",
       "      <td>1</td>\n",
       "    </tr>\n",
       "    <tr>\n",
       "      <th>licenciado</th>\n",
       "      <td>1</td>\n",
       "      <td>1</td>\n",
       "      <td>1</td>\n",
       "    </tr>\n",
       "    <tr>\n",
       "      <th>garantia_de_fabrica</th>\n",
       "      <td>0</td>\n",
       "      <td>0</td>\n",
       "      <td>0</td>\n",
       "    </tr>\n",
       "    <tr>\n",
       "      <th>revisoes_agenda</th>\n",
       "      <td>0</td>\n",
       "      <td>0</td>\n",
       "      <td>1</td>\n",
       "    </tr>\n",
       "    <tr>\n",
       "      <th>motor</th>\n",
       "      <td>150265.726555</td>\n",
       "      <td>104201.602051</td>\n",
       "      <td>139582.622542</td>\n",
       "    </tr>\n",
       "    <tr>\n",
       "      <th>idade_modelo</th>\n",
       "      <td>5</td>\n",
       "      <td>1</td>\n",
       "      <td>5</td>\n",
       "    </tr>\n",
       "    <tr>\n",
       "      <th>km_preco_enconding</th>\n",
       "      <td>0.642595</td>\n",
       "      <td>0.199439</td>\n",
       "      <td>0.642595</td>\n",
       "    </tr>\n",
       "    <tr>\n",
       "      <th>ano</th>\n",
       "      <td>2016.5</td>\n",
       "      <td>2021.0</td>\n",
       "      <td>2015.5</td>\n",
       "    </tr>\n",
       "    <tr>\n",
       "      <th>estado_cor</th>\n",
       "      <td>São Paulo (SP) - Preto</td>\n",
       "      <td>São Paulo (SP) - Branco</td>\n",
       "      <td>São Paulo (SP) - Branco</td>\n",
       "    </tr>\n",
       "    <tr>\n",
       "      <th>estado-cor_enconding</th>\n",
       "      <td>108295.930361</td>\n",
       "      <td>105182.229435</td>\n",
       "      <td>105182.229435</td>\n",
       "    </tr>\n",
       "    <tr>\n",
       "      <th>ta__acessorios</th>\n",
       "      <td>0</td>\n",
       "      <td>0</td>\n",
       "      <td>0</td>\n",
       "    </tr>\n",
       "    <tr>\n",
       "      <th>ta__concessionaria</th>\n",
       "      <td>0</td>\n",
       "      <td>0</td>\n",
       "      <td>0</td>\n",
       "    </tr>\n",
       "    <tr>\n",
       "      <th>ta__loja</th>\n",
       "      <td>0</td>\n",
       "      <td>0</td>\n",
       "      <td>0</td>\n",
       "    </tr>\n",
       "    <tr>\n",
       "      <th>ta__pessoa_fisica</th>\n",
       "      <td>1</td>\n",
       "      <td>1</td>\n",
       "      <td>1</td>\n",
       "    </tr>\n",
       "  </tbody>\n",
       "</table>\n",
       "</div>"
      ],
      "text/plain": [
       "                                                       37402                                    7502                                     36526\n",
       "ID                    61065946530180692523668174336934985197  256373878196746714160247411011638586704  175886926363492852050996340901143937010\n",
       "num_fotos                                                  8                                        8                                        8\n",
       "marca                                          200118.573156                             82280.596828                              84588.97835\n",
       "modelo                                         181489.306511                             74594.941988                            109289.905007\n",
       "versao                                         160072.056119                             90248.738518                            132839.140313\n",
       "ano_de_fabricacao                                       2016                                     2021                                     2014\n",
       "ano_modelo                                              2017                                     2021                                     2017\n",
       "odometro                                             46735.0                                  37482.0                                  65977.0\n",
       "cambio                                         146579.444142                            146579.444142                            146579.444142\n",
       "num_portas                                                 4                                        4                                        4\n",
       "tipo                                           118647.979849                            118647.979849                            118647.979849\n",
       "blindado                                                   0                                        0                                        0\n",
       "cor                                                    Preto                                   Branco                                   Branco\n",
       "tipo_vendedor                                              1                                        1                                        1\n",
       "cidade_vendedor                                163260.666402                            126858.181814                            126858.181814\n",
       "estado_vendedor                               São Paulo (SP)                           São Paulo (SP)                           São Paulo (SP)\n",
       "entrega_delivery                                       False                                    False                                    False\n",
       "troca                                                  False                                    False                                    False\n",
       "elegivel_revisao                                       False                                    False                                    False\n",
       "aceita_troca                                               0                                        1                                        1\n",
       "unico_dono                                                 1                                        0                                        0\n",
       "revisoes                                                   0                                        0                                        1\n",
       "ipva_pago                                                  1                                        1                                        1\n",
       "licenciado                                                 1                                        1                                        1\n",
       "garantia_de_fabrica                                        0                                        0                                        0\n",
       "revisoes_agenda                                            0                                        0                                        1\n",
       "motor                                          150265.726555                            104201.602051                            139582.622542\n",
       "idade_modelo                                               5                                        1                                        5\n",
       "km_preco_enconding                                  0.642595                                 0.199439                                 0.642595\n",
       "ano                                                   2016.5                                   2021.0                                   2015.5\n",
       "estado_cor                            São Paulo (SP) - Preto                  São Paulo (SP) - Branco                  São Paulo (SP) - Branco\n",
       "estado-cor_enconding                           108295.930361                            105182.229435                            105182.229435\n",
       "ta__acessorios                                             0                                        0                                        0\n",
       "ta__concessionaria                                         0                                        0                                        0\n",
       "ta__loja                                                   0                                        0                                        0\n",
       "ta__pessoa_fisica                                          1                                        1                                        1"
      ]
     },
     "execution_count": 1346,
     "metadata": {},
     "output_type": "execute_result"
    }
   ],
   "source": [
    "df_validation.sample(3).T"
   ]
  },
  {
   "cell_type": "code",
   "execution_count": null,
   "metadata": {
    "ExecuteTime": {
     "end_time": "2022-08-21T20:21:58.972003Z",
     "start_time": "2022-08-21T20:21:58.960033Z"
    }
   },
   "outputs": [
    {
     "data": {
      "text/plain": [
       "Index(['ID', 'num_fotos', 'marca', 'modelo', 'versao', 'ano_de_fabricacao', 'ano_modelo', 'odometro', 'cambio', 'num_portas', 'tipo', 'blindado', 'cor', 'tipo_vendedor', 'cidade_vendedor', 'estado_vendedor', 'entrega_delivery', 'troca', 'elegivel_revisao', 'aceita_troca', 'unico_dono', 'revisoes', 'ipva_pago', 'licenciado', 'garantia_de_fabrica', 'revisoes_agenda', 'preco', 'motor', 'idade_modelo', 'km_preco_enconding', 'ano', 'estado_cor', 'estado-cor_enconding', 'ta__acessorios', 'ta__concessionaria', 'ta__loja', 'ta__pessoa_fisica'], dtype='object')"
      ]
     },
     "execution_count": 1347,
     "metadata": {},
     "output_type": "execute_result"
    }
   ],
   "source": [
    "df_train.columns"
   ]
  },
  {
   "cell_type": "markdown",
   "metadata": {},
   "source": [
    "## 3.3 Separando Dataset em Treino e Test"
   ]
  },
  {
   "cell_type": "code",
   "execution_count": null,
   "metadata": {
    "ExecuteTime": {
     "end_time": "2022-08-21T20:21:59.003184Z",
     "start_time": "2022-08-21T20:21:58.975088Z"
    }
   },
   "outputs": [],
   "source": [
    "# treino\n",
    "X_full = df_train[['versao','marca', 'modelo','odometro','cambio','tipo', 'cidade_vendedor','motor','ano','estado-cor_enconding','km_preco_enconding']]\n",
    "y_full = df_train['preco']\n",
    "\n",
    "# validation\n",
    "X_valid = df_validation[['versao','marca', 'modelo','odometro','cambio','tipo', 'cidade_vendedor','motor','ano','estado-cor_enconding','km_preco_enconding']]\n",
    "\n",
    "X_train, X_test, y_train, y_test = train_test_split( X_full, y_full, test_size=0.20, random_state=42)"
   ]
  },
  {
   "cell_type": "code",
   "execution_count": null,
   "metadata": {
    "ExecuteTime": {
     "end_time": "2022-08-21T20:21:59.050055Z",
     "start_time": "2022-08-21T20:21:59.013238Z"
    }
   },
   "outputs": [
    {
     "data": {
      "text/html": [
       "<div>\n",
       "<style scoped>\n",
       "    .dataframe tbody tr th:only-of-type {\n",
       "        vertical-align: middle;\n",
       "    }\n",
       "\n",
       "    .dataframe tbody tr th {\n",
       "        vertical-align: top;\n",
       "    }\n",
       "\n",
       "    .dataframe thead th {\n",
       "        text-align: right;\n",
       "    }\n",
       "</style>\n",
       "<table border=\"1\" class=\"dataframe\">\n",
       "  <thead>\n",
       "    <tr style=\"text-align: right;\">\n",
       "      <th></th>\n",
       "      <th>versao</th>\n",
       "      <th>marca</th>\n",
       "      <th>modelo</th>\n",
       "      <th>odometro</th>\n",
       "      <th>cambio</th>\n",
       "      <th>tipo</th>\n",
       "      <th>cidade_vendedor</th>\n",
       "      <th>motor</th>\n",
       "      <th>ano</th>\n",
       "      <th>estado-cor_enconding</th>\n",
       "      <th>km_preco_enconding</th>\n",
       "    </tr>\n",
       "  </thead>\n",
       "  <tbody>\n",
       "    <tr>\n",
       "      <th>0</th>\n",
       "      <td>131535.788104</td>\n",
       "      <td>118864.653876</td>\n",
       "      <td>182866.374487</td>\n",
       "      <td>55672.0</td>\n",
       "      <td>146579.444142</td>\n",
       "      <td>159605.703146</td>\n",
       "      <td>126858.181814</td>\n",
       "      <td>150265.726555</td>\n",
       "      <td>2017.0</td>\n",
       "      <td>108295.930361</td>\n",
       "      <td>0.642595</td>\n",
       "    </tr>\n",
       "    <tr>\n",
       "      <th>1</th>\n",
       "      <td>260124.440884</td>\n",
       "      <td>223453.245531</td>\n",
       "      <td>265969.455964</td>\n",
       "      <td>47858.0</td>\n",
       "      <td>146579.444142</td>\n",
       "      <td>225908.426740</td>\n",
       "      <td>132172.449766</td>\n",
       "      <td>150265.726555</td>\n",
       "      <td>2017.0</td>\n",
       "      <td>132558.593030</td>\n",
       "      <td>0.642595</td>\n",
       "    </tr>\n",
       "    <tr>\n",
       "      <th>2</th>\n",
       "      <td>60509.440259</td>\n",
       "      <td>93135.094963</td>\n",
       "      <td>88113.881275</td>\n",
       "      <td>122323.0</td>\n",
       "      <td>146579.444142</td>\n",
       "      <td>118647.979849</td>\n",
       "      <td>132172.449766</td>\n",
       "      <td>91646.221564</td>\n",
       "      <td>2012.5</td>\n",
       "      <td>99585.953992</td>\n",
       "      <td>1.489613</td>\n",
       "    </tr>\n",
       "    <tr>\n",
       "      <th>3</th>\n",
       "      <td>302935.323779</td>\n",
       "      <td>316500.644566</td>\n",
       "      <td>404300.455891</td>\n",
       "      <td>14207.0</td>\n",
       "      <td>146579.444142</td>\n",
       "      <td>159605.703146</td>\n",
       "      <td>126858.181814</td>\n",
       "      <td>150265.726555</td>\n",
       "      <td>2020.5</td>\n",
       "      <td>105182.229435</td>\n",
       "      <td>0.199439</td>\n",
       "    </tr>\n",
       "    <tr>\n",
       "      <th>4</th>\n",
       "      <td>174077.213901</td>\n",
       "      <td>197789.362549</td>\n",
       "      <td>258674.002124</td>\n",
       "      <td>43760.0</td>\n",
       "      <td>146579.444142</td>\n",
       "      <td>225908.426740</td>\n",
       "      <td>163260.666402</td>\n",
       "      <td>150265.726555</td>\n",
       "      <td>2015.5</td>\n",
       "      <td>108295.930361</td>\n",
       "      <td>0.724326</td>\n",
       "    </tr>\n",
       "  </tbody>\n",
       "</table>\n",
       "</div>"
      ],
      "text/plain": [
       "          versao          marca         modelo  odometro         cambio           tipo  cidade_vendedor          motor     ano  estado-cor_enconding  km_preco_enconding\n",
       "0  131535.788104  118864.653876  182866.374487   55672.0  146579.444142  159605.703146    126858.181814  150265.726555  2017.0         108295.930361            0.642595\n",
       "1  260124.440884  223453.245531  265969.455964   47858.0  146579.444142  225908.426740    132172.449766  150265.726555  2017.0         132558.593030            0.642595\n",
       "2   60509.440259   93135.094963   88113.881275  122323.0  146579.444142  118647.979849    132172.449766   91646.221564  2012.5          99585.953992            1.489613\n",
       "3  302935.323779  316500.644566  404300.455891   14207.0  146579.444142  159605.703146    126858.181814  150265.726555  2020.5         105182.229435            0.199439\n",
       "4  174077.213901  197789.362549  258674.002124   43760.0  146579.444142  225908.426740    163260.666402  150265.726555  2015.5         108295.930361            0.724326"
      ]
     },
     "execution_count": 1349,
     "metadata": {},
     "output_type": "execute_result"
    }
   ],
   "source": [
    "X_full.head()"
   ]
  },
  {
   "cell_type": "markdown",
   "metadata": {},
   "source": [
    "## Lazy Predict"
   ]
  },
  {
   "cell_type": "code",
   "execution_count": null,
   "metadata": {
    "ExecuteTime": {
     "end_time": "2022-08-21T20:21:59.065006Z",
     "start_time": "2022-08-21T20:21:59.052040Z"
    }
   },
   "outputs": [],
   "source": [
    "# from sre_constants import ANY\n",
    "# from tkinter import ALL\n",
    "# from sklearn.metrics import mean_absolute_error\n",
    "\n",
    "# reg = LazyRegressor(verbose=0, ignore_warnings=False, custom_metric=mean_absolute_error)\n",
    "# models, predictions = reg.fit(X_train, X_test, y_train, y_test)\n",
    "\n",
    "# print(models)"
   ]
  },
  {
   "cell_type": "markdown",
   "metadata": {},
   "source": [
    "## Modelo Machine Learning"
   ]
  },
  {
   "cell_type": "markdown",
   "metadata": {},
   "source": [
    "### Testando a Regressão com LGBM"
   ]
  },
  {
   "cell_type": "code",
   "execution_count": null,
   "metadata": {
    "ExecuteTime": {
     "end_time": "2022-08-21T20:22:00.397041Z",
     "start_time": "2022-08-21T20:21:59.066996Z"
    }
   },
   "outputs": [
    {
     "name": "stdout",
     "output_type": "stream",
     "text": [
      "[LightGBM] [Warning] Unknown parameter: base_score\n",
      "[LightGBM] [Warning] Unknown parameter: booster\n",
      "24877.186022641574\n"
     ]
    }
   ],
   "source": [
    "### Parametros retornados da seção fine tuning\n",
    "model_lgbm = ltb.LGBMRegressor(base_score=0.5, booster='gbtree', learning_rate=0.05,\n",
    "                               max_depth=20, min_child_weight=4, n_estimators=700)\n",
    "\n",
    "model_lgbm.fit(X_train, y_train)\n",
    "\n",
    "expected_y  = y_test\n",
    "predicted_y = model_lgbm.predict(X_test)\n",
    "\n",
    "plt.style.use('ggplot')\n",
    "\n",
    "# Dado que as variáveis estão em escala logaritma, fazemos a transformação inversa (exp)\n",
    "print(metrics.mean_absolute_error(np.expm1(expected_y), np.expm1(predicted_y)))"
   ]
  },
  {
   "cell_type": "markdown",
   "metadata": {},
   "source": [
    "### Testando a Regressão com XGBoost"
   ]
  },
  {
   "cell_type": "code",
   "execution_count": null,
   "metadata": {
    "ExecuteTime": {
     "end_time": "2022-08-21T20:22:13.609544Z",
     "start_time": "2022-08-21T20:22:00.400027Z"
    }
   },
   "outputs": [
    {
     "name": "stdout",
     "output_type": "stream",
     "text": [
      "[17:22:00] WARNING: C:/Users/Administrator/workspace/xgboost-win64_release_1.6.0/src/learner.cc:627: \n",
      "Parameters: { \"min_child_weigth\" } might not be used.\n",
      "\n",
      "  This could be a false alarm, with some parameters getting used by language bindings but\n",
      "  then being mistakenly passed down to XGBoost core, or some parameter actually being used\n",
      "  but getting flagged wrongly here. Please open an issue if you find any such cases.\n",
      "\n",
      "\n",
      "25384.32072384433\n"
     ]
    }
   ],
   "source": [
    "# Parametros retornados da seção fine tuning\n",
    "param_tuned = {'n_estimators': 900, 'eta': 0.03, 'max_depth': 9, 'subsample': 0.1, 'colsample_bytree': 0.3, 'min_child_weigth': 3}\n",
    "\n",
    "model_xgb = xgb.XGBRegressor( objective='reg:squarederror',\n",
    "                              n_estimators=param_tuned['n_estimators'], \n",
    "                              eta=param_tuned['eta'], \n",
    "                              max_depth=param_tuned['max_depth'], \n",
    "                              subsample=param_tuned['subsample'],\n",
    "                              colsample_bytree=param_tuned['colsample_bytree'],\n",
    "                              min_child_weigth = param_tuned['min_child_weigth'])\n",
    "\n",
    "model_xgb.fit(X_train, y_train)\n",
    "\n",
    "expected_y  = y_test\n",
    "predicted_y = model_xgb.predict(X_test)\n",
    "\n",
    "plt.style.use('ggplot')\n",
    "\n",
    "# Dado que as variáveis estão em escala logaritma, fazemos a transformação inversa (exp)\n",
    "print(metrics.mean_absolute_error(np.expm1(expected_y), np.expm1(predicted_y)))"
   ]
  },
  {
   "cell_type": "markdown",
   "metadata": {},
   "source": [
    "### Fine Tuning"
   ]
  },
  {
   "cell_type": "code",
   "execution_count": null,
   "metadata": {
    "ExecuteTime": {
     "end_time": "2022-08-21T20:22:13.625618Z",
     "start_time": "2022-08-21T20:22:13.613805Z"
    }
   },
   "outputs": [],
   "source": [
    "# booster=['gbtree','gblinear']\n",
    "# base_score=[0.25,0.5,0.75,1]\n",
    "\n",
    "# ## Hyper Parameter Optimization\n",
    "# n_estimators = [100, 500, 900, 1100, 1500]\n",
    "# max_depth = [2, 3, 5, 10, 15]\n",
    "# booster=['gbtree','gblinear']\n",
    "# learning_rate=[0.05,0.1,0.15,0.20]\n",
    "# min_child_weight=[1,2,3,4]\n",
    "\n",
    "# # Define the grid of hyperparameters to search\n",
    "# hyperparameter_grid = {\n",
    "#     'n_estimators': n_estimators,\n",
    "#     'max_depth':max_depth,\n",
    "#     'learning_rate':learning_rate,\n",
    "#     'min_child_weight':min_child_weight,\n",
    "#     'booster':booster,\n",
    "#     'base_score':base_score\n",
    "#     }\n",
    "\n",
    "# # Set up the random search with 4-fold cross validation\n",
    "# random_cv = RandomizedSearchCV(estimator=model_xgb,\n",
    "#             param_distributions=hyperparameter_grid,\n",
    "#             cv=5, n_iter=50,\n",
    "#             scoring = 'neg_mean_absolute_error',n_jobs = 4,\n",
    "#             verbose = 5, \n",
    "#             return_train_score = True,\n",
    "#             random_state=42)\n",
    "\n",
    "# random_cv.fit(X_train,y_train)\n",
    "\n",
    "# random_cv.best_estimator_"
   ]
  },
  {
   "cell_type": "markdown",
   "metadata": {},
   "source": [
    "# Treino com o Dateset Full"
   ]
  },
  {
   "cell_type": "code",
   "execution_count": null,
   "metadata": {
    "ExecuteTime": {
     "end_time": "2022-08-21T20:22:16.896026Z",
     "start_time": "2022-08-21T20:22:13.630126Z"
    }
   },
   "outputs": [
    {
     "name": "stdout",
     "output_type": "stream",
     "text": [
      "[LightGBM] [Warning] Unknown parameter: base_score\n",
      "[LightGBM] [Warning] Unknown parameter: booster\n"
     ]
    },
    {
     "data": {
      "text/plain": [
       "array([ 61377.23842561, 110001.96377092,  91006.78018077, ...,\n",
       "       140557.14286002, 380201.22970163,  59689.04984242])"
      ]
     },
     "execution_count": 1354,
     "metadata": {},
     "output_type": "execute_result"
    }
   ],
   "source": [
    "model_lgbm_full = ltb.LGBMRegressor(base_score=0.5, booster='gbtree', learning_rate=0.05,\n",
    "                                    max_depth=15, min_child_weight=4, n_estimators=900)\n",
    "\n",
    "model_lgbm_full.fit(X_full, y_full)\n",
    "\n",
    "model_submission = np.expm1(model_lgbm_full.predict(X_valid))\n",
    "\n",
    "model_submission"
   ]
  },
  {
   "cell_type": "code",
   "execution_count": null,
   "metadata": {
    "ExecuteTime": {
     "end_time": "2022-08-21T20:22:16.911373Z",
     "start_time": "2022-08-21T20:22:16.900045Z"
    }
   },
   "outputs": [
    {
     "data": {
      "text/plain": [
       "array([ 61377.23842561, 110001.96377092,  91006.78018077, ...,\n",
       "       140557.14286002, 380201.22970163,  59689.04984242])"
      ]
     },
     "execution_count": 1355,
     "metadata": {},
     "output_type": "execute_result"
    }
   ],
   "source": [
    "model_submission"
   ]
  },
  {
   "cell_type": "markdown",
   "metadata": {},
   "source": [
    "## Avaliação dos Modelos"
   ]
  },
  {
   "cell_type": "code",
   "execution_count": null,
   "metadata": {
    "ExecuteTime": {
     "end_time": "2022-08-21T20:22:16.927116Z",
     "start_time": "2022-08-21T20:22:16.915869Z"
    }
   },
   "outputs": [],
   "source": [
    "# Relevancia das variáveis no modelo de treino\n",
    "# explainer = shap.TreeExplainer(model_lgbm)\n",
    "# shap_values = explainer.shap_values(X_test)\n",
    "# shap.summary_plot(shap_values, X_test, plot_type=\"bar\")"
   ]
  },
  {
   "cell_type": "code",
   "execution_count": null,
   "metadata": {
    "ExecuteTime": {
     "end_time": "2022-08-21T20:22:16.943075Z",
     "start_time": "2022-08-21T20:22:16.935246Z"
    }
   },
   "outputs": [],
   "source": [
    "# Avalia o modelo\n",
    "# shap.summary_plot(shap_values, X_test)"
   ]
  },
  {
   "cell_type": "code",
   "execution_count": null,
   "metadata": {
    "ExecuteTime": {
     "end_time": "2022-08-21T20:22:16.959034Z",
     "start_time": "2022-08-21T20:22:16.947063Z"
    }
   },
   "outputs": [],
   "source": [
    "# Avalia o impacto das variáveis no modelo de submissão\n",
    "# explainer = shap.TreeExplainer(model_lgbm_full)\n",
    "# shap_values = explainer.shap_values(X_test)\n",
    "# shap.summary_plot(shap_values, X_test, plot_type=\"bar\")"
   ]
  },
  {
   "cell_type": "code",
   "execution_count": null,
   "metadata": {},
   "outputs": [],
   "source": []
  },
  {
   "cell_type": "markdown",
   "metadata": {},
   "source": [
    "## Submission"
   ]
  },
  {
   "cell_type": "code",
   "execution_count": null,
   "metadata": {
    "ExecuteTime": {
     "end_time": "2022-08-21T20:22:50.962734Z",
     "start_time": "2022-08-21T20:22:50.800422Z"
    }
   },
   "outputs": [],
   "source": [
    "df_submission = pd.concat([df_validation_raw['ID'], pd.DataFrame(model_submission)], axis=1)\n",
    "df_submission.columns = ['ID','preco']\n",
    "df_submission.to_csv('submission_19.csv', index=False)"
   ]
  },
  {
   "cell_type": "code",
   "execution_count": null,
   "metadata": {
    "ExecuteTime": {
     "end_time": "2022-08-21T20:22:17.289986Z",
     "start_time": "2022-08-21T20:22:17.265941Z"
    }
   },
   "outputs": [
    {
     "data": {
      "text/html": [
       "<div>\n",
       "<style scoped>\n",
       "    .dataframe tbody tr th:only-of-type {\n",
       "        vertical-align: middle;\n",
       "    }\n",
       "\n",
       "    .dataframe tbody tr th {\n",
       "        vertical-align: top;\n",
       "    }\n",
       "\n",
       "    .dataframe thead th {\n",
       "        text-align: right;\n",
       "    }\n",
       "</style>\n",
       "<table border=\"1\" class=\"dataframe\">\n",
       "  <thead>\n",
       "    <tr style=\"text-align: right;\">\n",
       "      <th></th>\n",
       "      <th>ID</th>\n",
       "      <th>preco</th>\n",
       "    </tr>\n",
       "  </thead>\n",
       "  <tbody>\n",
       "    <tr>\n",
       "      <th>0</th>\n",
       "      <td>24813264385557040124808779273028388499</td>\n",
       "      <td>61377.238426</td>\n",
       "    </tr>\n",
       "    <tr>\n",
       "      <th>1</th>\n",
       "      <td>295636316453795508942188530111300065666</td>\n",
       "      <td>110001.963771</td>\n",
       "    </tr>\n",
       "    <tr>\n",
       "      <th>2</th>\n",
       "      <td>101258309166227950735244624080888109884</td>\n",
       "      <td>91006.780181</td>\n",
       "    </tr>\n",
       "    <tr>\n",
       "      <th>3</th>\n",
       "      <td>28348734455782469411126661985772047409</td>\n",
       "      <td>72817.467426</td>\n",
       "    </tr>\n",
       "    <tr>\n",
       "      <th>4</th>\n",
       "      <td>193163160502972147671913739170248305797</td>\n",
       "      <td>114894.293352</td>\n",
       "    </tr>\n",
       "  </tbody>\n",
       "</table>\n",
       "</div>"
      ],
      "text/plain": [
       "                                        ID          preco\n",
       "0   24813264385557040124808779273028388499   61377.238426\n",
       "1  295636316453795508942188530111300065666  110001.963771\n",
       "2  101258309166227950735244624080888109884   91006.780181\n",
       "3   28348734455782469411126661985772047409   72817.467426\n",
       "4  193163160502972147671913739170248305797  114894.293352"
      ]
     },
     "execution_count": 1360,
     "metadata": {},
     "output_type": "execute_result"
    }
   ],
   "source": [
    "df_submission.head()"
   ]
  },
  {
   "cell_type": "code",
   "execution_count": null,
   "metadata": {},
   "outputs": [],
   "source": []
  },
  {
   "cell_type": "code",
   "execution_count": null,
   "metadata": {},
   "outputs": [],
   "source": []
  },
  {
   "cell_type": "code",
   "execution_count": null,
   "metadata": {
    "ExecuteTime": {
     "end_time": "2022-08-21T20:22:17.305001Z",
     "start_time": "2022-08-21T20:22:17.292979Z"
    }
   },
   "outputs": [],
   "source": [
    "# Relevancia das variáveis no modelo de treino\n",
    "# explainer = shap.TreeExplainer(model_lgbm)\n",
    "# shap_values = explainer.shap_values(X_test)\n",
    "# shap.summary_plot(shap_values, X_test, plot_type=\"bar\")\n",
    "\n",
    "# Avalia o modelo\n",
    "# shap.summary_plot(shap_values, X_test)\n",
    "\n",
    "# Avalia o impacto das variáveis no modelo de submissão\n",
    "# explainer = shap.TreeExplainer(model_lgbm_full)\n",
    "# shap_values = explainer.shap_values(X_test)\n",
    "# shap.summary_plot(shap_values, X_test, plot_type=\"bar\")"
   ]
  }
 ],
 "metadata": {
  "kernelspec": {
   "display_name": "Python 3.10.6 64-bit",
   "language": "python",
   "name": "python3"
  },
  "language_info": {
   "codemirror_mode": {
    "name": "ipython",
    "version": 3
   },
   "file_extension": ".py",
   "mimetype": "text/x-python",
   "name": "python",
   "nbconvert_exporter": "python",
   "pygments_lexer": "ipython3",
   "version": "3.10.6"
  },
  "vscode": {
   "interpreter": {
    "hash": "aee8b7b246df8f9039afb4144a1f6fd8d2ca17a180786b69acc140d282b71a49"
   }
  }
 },
 "nbformat": 4,
 "nbformat_minor": 4
}
