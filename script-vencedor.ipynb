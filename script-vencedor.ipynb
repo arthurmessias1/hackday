{
 "cells": [
  {
   "cell_type": "markdown",
   "metadata": {
    "cell_id": "a095d945-630b-4525-ad5a-e8387cf32802",
    "deepnote_cell_type": "text-cell-h1",
    "formattedRanges": [],
    "is_collapsed": false,
    "number": 0,
    "style": "decimal",
    "tags": []
   },
   "source": [
    "# 0.0. IMPORTS."
   ]
  },
  {
   "cell_type": "code",
   "execution_count": null,
   "metadata": {
    "ExecuteTime": {
     "end_time": "2022-08-21T20:17:41.174273Z",
     "start_time": "2022-08-21T20:17:41.139108Z"
    },
    "cell_id": "00001-064d66c3-3837-4eb7-acd7-9f785ffd9e97",
    "deepnote_cell_height": 549,
    "deepnote_cell_type": "code",
    "deepnote_to_be_reexecuted": false,
    "execution_millis": 2908,
    "execution_start": 1661251449018,
    "source_hash": "4413272b",
    "tags": []
   },
   "outputs": [],
   "source": [
    "import re\n",
    "import pickle\n",
    "\n",
    "import pandas            as pd\n",
    "import numpy             as np\n",
    "import seaborn           as sns\n",
    "import matplotlib.pyplot as plt\n",
    "import xgboost           as xgb\n",
    "import lightgbm          as lgb\n",
    "\n",
    "from sklearn.preprocessing   import MinMaxScaler\n",
    "from sklearn.ensemble        import RandomForestRegressor\n",
    "from sklearn.metrics         import mean_absolute_error, mean_absolute_percentage_error, mean_squared_error\n",
    "from sklearn.preprocessing   import LabelEncoder\n",
    "from sklearn.linear_model    import LinearRegression, Lasso\n",
    "from category_encoders       import TargetEncoder\n",
    "from sklearn.preprocessing   import OneHotEncoder\n",
    "from category_encoders.count import CountEncoder\n",
    "from sklearn.model_selection import KFold, cross_val_score\n",
    "\n",
    "from sklearn               import model_selection   as ms\n",
    "from sklearn               import ensemble          as en\n",
    "\n",
    "# from skopt.space        import Real, Integer\n",
    "# from skopt.utils        import use_named_args\n",
    "# from skopt              import gp_minimize\n",
    "# from skopt.callbacks    import CheckpointSaver"
   ]
  },
  {
   "cell_type": "markdown",
   "metadata": {
    "cell_id": "00002-6c853514-ae63-42bf-a395-df695df4c035",
    "deepnote_cell_type": "text-cell-h2",
    "formattedRanges": [],
    "is_collapsed": false,
    "tags": []
   },
   "source": [
    "## 0.1. Aux Functions"
   ]
  },
  {
   "cell_type": "code",
   "execution_count": null,
   "metadata": {
    "ExecuteTime": {
     "end_time": "2022-08-21T20:17:41.439075Z",
     "start_time": "2022-08-21T20:17:41.422905Z"
    },
    "cell_id": "00003-c448cec7-8a28-43c0-b177-cd5ad9f644f5",
    "deepnote_cell_height": 526,
    "deepnote_cell_type": "code",
    "deepnote_to_be_reexecuted": false,
    "execution_millis": 1,
    "execution_start": 1661251451941,
    "source_hash": "5114458d",
    "tags": []
   },
   "outputs": [],
   "source": [
    "def settings():\n",
    "    plt.style.use('bmh')\n",
    "    plt.rcParams['figure.figsize'] = [25,12]\n",
    "    plt.rcParams['font.size'] = 24\n",
    "    plt.rcParams['figure.dpi'] = 100\n",
    "    sns.set()\n",
    "\n",
    "\n",
    "def ml_error( model_name, ytest, yhat ):\n",
    "    mae = mean_absolute_error( ytest, yhat )\n",
    "    mape = mean_absolute_percentage_error( ytest, yhat )\n",
    "    rmse = np.sqrt( mean_squared_error( ytest, yhat ) )\n",
    "    \n",
    "    return pd.DataFrame( {'Model name': model_name,\n",
    "                          'MAE': mae,\n",
    "                          'MAPE': mape,\n",
    "                          'RMSE': rmse }, index=[0] )\n",
    "\n",
    "def analise_bivariada(df,column):\n",
    "    aux1=df[[column,'preco']].groupby(column).mean().reset_index()\n",
    "    aux2=df[[column,'preco']].groupby(column).median().reset_index()\n",
    "    plt.figure(figsize=(15,10))\n",
    "    plt.subplot(2,1,1)\n",
    "    sns.barplot(x=column,y='preco',data=aux1)\n",
    "    plt.subplot(2,1,2)\n",
    "    sns.barplot(x=column,y='preco',data=aux2)"
   ]
  },
  {
   "cell_type": "markdown",
   "metadata": {
    "cell_id": "00005-1699b19e-928e-40f4-8211-f05a5cfefa2b",
    "deepnote_cell_type": "text-cell-h2",
    "formattedRanges": [],
    "is_collapsed": false,
    "tags": []
   },
   "source": [
    "## 0.2. Reading Data"
   ]
  },
  {
   "cell_type": "code",
   "execution_count": null,
   "metadata": {
    "ExecuteTime": {
     "end_time": "2022-08-21T20:17:42.500028Z",
     "start_time": "2022-08-21T20:17:41.969027Z"
    },
    "cell_id": "00006-1cc26bd9-cc08-471d-bc42-37874b56d279",
    "deepnote_cell_height": 94,
    "deepnote_cell_type": "code",
    "deepnote_to_be_reexecuted": false,
    "execution_millis": 453,
    "execution_start": 1661251451989,
    "source_hash": "4f50088d",
    "tags": []
   },
   "outputs": [],
   "source": [
    "df_raw=pd.read_csv('treino.csv')\n",
    "df_test=pd.read_csv('teste.csv')"
   ]
  },
  {
   "cell_type": "markdown",
   "metadata": {
    "cell_id": "00007-e0c1cfe0-4241-4f8f-9b6b-4d383d71c64b",
    "deepnote_cell_type": "text-cell-h1",
    "formattedRanges": [],
    "is_collapsed": false,
    "number": 1,
    "style": "decimal",
    "tags": []
   },
   "source": [
    "# 1.0. DESCRIÇÃO DOS DADOS"
   ]
  },
  {
   "cell_type": "code",
   "execution_count": null,
   "metadata": {
    "ExecuteTime": {
     "end_time": "2022-08-21T20:17:42.531064Z",
     "start_time": "2022-08-21T20:17:42.502028Z"
    },
    "cell_id": "00008-8b10772e-792d-49f2-96d4-58114f62cea8",
    "deepnote_cell_height": 76,
    "deepnote_cell_type": "code",
    "deepnote_to_be_reexecuted": false,
    "execution_millis": 8,
    "execution_start": 1661251452447,
    "source_hash": "f46b839",
    "tags": []
   },
   "outputs": [],
   "source": [
    "df1=df_raw.copy()"
   ]
  },
  {
   "cell_type": "markdown",
   "metadata": {
    "cell_id": "00009-8e8f086b-5477-4d41-8773-000576abd93c",
    "deepnote_cell_type": "text-cell-h2",
    "formattedRanges": [],
    "is_collapsed": false,
    "tags": []
   },
   "source": [
    "## 1.1. Dimensão dos Dados"
   ]
  },
  {
   "cell_type": "code",
   "execution_count": null,
   "metadata": {
    "ExecuteTime": {
     "end_time": "2022-08-21T20:17:42.562533Z",
     "start_time": "2022-08-21T20:17:42.5415Z"
    },
    "cell_id": "00010-4a77b973-0f0d-4a2f-8b27-b2461d16b0b4",
    "deepnote_cell_height": 112.1875,
    "deepnote_cell_type": "code",
    "deepnote_output_heights": [
     20.1875
    ],
    "deepnote_to_be_reexecuted": false,
    "execution_millis": 301,
    "execution_start": 1661251452466,
    "source_hash": "effe9690",
    "tags": []
   },
   "outputs": [],
   "source": [
    "df1.shape"
   ]
  },
  {
   "cell_type": "markdown",
   "metadata": {
    "cell_id": "00011-9cb73a4e-a92a-4b6e-97ba-0be79c4c6268",
    "deepnote_cell_type": "text-cell-h2",
    "formattedRanges": [],
    "is_collapsed": false,
    "tags": []
   },
   "source": [
    "## 1.2. NA Check"
   ]
  },
  {
   "cell_type": "code",
   "execution_count": null,
   "metadata": {
    "ExecuteTime": {
     "end_time": "2022-08-21T20:17:42.926316Z",
     "start_time": "2022-08-21T20:17:42.83508Z"
    },
    "cell_id": "00012-7bac54b3-32cc-4117-befa-ba2c31a9281b",
    "deepnote_cell_height": 669,
    "deepnote_cell_type": "code",
    "deepnote_output_heights": [
     577
    ],
    "deepnote_to_be_reexecuted": false,
    "execution_millis": 294,
    "execution_start": 1661251452475,
    "source_hash": "59626415",
    "tags": []
   },
   "outputs": [],
   "source": [
    "df1.isna().sum()"
   ]
  },
  {
   "cell_type": "markdown",
   "metadata": {
    "cell_id": "00013-7bb14606-6163-40c6-825e-9f7033ae1828",
    "deepnote_cell_type": "text-cell-h3",
    "formattedRanges": [],
    "is_collapsed": false,
    "tags": []
   },
   "source": [
    "### 1.2.1. Fillout NA"
   ]
  },
  {
   "cell_type": "code",
   "execution_count": null,
   "metadata": {
    "ExecuteTime": {
     "end_time": "2022-08-21T20:17:43.131213Z",
     "start_time": "2022-08-21T20:17:43.118183Z"
    },
    "cell_id": "00014-9e3ee1a0-8acd-4b1d-b760-88d566b2c8d3",
    "deepnote_cell_height": 94,
    "deepnote_cell_type": "code",
    "deepnote_to_be_reexecuted": false,
    "execution_millis": 27,
    "execution_start": 1661251452513,
    "source_hash": "507b5dbb",
    "tags": []
   },
   "outputs": [],
   "source": [
    "# # num_fotos - considerar nan como 0 fotos > ordinal encoding\n",
    "df1['num_fotos']=df1['num_fotos'].fillna(0)"
   ]
  },
  {
   "cell_type": "markdown",
   "metadata": {
    "cell_id": "c27b6414935248d98997b91f3f3dc996",
    "deepnote_cell_type": "text-cell-h2",
    "formattedRanges": [],
    "is_collapsed": false,
    "tags": []
   },
   "source": [
    "## 1.3. Tipos dos Dados"
   ]
  },
  {
   "cell_type": "code",
   "execution_count": null,
   "metadata": {
    "cell_id": "d2b0b605d5c44ef78103e97d4bb691e8",
    "deepnote_cell_height": 669,
    "deepnote_cell_type": "code",
    "deepnote_output_heights": [
     577
    ],
    "deepnote_to_be_reexecuted": false,
    "execution_millis": 0,
    "execution_start": 1661251452576,
    "source_hash": "b02ce5c",
    "tags": []
   },
   "outputs": [],
   "source": [
    "df1.dtypes"
   ]
  },
  {
   "cell_type": "markdown",
   "metadata": {
    "cell_id": "e73684a884f646edaab9bf563f19c161",
    "deepnote_cell_type": "text-cell-h2",
    "formattedRanges": [],
    "is_collapsed": false,
    "tags": []
   },
   "source": [
    "## 1.4. Estatística Descritiva"
   ]
  },
  {
   "cell_type": "code",
   "execution_count": null,
   "metadata": {
    "cell_id": "2b30fa853f3b455bb94c20832b9cb2d1",
    "deepnote_cell_height": 94,
    "deepnote_cell_type": "code",
    "deepnote_to_be_reexecuted": false,
    "execution_millis": 193,
    "execution_start": 1661251452577,
    "source_hash": "ae3f5700",
    "tags": []
   },
   "outputs": [],
   "source": [
    "num_attr=df1.select_dtypes(include=['int64','float64'])\n",
    "cat_attr=df1.select_dtypes(exclude=['int64','float64'])"
   ]
  },
  {
   "cell_type": "markdown",
   "metadata": {
    "cell_id": "57391c8082804f2b89eea9648deb7789",
    "deepnote_cell_type": "text-cell-h3",
    "formattedRanges": [],
    "is_collapsed": false,
    "tags": []
   },
   "source": [
    "### 1.4.1. Atributos Numéricos"
   ]
  },
  {
   "cell_type": "code",
   "execution_count": null,
   "metadata": {
    "cell_id": "8925af361592434d9d60f3fb0c19e6b7",
    "deepnote_cell_height": 328,
    "deepnote_cell_type": "code",
    "deepnote_to_be_reexecuted": false,
    "execution_millis": 116,
    "execution_start": 1661251452578,
    "source_hash": "6742ea27",
    "tags": []
   },
   "outputs": [],
   "source": [
    "# Central Tendency - mean, median\n",
    "ct1=pd.DataFrame(num_attr.apply(np.mean)).T\n",
    "ct2=pd.DataFrame(num_attr.apply(np.median)).T\n",
    "\n",
    "# Dispersion - std, min, max, range, skew, kurtosis\n",
    "d1=pd.DataFrame(num_attr.apply(np.std)).T\n",
    "d2=pd.DataFrame(num_attr.apply(min)).T\n",
    "d3=pd.DataFrame(num_attr.apply(max)).T\n",
    "d4=pd.DataFrame(num_attr.apply(lambda x: x.max()-x.min())).T\n",
    "d5=pd.DataFrame(num_attr.apply(lambda x: x.skew())).T\n",
    "d6=pd.DataFrame(num_attr.apply(lambda x: x.kurtosis())).T\n",
    "\n",
    "# Concatenate\n",
    "m=pd.concat([d2,d3,d4,ct1,ct2,d1,d5,d6]).T.reset_index()\n",
    "m.columns=['attributes','min','max','range','mean','median','std','skew','kurtosis']"
   ]
  },
  {
   "cell_type": "markdown",
   "metadata": {
    "cell_id": "c378e967b3054604aaa436e717c1857a",
    "deepnote_cell_type": "text-cell-h3",
    "formattedRanges": [],
    "is_collapsed": false,
    "tags": []
   },
   "source": [
    "### 1.4.2. Atributos Categóricos"
   ]
  },
  {
   "cell_type": "code",
   "execution_count": null,
   "metadata": {
    "cell_id": "b1e0f53a18fd470ea8ea01b2c69b4fcc",
    "deepnote_cell_height": 534.578125,
    "deepnote_cell_type": "code",
    "deepnote_output_heights": [
     442.59375
    ],
    "deepnote_to_be_reexecuted": false,
    "execution_millis": 48,
    "execution_start": 1661251452745,
    "source_hash": "aa61c9b0",
    "tags": []
   },
   "outputs": [],
   "source": [
    "cat_attr.apply(lambda x: x.unique().shape[0])"
   ]
  },
  {
   "cell_type": "code",
   "execution_count": null,
   "metadata": {
    "cell_id": "9b7876141f384e45b808cf888b1fa64a",
    "deepnote_cell_height": 1005,
    "deepnote_cell_type": "code",
    "deepnote_output_heights": [
     20,
     610,
     605.1875
    ],
    "deepnote_to_be_reexecuted": false,
    "execution_millis": 1464,
    "execution_start": 1661251874633,
    "source_hash": "b29c4415",
    "tags": []
   },
   "outputs": [],
   "source": [
    "plt.figure(figsize=(20,30))\n",
    "plt.subplot(5,2,(1,2))\n",
    "sns.boxplot(x='cambio',y='preco',data=df1)\n",
    "plt.subplot(5,2,(3,4))\n",
    "sns.boxplot(x='tipo',y='preco',data=df1)\n",
    "plt.subplot(5,2,(5,6))\n",
    "sns.boxplot(x='cor',y='preco',data=df1)\n",
    "plt.subplot(5,2,7)\n",
    "sns.boxplot(x='entrega_delivery',y='preco',data=df1)\n",
    "plt.subplot(5,2,8)\n",
    "sns.boxplot(x='troca',y='preco',data=df1)\n",
    "plt.subplot(5,2,9)\n",
    "sns.boxplot(x='blindado',y='preco',data=df1)\n",
    "plt.subplot(5,2,10)\n",
    "sns.boxplot(x= 'tipo_vendedor',y='preco',data=df1)"
   ]
  },
  {
   "cell_type": "markdown",
   "metadata": {
    "cell_id": "00015-91b270ef-8551-4341-9e48-714829fe6852",
    "deepnote_cell_type": "text-cell-h2",
    "formattedRanges": [],
    "is_collapsed": false,
    "tags": []
   },
   "source": [
    "## 1.3. Tipos dos Dados"
   ]
  },
  {
   "cell_type": "code",
   "execution_count": null,
   "metadata": {
    "ExecuteTime": {
     "end_time": "2022-08-21T20:17:43.441808Z",
     "start_time": "2022-08-21T20:17:43.420806Z"
    },
    "cell_id": "00016-616212fb-be3f-4268-9166-b593c611f8c9",
    "deepnote_cell_height": 669,
    "deepnote_cell_type": "code",
    "deepnote_output_heights": [
     577
    ],
    "deepnote_to_be_reexecuted": false,
    "execution_millis": 5,
    "execution_start": 1661251457303,
    "source_hash": "b02ce5c",
    "tags": []
   },
   "outputs": [],
   "source": [
    "df1.dtypes"
   ]
  },
  {
   "cell_type": "markdown",
   "metadata": {
    "cell_id": "00017-7aa2f01a-5ec1-48a4-a507-16ded0c5a5bc",
    "deepnote_cell_type": "text-cell-h3",
    "formattedRanges": [],
    "is_collapsed": false,
    "tags": []
   },
   "source": [
    "### 1.3.1. Change data types"
   ]
  },
  {
   "cell_type": "code",
   "execution_count": null,
   "metadata": {
    "ExecuteTime": {
     "end_time": "2022-08-21T20:17:43.752745Z",
     "start_time": "2022-08-21T20:17:43.74573Z"
    },
    "cell_id": "00018-fd3ce71c-843c-48a9-bd04-de6aaa91bf45",
    "deepnote_cell_height": 94,
    "deepnote_cell_type": "code",
    "deepnote_to_be_reexecuted": false,
    "execution_millis": 0,
    "execution_start": 1661251457353,
    "source_hash": "433869f4",
    "tags": []
   },
   "outputs": [],
   "source": [
    "df1['num_fotos']=df1['num_fotos'].astype(int)\n",
    "df1['ano_modelo']=df1['ano_modelo'].astype(int)"
   ]
  },
  {
   "cell_type": "markdown",
   "metadata": {
    "cell_id": "00019-28b91d74-41ce-45f5-b84b-06788ac3fdf0",
    "deepnote_cell_type": "text-cell-h1",
    "formattedRanges": [],
    "is_collapsed": false,
    "tags": []
   },
   "source": [
    "# 2.0. FEATURE ENGINEERING"
   ]
  },
  {
   "cell_type": "code",
   "execution_count": null,
   "metadata": {
    "ExecuteTime": {
     "end_time": "2022-08-21T20:17:44.114528Z",
     "start_time": "2022-08-21T20:17:44.080835Z"
    },
    "cell_id": "00020-564b9052-dbe2-449e-9b72-d442dc2006d0",
    "deepnote_cell_height": 76,
    "deepnote_cell_type": "code",
    "deepnote_to_be_reexecuted": false,
    "execution_millis": 0,
    "execution_start": 1661251457354,
    "source_hash": "961b4b36",
    "tags": []
   },
   "outputs": [],
   "source": [
    "df2 = df1.copy()"
   ]
  },
  {
   "cell_type": "code",
   "execution_count": null,
   "metadata": {
    "cell_id": "418099d122c740e0a38ff4e9c9014408",
    "deepnote_cell_height": 1413,
    "deepnote_cell_type": "code",
    "deepnote_output_heights": [
     605.1875
    ],
    "deepnote_to_be_reexecuted": false,
    "execution_millis": 1109,
    "execution_start": 1661251457397,
    "source_hash": "d0814d50",
    "tags": []
   },
   "outputs": [],
   "source": [
    "# ano de fabricacao\n",
    "df2['ano_de_fabricacao_bins']=df2['ano_de_fabricacao'].apply(lambda x:  'bin1' if x<=2000 else\n",
    "                                                                        'bin2' if x<= 2005 else\n",
    "                                                                        'bin3' if x<=2010 else\n",
    "                                                                        'bin4' if x<= 2015 else\n",
    "                                                                        'bin5' if x<=2020 else\n",
    "                                                                        'bin6' if x<=2025 else 0 )\n",
    "\n",
    "# categoria marca\n",
    "popular_baixo_padrao = ['FIAT','SUZUKI','CHEVROLET','SMART','HYUNDAI','LIFAN','SSANGYONG','RENAULT','DODGE','ALFA ROMEO','CITROËN','CHRYSLER','BRM','EFFA']\n",
    "popular_alto_padrao = ['JEEP','SUBARU','FORD','KIA','CHERY','PEUGEOT','VOLKSWAGEN','NISSAN','JAC','HONDA','MITSUBISHI']\n",
    "luxo = ['VOLVO','LEXUS','MERCEDES-BENZ','FERRARI','AUDI','TOYOTA','IVECO','MINI','TROLLER']\n",
    "superluxo = ['PORSCHE','RAM','LAMBORGHINI','JAGUAR','LAND ROVER','MASERATI','BMW']\n",
    "df2['categoria_marca'] = df2['marca'].apply( lambda x: 'popular_baixo_padrao' if x in popular_baixo_padrao else\n",
    "                                                       'popular_alto_padrao' if x in popular_alto_padrao else\n",
    "                                                       'luxo' if x in luxo else\n",
    "                                                       'superluxo' if x in superluxo \n",
    "                                                        else 'nao_identificado')\n",
    "\n",
    "# cilindrada\n",
    "cilindradas = []\n",
    "for i in range(len(df2)):\n",
    "    try:\n",
    "        cilindrada = re.search( \"[0-9]{1}.[0-9]{1}\", df2['versao'][i] )[0]\n",
    "    except:\n",
    "        cilindrada = 0\n",
    "    cilindradas.append( cilindrada )\n",
    "df_cilindradas = pd.DataFrame (cilindradas, columns = ['cilindradas'])\n",
    "df2 = pd.concat( [df2,df_cilindradas],axis=1)\n",
    "df2['cilindradas']=df2['cilindradas'].astype('float64')\n",
    "\n",
    "# turbo\n",
    "turbo_list = []\n",
    "for i in range(len(df2)):\n",
    "    try:\n",
    "        turbo = re.search( \"TURBO\", df2['versao'][i] )[0]\n",
    "    except:\n",
    "        turbo = \"NÃO TURBO\"\n",
    "        \n",
    "    turbo_list.append( turbo )\n",
    "df_turbo = pd.DataFrame (turbo_list, columns = ['turbo'])\n",
    "df2 = pd.concat( [df2,df_turbo],axis=1)\n",
    "\n",
    "# 4x4\n",
    "offroad_list = []\n",
    "for i in range(len(df2)):\n",
    "    try:\n",
    "        offroad = re.search( \"4X4\", df2['versao'][i] )[0]\n",
    "    except:\n",
    "        offroad = \"NÃO 4x4\"\n",
    "    offroad_list.append( offroad )\n",
    "df_offroad = pd.DataFrame (offroad_list, columns = ['offroad'])\n",
    "df2 = pd.concat( [df2,df_offroad],axis=1)\n",
    "\n",
    "# combustivel\n",
    "df2['combustivel'] = df2['versao'].apply( lambda x: re.search( \"GASOLINA\", x )[0] if re.search( \"GASOLINA\", x ) is not None else \n",
    "                                                    re.search( \"FLEX\", x )[0] if re.search( \"FLEX\", x ) is not None else\n",
    "                                                    re.search( \"HYBRID\", x )[0] if re.search( \"HYBRID\", x ) is not None else\n",
    "                                                    re.search( \"DIESEL\", x )[0] if re.search( \"DIESEL\", x ) is not None else\n",
    "                                                    re.search( \"ELECTIRC\", x )[0] if re.search( \"ELECTIRC\", x ) is not None else\n",
    "                                                    re.search( \"ELÉTRICO\", x )[0] if re.search( \"ELÉTRICO\", x ) is not None else\n",
    "                                                    re.search( \"HÍBRIDO\", x )[0] if re.search( \"HÍBRIDO\", x ) is not None else\n",
    "                                                    re.search( \"GÁS\", x )[0] if re.search( \"GÁS\", x ) is not None else \"DESCONHECIDO\")\n",
    "\n",
    "# kilometragem 100 - 400000\n",
    "# df2['km']=df2['odometro'].apply(lambda x: '0_40000' if x<=40000 else\n",
    "#                                             '40000_80000'if x<=80000 else\n",
    "#                                             '80000_120000' if x<=120000  else\n",
    "#                                             '120000_160000' if x<=160000  else\n",
    "#                                             '160000_200000' if x<=200000  else\n",
    "#                                             '200000_240000' if x<=240000  else\n",
    "#                                             '240000_280000' if x<=280000  else\n",
    "#                                             '280000_320000' if x<=320000  else\n",
    "#                                             '320000_360000' if x<=360000  else\n",
    "#                                             '360000_400000')"
   ]
  },
  {
   "cell_type": "markdown",
   "metadata": {
    "cell_id": "00024-985ad0b4-b571-49eb-8922-5742b8730728",
    "deepnote_cell_type": "text-cell-h1",
    "formattedRanges": [],
    "is_collapsed": false,
    "tags": []
   },
   "source": [
    "# 3.0. FILTRAGEM DE VARIÁVEIS"
   ]
  },
  {
   "cell_type": "code",
   "execution_count": null,
   "metadata": {
    "ExecuteTime": {
     "end_time": "2022-08-21T20:17:46.05592Z",
     "start_time": "2022-08-21T20:17:46.01078Z"
    },
    "cell_id": "00025-0ff48c59-d94c-480f-bbd7-16b16f912f87",
    "deepnote_cell_height": 76,
    "deepnote_cell_type": "code",
    "deepnote_to_be_reexecuted": false,
    "execution_millis": 8,
    "execution_start": 1661251458519,
    "source_hash": "c58ba8a7",
    "tags": []
   },
   "outputs": [],
   "source": [
    "df3 = df2.copy()"
   ]
  },
  {
   "cell_type": "markdown",
   "metadata": {
    "cell_id": "00026-60a038a8-7b10-4723-acec-18e16eaccf14",
    "deepnote_cell_type": "text-cell-h2",
    "formattedRanges": [],
    "is_collapsed": false,
    "tags": []
   },
   "source": [
    "## 3.1. Filtragem das Linhas"
   ]
  },
  {
   "cell_type": "markdown",
   "metadata": {
    "cell_id": "00028-1329fbf8-0900-42c2-9f90-0163cf941ab4",
    "deepnote_cell_type": "text-cell-h2",
    "formattedRanges": [],
    "is_collapsed": false,
    "tags": []
   },
   "source": [
    "## 3.2. Seleção das Colunas"
   ]
  },
  {
   "cell_type": "code",
   "execution_count": null,
   "metadata": {
    "ExecuteTime": {
     "end_time": "2022-08-21T20:17:46.087499Z",
     "start_time": "2022-08-21T20:17:46.072259Z"
    },
    "cell_id": "00029-d236d155-f9ac-4dee-adc5-70f48e4eac0d",
    "deepnote_cell_height": 117,
    "deepnote_cell_type": "code",
    "deepnote_to_be_reexecuted": false,
    "execution_millis": 44,
    "execution_start": 1661251458569,
    "source_hash": "b4613cbf",
    "tags": []
   },
   "outputs": [],
   "source": [
    "df3 = df3.drop( columns = ['elegivel_revisao','attr_veiculo_aceita_troca','attr_veiculo_único_dono','attr_veiculo_todas_as_revisões_feitas_pela_concessionária',\n",
    "                           'attr_veiculo_todas_as_revisões_feitas_pela_agenda_do_carro','attr_veiculo_ipva_pago','attr_veiculo_licenciado',\n",
    "                           'attr_veiculo_garantia_de_fábrica','attr_veiculo_alienado','elegivel_revisao','entrega_delivery'])"
   ]
  },
  {
   "cell_type": "markdown",
   "metadata": {
    "cell_id": "00030-6b23651f-da84-4f82-a9a1-43f90c755ed2",
    "deepnote_cell_type": "text-cell-h1",
    "formattedRanges": [],
    "is_collapsed": false,
    "tags": []
   },
   "source": [
    "# 4.0. EDA"
   ]
  },
  {
   "cell_type": "code",
   "execution_count": null,
   "metadata": {
    "ExecuteTime": {
     "end_time": "2022-08-21T20:17:46.1194Z",
     "start_time": "2022-08-21T20:17:46.088442Z"
    },
    "cell_id": "00031-4250b386-1ffb-4711-a937-16ddb327dbe8",
    "deepnote_cell_height": 76,
    "deepnote_cell_type": "code",
    "deepnote_to_be_reexecuted": false,
    "execution_millis": 1,
    "execution_start": 1661251458614,
    "source_hash": "60288f97",
    "tags": []
   },
   "outputs": [],
   "source": [
    "df4 = df3.copy()"
   ]
  },
  {
   "cell_type": "markdown",
   "metadata": {
    "cell_id": "6c39935de31e4f1eabc0986ed91c4602",
    "deepnote_cell_type": "text-cell-h2",
    "formattedRanges": [],
    "is_collapsed": false,
    "tags": []
   },
   "source": [
    "#4.1. Analise Univariada"
   ]
  },
  {
   "cell_type": "markdown",
   "metadata": {
    "cell_id": "b2595af3d2224d3d9a518e81d0cf6348",
    "deepnote_cell_type": "text-cell-h3",
    "formattedRanges": [],
    "is_collapsed": false,
    "tags": []
   },
   "source": [
    "#4.1.1. Response Variable"
   ]
  },
  {
   "cell_type": "code",
   "execution_count": null,
   "metadata": {
    "cell_id": "d17e609830354098afc83be485d91859",
    "deepnote_cell_height": 938.796875,
    "deepnote_cell_type": "code",
    "deepnote_output_heights": [
     null,
     610
    ],
    "deepnote_to_be_reexecuted": false,
    "execution_millis": 696,
    "execution_start": 1661251458615,
    "source_hash": "bbb375b6",
    "tags": []
   },
   "outputs": [],
   "source": [
    "plt.figure(figsize=(20,15))\n",
    "plt.subplot(3,1,1)\n",
    "sns.distplot(df4['preco'], kde=False);\n",
    "# transformação log\n",
    "plt.subplot(3,1,2)\n",
    "sns.distplot(np.log(df4['preco']), kde=False);\n",
    "plt.subplot(3,1,3)\n",
    "sns.boxplot(df4['preco']);"
   ]
  },
  {
   "cell_type": "markdown",
   "metadata": {
    "cell_id": "18c188ee60704a2791e73a654c654294",
    "deepnote_cell_type": "text-cell-h3",
    "formattedRanges": [],
    "is_collapsed": false,
    "tags": []
   },
   "source": [
    "#4.1.2. Numerical Variable"
   ]
  },
  {
   "cell_type": "code",
   "execution_count": null,
   "metadata": {
    "cell_id": "ada1e3c5646f48b8893f5d8a58fb6bd4",
    "deepnote_cell_height": 375,
    "deepnote_cell_type": "code",
    "deepnote_output_heights": [
     265
    ],
    "deepnote_to_be_reexecuted": false,
    "execution_millis": 1218,
    "execution_start": 1661251459313,
    "source_hash": "2ba98c2f",
    "tags": []
   },
   "outputs": [],
   "source": [
    "num_attributes = df4.select_dtypes(include='number')\n",
    "num_attributes.hist(bins=25);"
   ]
  },
  {
   "cell_type": "markdown",
   "metadata": {
    "cell_id": "6b1f987f3d4b47738db1f02a0dae5929",
    "deepnote_cell_type": "text-cell-h3",
    "formattedRanges": [],
    "is_collapsed": false,
    "tags": []
   },
   "source": [
    "#4.1.3. Categorical Variable"
   ]
  },
  {
   "cell_type": "code",
   "execution_count": null,
   "metadata": {
    "cell_id": "e3f733e7b6d842eab9c0b01f08ae7602",
    "deepnote_cell_height": 207,
    "deepnote_cell_type": "code",
    "deepnote_output_heights": [
     97
    ],
    "deepnote_to_be_reexecuted": false,
    "execution_millis": 11,
    "execution_start": 1661251460541,
    "source_hash": "d966778b",
    "tags": []
   },
   "outputs": [],
   "source": [
    "cat_attributes = df4.select_dtypes(exclude='number')\n",
    "cat_attributes.columns"
   ]
  },
  {
   "cell_type": "markdown",
   "metadata": {
    "cell_id": "de2f0209a5314473925b16f01a339dda",
    "deepnote_cell_type": "text-cell-h2",
    "formattedRanges": [],
    "is_collapsed": false,
    "tags": []
   },
   "source": [
    "#4.2. Analise Bivariada"
   ]
  },
  {
   "cell_type": "code",
   "execution_count": null,
   "metadata": {
    "cell_id": "53b5500aba774ec08370bcff2cd68e98",
    "deepnote_cell_height": 1102.203125,
    "deepnote_cell_type": "code",
    "deepnote_output_heights": [
     560.21875
    ],
    "deepnote_to_be_reexecuted": false,
    "execution_millis": 779,
    "execution_start": 1661251460564,
    "source_hash": "d89c3ca6",
    "tags": []
   },
   "outputs": [],
   "source": [
    "df4['estado_vendedor']=df4['estado_vendedor'].apply(lambda x: 'SP' if x=='São Paulo (SP)' else \n",
    "                                                        'RS' if x=='Rio Grande do Sul (RS)' else \n",
    "                                                        'MG' if x=='Minas Gerais (MG)' else\n",
    "                                                        'PR' if x=='Paraná (PR)' else\n",
    "                                                        'RJ' if x=='Rio de Janeiro (RJ)' else\n",
    "                                                        'MA' if x=='Maranhão (MA)' else\n",
    "                                                        'SC' if x=='Santa Catarina (SC)' else\n",
    "                                                        'AL' if x=='Alagoas (AL)' else\n",
    "                                                        'BA' if x=='Bahia (BA)' else\n",
    "                                                        'GO' if x=='Goiás (GO)' else\n",
    "                                                        'RN' if x=='Rio Grande do Norte (RN)' else\n",
    "                                                        'PE' if x=='Pernambuco (PE)' else\n",
    "                                                        'MT' if x=='Mato Grosso (MT)' else\n",
    "                                                        'PA' if x=='Pará (PA)' else\n",
    "                                                        'CE' if x=='Ceará (CE)' else\n",
    "                                                        'AM' if x=='Amazonas (AM)' else\n",
    "                                                        'ES' if x=='Espírito Santo (ES)'else\n",
    "                                                        'RO' if x=='Rondônia (RO)' else\n",
    "                                                        'PB' if x=='Paraíba (PB)' else\n",
    "                                                        'TO' if x=='Tocantins (TO)' else\n",
    "                                                        'AC' if x=='Acre (AC)'else\n",
    "                                                        'SE' if x=='Sergipe (SE)' else\n",
    "                                                        'MS' if x=='Mato Grosso do Sul (MS)' else\n",
    "                                                        'RR' if x=='Roraima (RR)'else\n",
    "                                                        'PI' if x=='Piauí (PI)' else 0)\n",
    "analise_bivariada(df4,'estado_vendedor')"
   ]
  },
  {
   "cell_type": "code",
   "execution_count": null,
   "metadata": {
    "cell_id": "e9cbfd446e9b411e97004cf0ee6a2f20",
    "deepnote_cell_height": 655.0625,
    "deepnote_cell_type": "code",
    "deepnote_output_heights": [
     563.0625
    ],
    "deepnote_to_be_reexecuted": false,
    "execution_millis": 551,
    "execution_start": 1661251461280,
    "source_hash": "9eb887bd",
    "tags": []
   },
   "outputs": [],
   "source": [
    "analise_bivariada(df4,'num_fotos')"
   ]
  },
  {
   "cell_type": "code",
   "execution_count": null,
   "metadata": {
    "cell_id": "c67c1cd502e7416698327882f902b0db",
    "deepnote_cell_height": 652.203125,
    "deepnote_cell_type": "code",
    "deepnote_output_heights": [
     560.21875
    ],
    "deepnote_to_be_reexecuted": false,
    "execution_millis": 398,
    "execution_start": 1661251461817,
    "source_hash": "217f4836",
    "tags": []
   },
   "outputs": [],
   "source": [
    "analise_bivariada(df4,'ano_de_fabricacao_bins')"
   ]
  },
  {
   "cell_type": "code",
   "execution_count": null,
   "metadata": {
    "cell_id": "c9dadb9585ad4a5bb2ac3e30bf5caf75",
    "deepnote_cell_height": 652.203125,
    "deepnote_cell_type": "code",
    "deepnote_output_heights": [
     560.21875
    ],
    "deepnote_to_be_reexecuted": false,
    "execution_millis": 860,
    "execution_start": 1661251462219,
    "source_hash": "58b46c45",
    "tags": []
   },
   "outputs": [],
   "source": [
    "analise_bivariada(df4,'ano_de_fabricacao')"
   ]
  },
  {
   "cell_type": "code",
   "execution_count": null,
   "metadata": {
    "cell_id": "224b42cb6d8a40f8a03c664fc6defddc",
    "deepnote_cell_height": 652.203125,
    "deepnote_cell_type": "code",
    "deepnote_output_heights": [
     560.21875
    ],
    "deepnote_to_be_reexecuted": false,
    "execution_millis": 575,
    "execution_start": 1661251463083,
    "source_hash": "6c45254e",
    "tags": []
   },
   "outputs": [],
   "source": [
    "analise_bivariada(df4,'ano_modelo')"
   ]
  },
  {
   "cell_type": "code",
   "execution_count": null,
   "metadata": {
    "cell_id": "133ad33f1dcb4ab8bf07231b207e887a",
    "deepnote_cell_height": 94,
    "deepnote_cell_type": "code",
    "deepnote_output_heights": [
     560.21875
    ],
    "deepnote_to_be_reexecuted": false,
    "execution_millis": 6,
    "execution_start": 1661251463659,
    "source_hash": "9aa07032",
    "tags": []
   },
   "outputs": [],
   "source": [
    "# #odometro\n",
    "# analise_bivariada(df4,'km')"
   ]
  },
  {
   "cell_type": "code",
   "execution_count": null,
   "metadata": {
    "cell_id": "0da8027f15dd42a2be434d8685273542",
    "deepnote_cell_height": 652.203125,
    "deepnote_cell_type": "code",
    "deepnote_output_heights": [
     560.21875
    ],
    "deepnote_to_be_reexecuted": false,
    "execution_millis": 1071,
    "execution_start": 1661251463670,
    "source_hash": "457d7148",
    "tags": []
   },
   "outputs": [],
   "source": [
    "analise_bivariada(df4,'cambio')"
   ]
  },
  {
   "cell_type": "code",
   "execution_count": null,
   "metadata": {
    "cell_id": "8a357bfe80d74acb96cae41606d18292",
    "deepnote_cell_height": 652.203125,
    "deepnote_cell_type": "code",
    "deepnote_output_heights": [
     560.21875
    ],
    "deepnote_to_be_reexecuted": false,
    "execution_millis": 625,
    "execution_start": 1661251464129,
    "source_hash": "bc6bc26",
    "tags": []
   },
   "outputs": [],
   "source": [
    "analise_bivariada(df4,'tipo')"
   ]
  },
  {
   "cell_type": "code",
   "execution_count": null,
   "metadata": {
    "cell_id": "c9e82c21e30d48d5a7321c6e2860be06",
    "deepnote_cell_height": 652.203125,
    "deepnote_cell_type": "code",
    "deepnote_output_heights": [
     560.21875
    ],
    "deepnote_to_be_reexecuted": false,
    "execution_millis": 359,
    "execution_start": 1661251464589,
    "source_hash": "d2ece134",
    "tags": []
   },
   "outputs": [],
   "source": [
    "analise_bivariada(df4,'cor')"
   ]
  },
  {
   "cell_type": "code",
   "execution_count": null,
   "metadata": {
    "cell_id": "7091b692821543a6bc517718b0683bbb",
    "deepnote_cell_height": 652.203125,
    "deepnote_cell_type": "code",
    "deepnote_output_heights": [
     560.21875
    ],
    "deepnote_to_be_reexecuted": false,
    "execution_millis": 333,
    "execution_start": 1661251464949,
    "source_hash": "9d29b67d",
    "tags": []
   },
   "outputs": [],
   "source": [
    "analise_bivariada(df4,'tipo_vendedor')"
   ]
  },
  {
   "cell_type": "code",
   "execution_count": null,
   "metadata": {
    "cell_id": "7c0891606652424596be7179ce044fd6",
    "deepnote_cell_height": 653.15625,
    "deepnote_cell_type": "code",
    "deepnote_output_heights": [
     561.171875
    ],
    "deepnote_to_be_reexecuted": false,
    "execution_millis": 362,
    "execution_start": 1661251465289,
    "source_hash": "dca4212b",
    "tags": []
   },
   "outputs": [],
   "source": [
    "analise_bivariada(df4,'tipo_anuncio')"
   ]
  },
  {
   "cell_type": "code",
   "execution_count": null,
   "metadata": {
    "cell_id": "ba1eeb93fd0c4aa7a2f2eff2d41e2753",
    "deepnote_cell_height": 652.203125,
    "deepnote_cell_type": "code",
    "deepnote_output_heights": [
     560.21875
    ],
    "deepnote_to_be_reexecuted": false,
    "execution_millis": 631,
    "execution_start": 1661251465659,
    "source_hash": "4fedbe64",
    "tags": []
   },
   "outputs": [],
   "source": [
    "analise_bivariada(df4,'troca')"
   ]
  },
  {
   "cell_type": "markdown",
   "metadata": {
    "cell_id": "80b46f1cbc9b44c7aa11fc9a03107c8d",
    "deepnote_cell_type": "text-cell-h2",
    "formattedRanges": [],
    "is_collapsed": false,
    "tags": []
   },
   "source": [
    "#4.3. Analise Multivariada"
   ]
  },
  {
   "cell_type": "code",
   "execution_count": null,
   "metadata": {
    "cell_id": "d0ca211a9ae6442a8f455258de55ed76",
    "deepnote_cell_height": 447,
    "deepnote_cell_type": "code",
    "deepnote_output_heights": [
     337
    ],
    "deepnote_to_be_reexecuted": false,
    "execution_millis": 1362,
    "execution_start": 1661251466293,
    "source_hash": "c2000cd8",
    "tags": []
   },
   "outputs": [],
   "source": [
    "correlation = num_attributes.corr(method='pearson')\n",
    "sns.heatmap(correlation, annot=True);"
   ]
  },
  {
   "cell_type": "markdown",
   "metadata": {
    "cell_id": "00032-842f6afe-889a-4927-ae1c-ebe0757db650",
    "deepnote_cell_type": "text-cell-h1",
    "formattedRanges": [],
    "is_collapsed": false,
    "tags": []
   },
   "source": [
    "# 5.0. DATA PREPARATION"
   ]
  },
  {
   "cell_type": "code",
   "execution_count": null,
   "metadata": {
    "ExecuteTime": {
     "end_time": "2022-08-21T20:17:46.229344Z",
     "start_time": "2022-08-21T20:17:46.213311Z"
    },
    "cell_id": "00033-f967d736-0be8-44ae-9029-57eb58511a57",
    "deepnote_cell_height": 76,
    "deepnote_cell_type": "code",
    "deepnote_to_be_reexecuted": false,
    "execution_millis": 1,
    "execution_start": 1661251467008,
    "source_hash": "831027fe",
    "tags": []
   },
   "outputs": [],
   "source": [
    "df5 = df4.copy()"
   ]
  },
  {
   "cell_type": "markdown",
   "metadata": {
    "cell_id": "00034-993997b0-d5f2-43d3-baca-621f8065a20a",
    "deepnote_cell_type": "text-cell-h2",
    "formattedRanges": [],
    "is_collapsed": false,
    "tags": []
   },
   "source": [
    "## 5.1. Encoding"
   ]
  },
  {
   "cell_type": "code",
   "execution_count": null,
   "metadata": {
    "ExecuteTime": {
     "end_time": "2022-08-21T20:17:47.169339Z",
     "start_time": "2022-08-21T20:17:46.573775Z"
    },
    "cell_id": "00035-15a2a305-1286-4a18-88c5-cf6b11ad3aff",
    "deepnote_cell_height": 1292.796875,
    "deepnote_cell_type": "code",
    "deepnote_to_be_reexecuted": false,
    "execution_millis": 841,
    "execution_start": 1661251467019,
    "source_hash": "e8dadfe5",
    "tags": []
   },
   "outputs": [],
   "source": [
    "# colunas pra dropar: id\n",
    "df5 = df5.drop( columns=['ID','ano_de_fabricacao'] )\n",
    "\n",
    "# binario (0/1): \n",
    "df5['offroad'] = df5['offroad'].apply( lambda x: 1 if x == '4X4' else 0 )\n",
    "df5['turbo'] = df5['turbo'].apply( lambda x: 1 if x == 'TURBO' else 0 )\n",
    "df5['blindado'] = df5['blindado'].apply( lambda x: 0 if x == \"false\" else 1 if x==\"true\" else 0 )\n",
    "df5['troca'] = df5['troca'].apply( lambda x: 0 if x == \"false\" else 1 if x==\"true\" else 0 )\n",
    "\n",
    "# dummies: marca, cambio, tipo, tipo_vendedor\n",
    "encoder = OneHotEncoder(handle_unknown='ignore')\n",
    "\n",
    "df_cambio = pd.DataFrame(encoder.fit_transform(df5[['cambio']]).toarray())\n",
    "df_cambio.columns = encoder.get_feature_names_out()\n",
    "df5 = df5.join(df_cambio)\n",
    "pickle.dump( encoder, open( 'cambio_encoding', 'wb' ) )\n",
    "\n",
    "df_tipo_vendedor = pd.DataFrame(encoder.fit_transform(df5[['tipo_vendedor']]).toarray())\n",
    "df_tipo_vendedor.columns = encoder.get_feature_names_out()\n",
    "df5 = df5.join(df_tipo_vendedor)\n",
    "pickle.dump( encoder, open( 'tipo_vendedor_encoding', 'wb' ) )\n",
    "\n",
    "df_tipo_anuncio = pd.DataFrame(encoder.fit_transform(df5[['tipo_anuncio']]).toarray())\n",
    "df_tipo_anuncio.columns = encoder.get_feature_names_out()\n",
    "df5 = df5.join(df_tipo_anuncio)\n",
    "pickle.dump( encoder, open( 'tipo_anuncio_encoding', 'wb' ) )\n",
    "\n",
    "df_categoria_marca = pd.DataFrame(encoder.fit_transform(df5[['categoria_marca']]).toarray())\n",
    "df_categoria_marca.columns = encoder.get_feature_names_out()\n",
    "df5 = df5.join(df_categoria_marca)\n",
    "pickle.dump( encoder, open( 'categoria_marca_encoding', 'wb' ) )\n",
    "\n",
    "df_combustivel = pd.DataFrame(encoder.fit_transform(df5[['combustivel']]).toarray())\n",
    "df_combustivel.columns = encoder.get_feature_names_out()\n",
    "df5 = df5.join(df_combustivel)\n",
    "\n",
    "df_combustivel = pd.DataFrame(encoder.fit_transform(df5[['ano_de_fabricacao_bins']]).toarray())\n",
    "df_combustivel.columns = encoder.get_feature_names_out()\n",
    "df5 = df5.join(df_combustivel)\n",
    "\n",
    "df5 = df5.drop( columns=['cambio','tipo_vendedor','tipo_anuncio','categoria_marca','combustivel','ano_de_fabricacao_bins'] )\n",
    "pickle.dump( encoder, open( 'combustivel_encoding', 'wb' ) )\n",
    "\n",
    "\n",
    "te = TargetEncoder()\n",
    "\n",
    "df5['versao'] = te.fit_transform(df5['versao'], df5['preco'])\n",
    "pickle.dump( te, open( 'versao_encoding', 'wb' ) )\n",
    "\n",
    "# label encoder\n",
    "# le = LabelEncoder()\n",
    "df5['marca'] = te.fit_transform(df5['marca'],df5['preco'])\n",
    "pickle.dump( te, open( 'marca_encoding', 'wb' ) )\n",
    "df5['cor'] = te.fit_transform(df5['cor'],df5['preco'])\n",
    "pickle.dump( te, open( 'cor_encoding', 'wb' ) )\n",
    "df5['tipo'] = te.fit_transform(df5['tipo'],df5['preco'])\n",
    "pickle.dump( te, open( 'tipo_encoding', 'wb' ) )\n",
    "df5['cidade_vendedor'] = te.fit_transform(df5['cidade_vendedor'],df5['preco'])\n",
    "pickle.dump( te, open( 'cidade_vendedor_encoding', 'wb' ) )\n",
    "df5['estado_vendedor'] = te.fit_transform(df5['estado_vendedor'],df5['preco'])\n",
    "pickle.dump( te, open( 'estado_vendedor_encoding', 'wb' ) )\n",
    "df5['modelo'] = te.fit_transform(df5['modelo'], df5['preco'])\n",
    "pickle.dump( te, open( 'modelo_encoding_te', 'wb' ) )"
   ]
  },
  {
   "cell_type": "markdown",
   "metadata": {
    "cell_id": "00036-16837e5b-dc8b-45b5-a00d-2bdc6682b5ac",
    "deepnote_cell_type": "text-cell-h2",
    "formattedRanges": [],
    "is_collapsed": false,
    "tags": []
   },
   "source": [
    "## 5.2. Normalização"
   ]
  },
  {
   "cell_type": "markdown",
   "metadata": {
    "cell_id": "00037-6f2b5a4d-0ccf-4b0f-8980-7c9401ce7c8a",
    "deepnote_cell_type": "text-cell-h2",
    "formattedRanges": [],
    "is_collapsed": false,
    "tags": []
   },
   "source": [
    "## 5.3. Rescaling"
   ]
  },
  {
   "cell_type": "code",
   "execution_count": null,
   "metadata": {
    "ExecuteTime": {
     "end_time": "2022-08-21T20:17:47.232438Z",
     "start_time": "2022-08-21T20:17:47.221443Z"
    },
    "cell_id": "00038-7040c5eb-a97f-47f0-bb25-9644d0394069",
    "deepnote_cell_height": 76,
    "deepnote_cell_type": "code",
    "deepnote_to_be_reexecuted": false,
    "execution_millis": 6,
    "execution_start": 1661251467862,
    "source_hash": "b623e53d",
    "tags": []
   },
   "outputs": [],
   "source": []
  },
  {
   "cell_type": "markdown",
   "metadata": {
    "cell_id": "00039-39483c9f-e55b-433f-9597-89b61a281873",
    "deepnote_cell_type": "text-cell-h2",
    "formattedRanges": [],
    "is_collapsed": false,
    "tags": []
   },
   "source": [
    "## 5.4. Transformação"
   ]
  },
  {
   "cell_type": "code",
   "execution_count": null,
   "metadata": {
    "ExecuteTime": {
     "end_time": "2022-08-21T20:17:47.564251Z",
     "start_time": "2022-08-21T20:17:47.542251Z"
    },
    "cell_id": "00040-220cb596-56b7-43e4-93b1-d034c058e227",
    "deepnote_cell_height": 76,
    "deepnote_cell_type": "code",
    "deepnote_to_be_reexecuted": false,
    "execution_millis": 7,
    "execution_start": 1661251467880,
    "source_hash": "f5b0bdfa",
    "tags": []
   },
   "outputs": [],
   "source": [
    "df5['preco'] = np.log1p(df5['preco'])"
   ]
  },
  {
   "cell_type": "markdown",
   "metadata": {
    "cell_id": "00041-d6b9423d-3743-4fe1-997e-a55a39148704",
    "deepnote_cell_type": "text-cell-h1",
    "formattedRanges": [],
    "is_collapsed": false,
    "tags": []
   },
   "source": [
    "# 6.0. FEATURE SELECTION"
   ]
  },
  {
   "cell_type": "code",
   "execution_count": null,
   "metadata": {
    "ExecuteTime": {
     "end_time": "2022-08-21T20:17:47.907368Z",
     "start_time": "2022-08-21T20:17:47.870369Z"
    },
    "cell_id": "00042-81ce4c4e-e290-4ee5-bd27-b9aed2832897",
    "deepnote_cell_height": 76,
    "deepnote_cell_type": "code",
    "deepnote_to_be_reexecuted": false,
    "execution_millis": 6,
    "execution_start": 1661251467887,
    "source_hash": "6d0f2aa",
    "tags": []
   },
   "outputs": [],
   "source": [
    "df6 = df5.copy()"
   ]
  },
  {
   "cell_type": "markdown",
   "metadata": {
    "cell_id": "00043-c053fd12-dd4c-42ff-80bb-782a9feb3083",
    "deepnote_cell_type": "text-cell-h2",
    "formattedRanges": [],
    "is_collapsed": false,
    "tags": []
   },
   "source": [
    "## 6.1. Manual Selection"
   ]
  },
  {
   "cell_type": "markdown",
   "metadata": {
    "cell_id": "00044-b2fdc4b6-b4f9-451a-ba52-71746788110d",
    "deepnote_cell_type": "text-cell-h2",
    "formattedRanges": [],
    "is_collapsed": false,
    "tags": []
   },
   "source": [
    "## 6.2. Feature Importance"
   ]
  },
  {
   "cell_type": "code",
   "execution_count": null,
   "metadata": {
    "ExecuteTime": {
     "end_time": "2022-08-21T20:17:48.235248Z",
     "start_time": "2022-08-21T20:17:48.224818Z"
    },
    "cell_id": "00045-dce934ef-c053-4356-9103-5bdaebe6dda3",
    "deepnote_cell_height": 184,
    "deepnote_cell_type": "code",
    "deepnote_output_heights": [
     59.390625
    ],
    "deepnote_to_be_reexecuted": false,
    "execution_millis": 2,
    "execution_start": 1661251467893,
    "source_hash": "a7ac094",
    "tags": []
   },
   "outputs": [],
   "source": [
    "# # model\n",
    "# forest = en.ExtraTreesRegressor( n_estimators=250, random_state=0, n_jobs=-1 )\n",
    "\n",
    "# # training\n",
    "# x_train_fselection = df6.drop( ['preco'], axis=1 )\n",
    "# y_train_fselection = df6['preco'].values\n",
    "# forest.fit( x_train_fselection, y_train_fselection )"
   ]
  },
  {
   "cell_type": "code",
   "execution_count": null,
   "metadata": {
    "ExecuteTime": {
     "end_time": "2022-08-21T20:17:48.621986Z",
     "start_time": "2022-08-21T20:17:48.61199Z"
    },
    "cell_id": "00046-a18fbd94-03a4-4d56-925b-5574da31fae0",
    "deepnote_cell_height": 441,
    "deepnote_cell_type": "code",
    "deepnote_output_heights": [
     null,
     320
    ],
    "deepnote_to_be_reexecuted": false,
    "execution_millis": 11,
    "execution_start": 1661251467895,
    "source_hash": "1c5cff5c",
    "tags": []
   },
   "outputs": [],
   "source": [
    "# importances = forest.feature_importances_\n",
    "# std = np.std( [tree.feature_importances_ for tree in forest.estimators_], axis=0 )\n",
    "# indices = np.argsort( importances )[::-1]\n",
    "\n",
    "# # print the feature ranking\n",
    "# df = pd.DataFrame()\n",
    "\n",
    "# print( 'Feature Ranking:\\n' )\n",
    "# for i, j in zip( x_train_fselection,forest.feature_importances_ ):\n",
    "#     aux = pd.DataFrame( {'feature': i, 'importance': j}, index=[0] )\n",
    "#     df = pd.concat( [df, aux], axis=0 )\n",
    "    \n",
    "# print( df.sort_values( 'importance', ascending=False ) ) \n",
    "\n",
    "# # plot the impurity-based feature importances of the forest\n",
    "# plt.figure(figsize=(10,5))\n",
    "# plt.title( 'Feature importances' )\n",
    "# plt.bar( range( x_train_fselection.shape[1] ), importances[indices], color='r', yerr=std[indices], align='center' )\n",
    "# plt.xticks( range(x_train_fselection.shape[1]), indices )\n",
    "# plt.xlim( [-1, x_train_fselection.shape[1]] )\n",
    "# plt.show()"
   ]
  },
  {
   "cell_type": "markdown",
   "metadata": {
    "cell_id": "00050-e1723938-96d8-4e52-8ebf-5b5f5c8bc862",
    "deepnote_cell_type": "text-cell-h1",
    "formattedRanges": [],
    "is_collapsed": false,
    "tags": []
   },
   "source": [
    "# 7.0. MACHINE LEARNING MODELLING"
   ]
  },
  {
   "cell_type": "code",
   "execution_count": null,
   "metadata": {
    "cell_id": "72e92736de5b41eebb95909b98307b00",
    "deepnote_cell_height": 76,
    "deepnote_cell_type": "code",
    "deepnote_to_be_reexecuted": false,
    "execution_millis": 32,
    "execution_start": 1661251467906,
    "source_hash": "8a565ece",
    "tags": []
   },
   "outputs": [],
   "source": [
    "df7 = df6.copy()"
   ]
  },
  {
   "cell_type": "code",
   "execution_count": null,
   "metadata": {
    "ExecuteTime": {
     "end_time": "2022-08-21T20:17:50.323126Z",
     "start_time": "2022-08-21T20:17:50.283895Z"
    },
    "cell_id": "00051-4b9eaf56-a576-4950-a717-4689d83e3f6e",
    "deepnote_cell_height": 130,
    "deepnote_cell_type": "code",
    "deepnote_to_be_reexecuted": false,
    "execution_millis": 31,
    "execution_start": 1661251467945,
    "source_hash": "e6abd428",
    "tags": []
   },
   "outputs": [],
   "source": [
    "X = df7.drop(columns=['preco'])\n",
    "Y = df7['preco'].copy()\n",
    "\n",
    "X_train, X_val, y_train, y_val = ms.train_test_split( X, Y, test_size=0.2, random_state=42 )"
   ]
  },
  {
   "cell_type": "markdown",
   "metadata": {
    "cell_id": "00052-d3e26fb4-e029-418e-b6e9-1474328d050c",
    "deepnote_cell_type": "text-cell-h2",
    "formattedRanges": [],
    "is_collapsed": false,
    "tags": []
   },
   "source": [
    "## 7.1. Linear Regression"
   ]
  },
  {
   "cell_type": "code",
   "execution_count": null,
   "metadata": {
    "ExecuteTime": {
     "end_time": "2022-08-21T20:17:51.075162Z",
     "start_time": "2022-08-21T20:17:50.823728Z"
    },
    "cell_id": "00053-7ab0bef3-a86c-4f25-99e5-d0d3bbbc92b5",
    "deepnote_cell_height": 370,
    "deepnote_cell_type": "code",
    "deepnote_output_heights": [
     605.1875
    ],
    "deepnote_to_be_reexecuted": false,
    "execution_millis": 183,
    "execution_start": 1661251467989,
    "source_hash": "d49d0e0f",
    "tags": []
   },
   "outputs": [],
   "source": [
    "# model training\n",
    "lr = LinearRegression().fit( X_train, y_train )\n",
    "\n",
    "# prediction\n",
    "yhat_lr = lr.predict( X_val )\n",
    "\n",
    "# performance (error)\n",
    "lr_results = ml_error( 'Linear Regression', np.expm1( y_val ) , np.expm1( yhat_lr ) )\n",
    "lr_results"
   ]
  },
  {
   "cell_type": "markdown",
   "metadata": {
    "cell_id": "00054-92969cfe-020e-40ce-9817-40cd9d3ebac8",
    "deepnote_cell_type": "text-cell-h3",
    "formattedRanges": [],
    "is_collapsed": false,
    "tags": []
   },
   "source": [
    "### 7.1.1. Cross Validation"
   ]
  },
  {
   "cell_type": "markdown",
   "metadata": {
    "cell_id": "00056-cd626023-4c05-43ff-adf2-c313292e4852",
    "deepnote_cell_type": "text-cell-h2",
    "formattedRanges": [],
    "is_collapsed": false,
    "tags": []
   },
   "source": [
    "## 7.3. Random Forest Regressor"
   ]
  },
  {
   "cell_type": "code",
   "execution_count": null,
   "metadata": {
    "ExecuteTime": {
     "end_time": "2022-08-21T20:18:01.887647Z",
     "start_time": "2022-08-21T20:17:51.894425Z"
    },
    "cell_id": "00057-3289f0da-5796-499d-8783-4398f4a9882b",
    "deepnote_cell_height": 370,
    "deepnote_cell_type": "code",
    "deepnote_output_heights": [
     60
    ],
    "deepnote_to_be_reexecuted": false,
    "execution_millis": 37507,
    "execution_start": 1661251468179,
    "source_hash": "e86c8681",
    "tags": []
   },
   "outputs": [],
   "source": [
    "# model\n",
    "rf = RandomForestRegressor( n_estimators=150, n_jobs=-1, random_state=42 ).fit( X_train, y_train )\n",
    "\n",
    "# prediction\n",
    "yhat_rf = rf.predict( X_val )\n",
    "\n",
    "# performance\n",
    "rf_results = ml_error( 'Random Forest Regressor', np.expm1(y_val), np.expm1(yhat_rf) )\n",
    "rf_results"
   ]
  },
  {
   "cell_type": "markdown",
   "metadata": {
    "cell_id": "00058-e5f9f502-b2b8-4f97-baeb-6966cc35f0da",
    "deepnote_cell_type": "text-cell-h3",
    "formattedRanges": [],
    "is_collapsed": false,
    "tags": []
   },
   "source": [
    "### 7.3.1. Cross Validation"
   ]
  },
  {
   "cell_type": "markdown",
   "metadata": {
    "cell_id": "00060-2acb437c-22fe-4b04-a35f-2d2fb4cf4bfc",
    "deepnote_cell_type": "text-cell-h2",
    "formattedRanges": [],
    "is_collapsed": false,
    "tags": []
   },
   "source": [
    "## 7.5. XGBoost Regressor"
   ]
  },
  {
   "cell_type": "code",
   "execution_count": null,
   "metadata": {
    "ExecuteTime": {
     "end_time": "2022-08-21T20:18:11.452112Z",
     "start_time": "2022-08-21T20:18:01.891644Z"
    },
    "cell_id": "00061-0b383360-cecf-46c5-a181-88f58714d654",
    "deepnote_cell_height": 370,
    "deepnote_cell_type": "code",
    "deepnote_output_heights": [
     null,
     60
    ],
    "deepnote_to_be_reexecuted": false,
    "execution_millis": 27680,
    "execution_start": 1661251515241,
    "source_hash": "45169da5",
    "tags": []
   },
   "outputs": [],
   "source": [
    "# model\n",
    "model_xgb = xgb.XGBRegressor( n_estimators=400 ).fit( X_train, y_train )\n",
    "\n",
    "# prediction\n",
    "yhat_xgb = model_xgb.predict( X_val )\n",
    "\n",
    "# performance\n",
    "model_xgb_results = ml_error( 'XGBoost Regressor',  np.expm1(y_val), np.expm1(yhat_xgb) )\n",
    "model_xgb_results"
   ]
  },
  {
   "cell_type": "markdown",
   "metadata": {
    "cell_id": "00062-d5a047ed-f07b-437f-adc5-005335a88de5",
    "deepnote_cell_type": "text-cell-h3",
    "formattedRanges": [],
    "is_collapsed": false,
    "tags": []
   },
   "source": [
    "### 7.5.1. Cross Validation"
   ]
  },
  {
   "cell_type": "markdown",
   "metadata": {
    "cell_id": "00064-897e4016-3419-4a86-bd13-f40feb96e664",
    "deepnote_cell_type": "text-cell-h2",
    "formattedRanges": [],
    "is_collapsed": false,
    "tags": []
   },
   "source": [
    "## 7.6. LightGBM"
   ]
  },
  {
   "cell_type": "code",
   "execution_count": null,
   "metadata": {
    "ExecuteTime": {
     "end_time": "2022-08-21T20:18:28.553623Z",
     "start_time": "2022-08-21T20:18:21.092538Z"
    },
    "cell_id": "00065-3fcd1ade-fd2c-4d65-aa8c-df30c7d4591e",
    "deepnote_cell_height": 424,
    "deepnote_cell_type": "code",
    "deepnote_to_be_reexecuted": false,
    "execution_millis": 22554,
    "execution_start": 1661251542946,
    "source_hash": "dc9ec5a0",
    "tags": []
   },
   "outputs": [],
   "source": [
    "# model\n",
    "model_lgb = lgb.LGBMRegressor(n_jobs=-1, random_state=42, subsample_freq=1, max_bin=500,\n",
    "                              n_estimators=1181, max_depth=10, learning_rate=0.01027, \n",
    "                              num_leaves=128, min_child_samples=1, subsample=0.92676, \n",
    "                              colsample_bytree=0.68369).fit( X_train, y_train )\n",
    "\n",
    "# prediction\n",
    "yhat_lgb = model_lgb.predict( X_val )\n",
    "\n",
    "# performance\n",
    "model_lgb_results = ml_error( 'LightGBM Regressor',  np.expm1(y_val), np.expm1(yhat_lgb) )\n",
    "model_lgb_results"
   ]
  },
  {
   "cell_type": "markdown",
   "metadata": {
    "cell_id": "db1ae34062264c748b7c3d847584962c",
    "deepnote_cell_type": "text-cell-h3",
    "formattedRanges": [],
    "is_collapsed": false,
    "tags": []
   },
   "source": [
    "### 7.6.1. Cross Validation"
   ]
  },
  {
   "cell_type": "code",
   "execution_count": null,
   "metadata": {
    "cell_id": "01bd5eb331b14c6097e716818f5fe731",
    "deepnote_cell_height": 345.1875,
    "deepnote_cell_type": "code",
    "deepnote_output_heights": [
     null,
     20.1875
    ],
    "deepnote_to_be_reexecuted": false,
    "execution_millis": 98531,
    "execution_start": 1661251565507,
    "source_hash": "1f74c70",
    "tags": []
   },
   "outputs": [],
   "source": [
    "# model_lgb = lgb.LGBMRegressor(n_jobs=-1, random_state=42, subsample_freq=1, max_bin=500,\n",
    "#                               n_estimators=1181, max_depth=10, learning_rate=0.01027, \n",
    "#                               num_leaves=128, min_child_samples=1, subsample=0.92676, \n",
    "#                               colsample_bytree=0.68369)\n",
    "# x = pd.concat([X_train, X_val])\n",
    "# y = pd.concat([y_train, y_val])\n",
    "  \n",
    "# kf = KFold(n_splits=5, random_state=42, shuffle=True)    \n",
    "# mae_cv = cross_val_score(model_lgb, x, np.expm1(y), scoring='neg_mean_absolute_error', cv=kf.split(x), n_jobs=-1, verbose=1)*-1\n",
    "# np.mean(mae_cv)"
   ]
  },
  {
   "cell_type": "markdown",
   "metadata": {
    "cell_id": "a6cdbfd74a0b48cbb0a55965671630e6",
    "deepnote_cell_type": "text-cell-h1",
    "formattedRanges": [],
    "is_collapsed": false,
    "tags": []
   },
   "source": [
    "# 8.0 Fine Tuning"
   ]
  },
  {
   "cell_type": "markdown",
   "metadata": {
    "cell_id": "759ec8715cfd42259508f00f7732a3d5",
    "deepnote_cell_type": "text-cell-h2",
    "formattedRanges": [],
    "is_collapsed": false,
    "tags": []
   },
   "source": [
    "## 8.1. Bayesian"
   ]
  },
  {
   "cell_type": "code",
   "execution_count": null,
   "metadata": {
    "cell_id": "e39788a877e4433e96d7b07372f89ff9",
    "deepnote_cell_height": 603,
    "deepnote_cell_type": "code",
    "deepnote_to_be_reexecuted": true,
    "source_hash": "7d589e9b",
    "tags": []
   },
   "outputs": [],
   "source": [
    "# # Search space for hyper parameters\n",
    "# search_space = [Integer( 100, 1500, name = 'n_estimators'), \n",
    "#                 Integer(1, 20, name = 'max_depth'), \n",
    "#                 Real(0.001, 0.1, 'log-uniform', name = 'learning_rate'),\n",
    "#                 Integer(2, 128, name = 'num_leaves'),\n",
    "#                 Integer(1, 100, name = 'min_child_samples'),\n",
    "#                 Real(0.05, 1.0, name = 'subsample'),\n",
    "#                 Real(0.15, 1.0, name = 'colsample_bytree')]\n",
    "\n",
    "# # model definition\n",
    "# lgbm_model = LGBMRegressor(n_jobs=-1, random_state=42, subsample_freq=1)\n",
    "\n",
    "# # applying cross-validation into tunning\n",
    "# @use_named_args(search_space)\n",
    "# def model_eval( **params ):\n",
    "\t\n",
    "#     lgbm_model.set_params(**params)\n",
    "#     print(lgbm_model)\n",
    "#     kf = KFold(n_splits=10, random_state=42, shuffle=True)  \n",
    "#     ft_result = cross_val_score(lgbm_model, x, np.expm1(y), scoring='neg_mean_absolute_error', cv=kf.split(x), n_jobs=-1, verbose=1)*-1\n",
    "#     return np.mean(ft_result)\n",
    "\n",
    "# # create checkpoints\n",
    "# checkpoint_callback = CheckpointSaver('lgbm_ft.pkl')\n",
    "\n",
    "# # return results and run bayesian optimize\n",
    "# result = gp_minimize( model_eval, search_space, n_calls = 300, \n",
    "#                       n_initial_points = 10, verbose=True, n_jobs=-1, \n",
    "#                       random_state= 42, callback=[checkpoint_callback])\n",
    "# result"
   ]
  },
  {
   "cell_type": "code",
   "execution_count": null,
   "metadata": {
    "cell_id": "19a75056859440d8bd41940bdc1215cc",
    "deepnote_cell_height": 76,
    "deepnote_cell_type": "code",
    "deepnote_to_be_reexecuted": true,
    "source_hash": "2881d7c1",
    "tags": []
   },
   "outputs": [],
   "source": [
    "# result.x"
   ]
  },
  {
   "cell_type": "code",
   "execution_count": null,
   "metadata": {
    "cell_id": "754bb4ef4d2547308601e7f71d3cc21f",
    "deepnote_cell_height": 310,
    "deepnote_cell_type": "code",
    "deepnote_to_be_reexecuted": true,
    "source_hash": "a1892b86",
    "tags": []
   },
   "outputs": [],
   "source": [
    "# # final model\n",
    "\n",
    "# # model\n",
    "# model_lgb = lgb.LGBMRegressor(n_jobs=-1, random_state=42, subsample_freq=1, max_bin=500,\n",
    "#                               n_estimators=1181, max_depth=10, learning_rate=0.01027, \n",
    "#                               num_leaves=128, min_child_samples=1, subsample=0.92676, \n",
    "#                               colsample_bytree=0.68369).fit( X_train, y_train )\n",
    "\n",
    "# # prediction\n",
    "# yhat_lgb = model_lgb.predict( X_val )\n",
    "\n",
    "# # performance\n",
    "# model_lgb_results = ml_error( 'LightGBM Regressor',  np.expm1(y_val), np.expm1(yhat_lgb) )\n",
    "# model_lgb_results"
   ]
  },
  {
   "cell_type": "markdown",
   "metadata": {
    "cell_id": "3d36c4fd65df4f5f8c2a2ddbb125d658",
    "deepnote_cell_type": "text-cell-h2",
    "formattedRanges": [],
    "is_collapsed": false,
    "tags": []
   },
   "source": [
    "## GridSearchCV"
   ]
  },
  {
   "cell_type": "code",
   "execution_count": null,
   "metadata": {
    "cell_id": "34b7b66ee16140eba1a2c7ac699ca005",
    "deepnote_cell_height": 76,
    "deepnote_cell_type": "code",
    "deepnote_to_be_reexecuted": true,
    "source_hash": "385c9dff",
    "tags": []
   },
   "outputs": [],
   "source": [
    "# from sklearn.model_selection import GridSearchCV"
   ]
  },
  {
   "cell_type": "code",
   "execution_count": null,
   "metadata": {
    "cell_id": "dd305b4198ac418b98d0decf0b62a1ac",
    "deepnote_cell_height": 256,
    "deepnote_cell_type": "code",
    "deepnote_to_be_reexecuted": true,
    "source_hash": "4c8d107b",
    "tags": []
   },
   "outputs": [],
   "source": [
    "# param={'max_bin':[150,200,250],\n",
    "#         'num_leaves':[20,25,30],\n",
    "#         'min_sum_hessian_in_leaf':[0.01,0.1],\n",
    "#         'min_data_in_leaf':[10,15,20],\n",
    "#         #'bagging_fraction':[1,2],\n",
    "#         #'bagging_freq':[1,2],\n",
    "#         'feature_fraction':[0.8,0.4]}\n",
    "\n",
    "# pre_param={'max_bin':[150,200,250]}\n",
    "\n",
    "# kf=KFold(n_splits=5,shuffle=True,random_state=42)"
   ]
  },
  {
   "cell_type": "code",
   "execution_count": null,
   "metadata": {
    "cell_id": "7dfbf5bfa6ed495e947d10c99a3b4d62",
    "deepnote_cell_height": 184,
    "deepnote_cell_type": "code",
    "deepnote_to_be_reexecuted": true,
    "source_hash": "fed4fa0d",
    "tags": []
   },
   "outputs": [],
   "source": [
    "# gs = GridSearchCV(model_lgb, param_grid=param, cv=kf.split(X), scoring='neg_mean_absolute_error')\n",
    "# gs.fit(X,np.expm1(Y))\n",
    "\n",
    "# maet = mean_absolute_error(np.expm1(y_train), gs.predict(X_train))\n",
    "# mae = mean_absolute_error(np.expm1(y_val), gs.predict(X_val))\n",
    "\n",
    "# print(f'MAE train set: {maet}, MAE test set: {mae}')"
   ]
  },
  {
   "cell_type": "code",
   "execution_count": null,
   "metadata": {
    "cell_id": "12c5187cfee34a819d67f01cb60ac70c",
    "deepnote_cell_height": 76,
    "deepnote_cell_type": "code",
    "deepnote_to_be_reexecuted": true,
    "source_hash": "b361d7e3",
    "tags": []
   },
   "outputs": [],
   "source": [
    "# gs.best_params_"
   ]
  },
  {
   "cell_type": "markdown",
   "metadata": {
    "cell_id": "057a0ce3f8a54911a3cfebca0f233a6d",
    "deepnote_cell_type": "text-cell-h1",
    "formattedRanges": [],
    "is_collapsed": false,
    "tags": []
   },
   "source": [
    "# 9.0. Production Model"
   ]
  },
  {
   "cell_type": "code",
   "execution_count": null,
   "metadata": {
    "ExecuteTime": {
     "end_time": "2022-08-21T20:19:02.091111Z",
     "start_time": "2022-08-21T20:18:54.406841Z"
    },
    "cell_id": "00067-cc0b23de-7783-474e-bd34-5ff23e30f30f",
    "deepnote_cell_height": 261,
    "deepnote_cell_type": "code",
    "deepnote_to_be_reexecuted": true,
    "source_hash": "71a982b5"
   },
   "outputs": [],
   "source": [
    "# # join dfs\n",
    "# Full_X_train = pd.concat( [X_train, X_val], axis=0 )\n",
    "# Full_Y_train = pd.concat( [y_train, y_val], axis=0 )\n",
    "\n",
    "# # model\n",
    "# model_lgb_full = lgb.LGBMRegressor( n_jobs=-1, random_state=42, subsample_freq=1, max_bin=500,\n",
    "#                               n_estimators=1181, max_depth=10, learning_rate=0.01027, \n",
    "#                               num_leaves=128, min_child_samples=1, subsample=0.92676, \n",
    "#                               colsample_bytree=0.68369 ).fit( Full_X_train, Full_Y_train )\n",
    "# # saving trained model\n",
    "# pickle.dump( model_lgb_full, open( '/Users/mathe/Repos_ComunidadeDS/mobility_cars_hackday/mobility_cars_lgb.pkl', 'wb' ) )"
   ]
  },
  {
   "cell_type": "markdown",
   "metadata": {
    "created_in_deepnote_cell": true,
    "deepnote_cell_type": "markdown",
    "tags": []
   },
   "source": [
    "<a style='text-decoration:none;line-height:16px;display:flex;color:#5B5B62;padding:10px;justify-content:end;' href='https://deepnote.com?utm_source=created-in-deepnote-cell&projectId=3039c7b4-bcc6-4ef2-8633-383a22ac2c90' target=\"_blank\">\n",
    "<img alt='Created in deepnote.com' style='display:inline;max-height:16px;margin:0px;margin-right:7.5px;' src='data:image/svg+xml;base64,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' > </img>\n",
    "Created in <span style='font-weight:600;margin-left:4px;'>Deepnote</span></a>"
   ]
  }
 ],
 "metadata": {
  "kernelspec": {
   "display_name": "Python 3 (ipykernel)",
   "language": "python",
   "name": "python3"
  },
  "language_info": {
   "codemirror_mode": {
    "name": "ipython",
    "version": 3
   },
   "file_extension": ".py",
   "mimetype": "text/x-python",
   "name": "python",
   "nbconvert_exporter": "python",
   "pygments_lexer": "ipython3",
   "version": "3.9.7"
  }
 },
 "nbformat": 4,
 "nbformat_minor": 4
}
